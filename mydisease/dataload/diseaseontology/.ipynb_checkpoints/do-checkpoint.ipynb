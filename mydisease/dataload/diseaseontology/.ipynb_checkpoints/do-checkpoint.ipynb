{
 "cells": [
  {
   "cell_type": "code",
   "execution_count": 39,
   "metadata": {
    "collapsed": true
   },
   "outputs": [],
   "source": [
    "import re\n",
    "from itertools import chain\n",
    "import networkx\n",
    "import requests\n",
    "from mydisease.utils import read_obo\n",
    "from networkx.readwrite import json_graph\n",
    "import json\n",
    "from collections import defaultdict\n",
    "from typing import List\n",
    "\n",
    "from pymongo import MongoClient\n",
    "client = MongoClient()\n",
    "db = client.mydisease.DO"
   ]
  },
  {
   "cell_type": "code",
   "execution_count": 58,
   "metadata": {
    "collapsed": false
   },
   "outputs": [
    {
     "data": {
      "text/plain": [
       "['MESH:D006954',\n",
       " 'SNOMEDCT_US_2016_03_01:190781009',\n",
       " 'SNOMEDCT_US_2016_03_01:34349009',\n",
       " 'UMLS_CUI:C0020481']"
      ]
     },
     "execution_count": 58,
     "metadata": {},
     "output_type": "execute_result"
    }
   ],
   "source": [
    "def graph_to_d(graph):\n",
    "    \"\"\"\n",
    "\n",
    "    :param graph: A networkx graph made from reading ontology\n",
    "    :type graph: networkx.classes.multidigraph.MultiDiGraph\n",
    "    :return:\n",
    "    \"\"\"\n",
    "    node_link_data = json_graph.node_link_data(graph)\n",
    "    nodes = node_link_data['nodes']\n",
    "\n",
    "    idx_id = {idx: node['id'] for idx,node in enumerate(nodes)}\n",
    "    for link in node_link_data['links']:\n",
    "        # store the edges (links) within the graph\n",
    "        key = link['key']\n",
    "        source = link['source']\n",
    "        target = link['target']\n",
    "\n",
    "        if key not in nodes[source]:\n",
    "            nodes[source][key] = set()\n",
    "        nodes[source][key].add(idx_id[target])\n",
    "\n",
    "    # for mongo insertion\n",
    "    for node in nodes:\n",
    "        node['_id'] = node['id']\n",
    "        del node['id']\n",
    "        for k,v in node.items():\n",
    "            if isinstance(v, set):\n",
    "                node[k] = list(v)\n",
    "    d = {node['_id']: node for node in nodes}\n",
    "\n",
    "    return d\n",
    "\n",
    "\n",
    "def parse_synonym(line: str):\n",
    "    # line = \"synonym: \\\"The other white meat\\\" EXACT MARKETING_SLOGAN [MEAT:00324, BACONBASE:03021]\"\n",
    "    return line[line.index(\"\\\"\")+1:line.rindex(\"\\\"\")] if line.count(\"\\\"\") == 2 else line\n",
    "\n",
    "\n",
    "def parse_def(line: str):\n",
    "    # line = \"\\\"A description.\\\" [url:http\\://www.ncbi.goc/123, url:http\\://www.ncbi.nlm.nih.gov/pubmed/15318016]\"\n",
    "    definition = line[line.index(\"\\\"\")+1:line.rindex(\"\\\"\")] if line.count(\"\\\"\") == 2 else line\n",
    "    if line.endswith(\"]\") and line.count(\"[\"):\n",
    "        left_bracket = [m.start() for m in re.finditer('\\[', line)]\n",
    "        right_bracket = [m.start() for m in re.finditer('\\]', line)]\n",
    "        endliststr = line[left_bracket[-1]+1:right_bracket[-1]-1]\n",
    "        endlist = [x.strip() for x in endliststr.split(\", \")]\n",
    "        return definition, endlist\n",
    "    else:\n",
    "        return definition, None\n",
    "\n",
    "def parse_xref(xrefs: List[str]):\n",
    "    xrefs = [x for x in xrefs if \":\" in x]\n",
    "    for n,xref in enumerate(xrefs):\n",
    "        if xref.startswith(\"MSH:\"):\n",
    "            xrefs[n] = xref.replace(\"MSH:\", \"MESH:\")\n",
    "        if xref.startswith(\"MeSH:\"):\n",
    "            xrefs[n] = xref.replace(\"MeSH:\", \"MESH:\")\n",
    "    return xrefs\n",
    "\n",
    "parse_xref(['MSH:D006954',  'SNOMEDCT_US_2016_03_01:190781009',  'SNOMEDCT_US_2016_03_01:34349009',  'UMLS_CUI:C0020481'])"
   ]
  },
  {
   "cell_type": "code",
   "execution_count": 59,
   "metadata": {
    "collapsed": false
   },
   "outputs": [],
   "source": [
    "\"\"\"\n",
    "url = \"http://purl.obolibrary.org/obo/doid.obo\"\n",
    "r = requests.get(url)\n",
    "graph = read_obo(r.text.splitlines())\n",
    "\"\"\"\n",
    "graph = read_obo(open(\"/home/gstupp/projects/biothings/mydisease/mydisease/data/doid.obo\").readlines())\n",
    "d = graph_to_d(graph)\n",
    "\n",
    "for value in d.values():\n",
    "    if 'xref' in value:\n",
    "        value['xref'] = parse_xref(value['xref'])\n",
    "    if 'synonym' in value:\n",
    "        value['synonym'] = list(map(parse_synonym, value['synonym']))\n",
    "    if 'def' in value:\n",
    "        value['def'],ref = parse_def(value['def'])\n",
    "        if ref:\n",
    "            value['def_ref'] = ref"
   ]
  },
  {
   "cell_type": "code",
   "execution_count": 60,
   "metadata": {
    "collapsed": false
   },
   "outputs": [
    {
     "data": {
      "text/plain": [
       "{'_id': 'DOID:1171',\n",
       " 'comment': 'OMIM mapping confirmed by DO. [SN].',\n",
       " 'is_a': ['DOID:1168'],\n",
       " 'name': 'hyperlipoproteinemia type V',\n",
       " 'synonym': ['familial hyperlipoproteinemia type V',\n",
       "  'familial type 5 hyperlipoproteinemia (disorder)',\n",
       "  'Fredrickson type V lipaemia'],\n",
       " 'xref': ['MESH:D006954',\n",
       "  'NCI:C35645',\n",
       "  'OMIM:144650',\n",
       "  'SNOMEDCT_US_2016_03_01:190781009',\n",
       "  'SNOMEDCT_US_2016_03_01:34349009',\n",
       "  'UMLS_CUI:C0020481']}"
      ]
     },
     "execution_count": 60,
     "metadata": {},
     "output_type": "execute_result"
    }
   ],
   "source": [
    "d['DOID:1171']"
   ]
  },
  {
   "cell_type": "code",
   "execution_count": 63,
   "metadata": {
    "collapsed": false
   },
   "outputs": [
    {
     "data": {
      "text/plain": [
       "[('SNOMEDCT_US_2016_03_01', 12445),\n",
       " ('UMLS_CUI', 6474),\n",
       " ('NCI', 4566),\n",
       " ('OMIM', 3815),\n",
       " ('ICD10CM', 3117),\n",
       " ('MESH', 2958),\n",
       " ('ICD9CM', 2624),\n",
       " ('ORDO', 520),\n",
       " ('EFO', 131),\n",
       " ('CSP', 39),\n",
       " ('KEGG', 39),\n",
       " ('url', 36),\n",
       " ('HP', 31),\n",
       " ('NCI2009_04D', 30),\n",
       " ('SNOMEDCT', 14),\n",
       " ('MEDDRA', 11),\n",
       " ('EFOpat_id', 10),\n",
       " ('SNOMEDCT_US_2015_03_01', 7),\n",
       " ('ICD10', 5),\n",
       " ('Orphanet', 4),\n",
       " ('CTV3', 3),\n",
       " ('OMM', 2),\n",
       " ('MTH', 1),\n",
       " ('NDFRT', 1),\n",
       " ('UMLS', 1),\n",
       " ('WHO', 1),\n",
       " ('NORD', 1),\n",
       " ('DERMO', 1),\n",
       " ('IC10CM', 1),\n",
       " ('ICD9', 1)]"
      ]
     },
     "execution_count": 63,
     "metadata": {},
     "output_type": "execute_result"
    }
   ],
   "source": [
    "from collections import Counter\n",
    "Counter([x.split(\":\")[0] for x in chain(*[x.get('xref',[]) for x in d.values()])]).most_common(100)"
   ]
  },
  {
   "cell_type": "code",
   "execution_count": 65,
   "metadata": {
    "collapsed": false
   },
   "outputs": [
    {
     "data": {
      "text/plain": [
       "<pymongo.results.InsertManyResult at 0x7ff53b2827e0>"
      ]
     },
     "execution_count": 65,
     "metadata": {},
     "output_type": "execute_result"
    }
   ],
   "source": [
    "db.insert_many(d.values())"
   ]
  },
  {
   "cell_type": "code",
   "execution_count": 66,
   "metadata": {
    "collapsed": false
   },
   "outputs": [
    {
     "data": {
      "text/plain": [
       "{'_id': 'DOID:1171',\n",
       " 'comment': 'OMIM mapping confirmed by DO. [SN].',\n",
       " 'is_a': ['DOID:1168'],\n",
       " 'name': 'hyperlipoproteinemia type V',\n",
       " 'synonym': ['familial hyperlipoproteinemia type V',\n",
       "  'familial type 5 hyperlipoproteinemia (disorder)',\n",
       "  'Fredrickson type V lipaemia'],\n",
       " 'xref': ['MESH:D006954',\n",
       "  'NCI:C35645',\n",
       "  'OMIM:144650',\n",
       "  'SNOMEDCT_US_2016_03_01:190781009',\n",
       "  'SNOMEDCT_US_2016_03_01:34349009',\n",
       "  'UMLS_CUI:C0020481']}"
      ]
     },
     "execution_count": 66,
     "metadata": {},
     "output_type": "execute_result"
    }
   ],
   "source": [
    "db.find_one()"
   ]
  }
 ],
 "metadata": {
  "kernelspec": {
   "display_name": "Python 3",
   "language": "python",
   "name": "python3"
  },
  "language_info": {
   "codemirror_mode": {
    "name": "ipython",
    "version": 3
   },
   "file_extension": ".py",
   "mimetype": "text/x-python",
   "name": "python",
   "nbconvert_exporter": "python",
   "pygments_lexer": "ipython3",
   "version": "3.5.2"
  }
 },
 "nbformat": 4,
 "nbformat_minor": 0
}
