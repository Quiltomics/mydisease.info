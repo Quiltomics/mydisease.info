{
 "cells": [
  {
   "cell_type": "code",
   "execution_count": 9,
   "metadata": {
    "collapsed": false
   },
   "outputs": [],
   "source": [
    "### Merge\n",
    "\n",
    "from pymongo import MongoClient\n",
    "from collections import Counter"
   ]
  },
  {
   "cell_type": "code",
   "execution_count": 20,
   "metadata": {
    "collapsed": false
   },
   "outputs": [],
   "source": [
    "db_names = ['orphanet','DO','ctdbase', 'disgenet', 'mesh','omim']\n",
    "all_ids = set()\n",
    "for db_name in db_names:\n",
    "    db = MongoClient().mydisease[db_name]\n",
    "    all_ids.update(set([x['_id'] for x in db.find({},{'_id':1})]))"
   ]
  },
  {
   "cell_type": "code",
   "execution_count": 21,
   "metadata": {
    "collapsed": false
   },
   "outputs": [
    {
     "data": {
      "text/plain": [
       "Counter({'DOID': 6971,\n",
       "         'MESH': 6821,\n",
       "         'OMIM': 24891,\n",
       "         'ObsoleteClass': 1,\n",
       "         'Orphanet': 13104})"
      ]
     },
     "execution_count": 21,
     "metadata": {},
     "output_type": "execute_result"
    }
   ],
   "source": [
    "Counter([x.split(\":\",1)[0] for x in all_ids])"
   ]
  },
  {
   "cell_type": "code",
   "execution_count": null,
   "metadata": {
    "collapsed": true
   },
   "outputs": [],
   "source": []
  }
 ],
 "metadata": {
  "kernelspec": {
   "display_name": "Python 3",
   "language": "python",
   "name": "python3"
  },
  "language_info": {
   "codemirror_mode": {
    "name": "ipython",
    "version": 3
   },
   "file_extension": ".py",
   "mimetype": "text/x-python",
   "name": "python",
   "nbconvert_exporter": "python",
   "pygments_lexer": "ipython3",
   "version": "3.5.2"
  }
 },
 "nbformat": 4,
 "nbformat_minor": 0
}
