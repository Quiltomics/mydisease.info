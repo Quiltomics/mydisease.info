{
 "cells": [
  {
   "cell_type": "code",
   "execution_count": 1,
   "metadata": {
    "collapsed": true
   },
   "outputs": [],
   "source": [
    "import pandas as pd\n",
    "from pymongo import MongoClient\n",
    "client = MongoClient()\n",
    "db = client.mydisease.disgenent"
   ]
  },
  {
   "cell_type": "code",
   "execution_count": 2,
   "metadata": {
    "collapsed": false
   },
   "outputs": [],
   "source": [
    "url = \"http://www.disgenet.org/ds/DisGeNET/results/curated_gene_disease_associations.tsv.gz\"\n",
    "df = pd.read_csv(url, sep='\\t', comment='#', compression='gzip')"
   ]
  },
  {
   "cell_type": "code",
   "execution_count": 26,
   "metadata": {
    "collapsed": true
   },
   "outputs": [],
   "source": [
    "df.sourceId = df.sourceId.str.split(\",\")"
   ]
  },
  {
   "cell_type": "code",
   "execution_count": 7,
   "metadata": {
    "collapsed": false
   },
   "outputs": [
    {
     "data": {
      "text/html": [
       "<div>\n",
       "<table border=\"1\" class=\"dataframe\">\n",
       "  <thead>\n",
       "    <tr style=\"text-align: right;\">\n",
       "      <th></th>\n",
       "      <th>diseaseId</th>\n",
       "      <th>geneId</th>\n",
       "      <th>score</th>\n",
       "      <th>geneName</th>\n",
       "      <th>description</th>\n",
       "      <th>diseaseName</th>\n",
       "      <th>sourceId</th>\n",
       "      <th>NofPmids</th>\n",
       "      <th>NofSnps</th>\n",
       "    </tr>\n",
       "  </thead>\n",
       "  <tbody>\n",
       "    <tr>\n",
       "      <th>0</th>\n",
       "      <td>umls:C0000737</td>\n",
       "      <td>3440</td>\n",
       "      <td>0.120000</td>\n",
       "      <td>IFNA2</td>\n",
       "      <td>interferon, alpha 2</td>\n",
       "      <td>Abdominal Pain</td>\n",
       "      <td>CTD_human</td>\n",
       "      <td>1</td>\n",
       "      <td>0</td>\n",
       "    </tr>\n",
       "    <tr>\n",
       "      <th>1</th>\n",
       "      <td>umls:C0000744</td>\n",
       "      <td>4547</td>\n",
       "      <td>0.490868</td>\n",
       "      <td>MTTP</td>\n",
       "      <td>microsomal triglyceride transfer protein</td>\n",
       "      <td>Abetalipoproteinemia</td>\n",
       "      <td>CLINVAR,CTD_human,ORPHANET,UNIPROT</td>\n",
       "      <td>33</td>\n",
       "      <td>5</td>\n",
       "    </tr>\n",
       "    <tr>\n",
       "      <th>2</th>\n",
       "      <td>umls:C0000768</td>\n",
       "      <td>10683</td>\n",
       "      <td>0.121086</td>\n",
       "      <td>DLL3</td>\n",
       "      <td>delta-like 3 (Drosophila)</td>\n",
       "      <td>Congenital Abnormality</td>\n",
       "      <td>CTD_human</td>\n",
       "      <td>4</td>\n",
       "      <td>0</td>\n",
       "    </tr>\n",
       "    <tr>\n",
       "      <th>3</th>\n",
       "      <td>umls:C0000768</td>\n",
       "      <td>1295</td>\n",
       "      <td>0.120000</td>\n",
       "      <td>COL8A1</td>\n",
       "      <td>collagen, type VIII, alpha 1</td>\n",
       "      <td>Congenital Abnormality</td>\n",
       "      <td>CTD_human</td>\n",
       "      <td>1</td>\n",
       "      <td>0</td>\n",
       "    </tr>\n",
       "    <tr>\n",
       "      <th>4</th>\n",
       "      <td>umls:C0000768</td>\n",
       "      <td>1317</td>\n",
       "      <td>0.120000</td>\n",
       "      <td>SLC31A1</td>\n",
       "      <td>solute carrier family 31 (copper transporter),...</td>\n",
       "      <td>Congenital Abnormality</td>\n",
       "      <td>CTD_human</td>\n",
       "      <td>1</td>\n",
       "      <td>0</td>\n",
       "    </tr>\n",
       "  </tbody>\n",
       "</table>\n",
       "</div>"
      ],
      "text/plain": [
       "<div>\n",
       "<table border=\"1\" class=\"dataframe\">\n",
       "  <thead>\n",
       "    <tr style=\"text-align: right;\">\n",
       "      <th></th>\n",
       "      <th>diseaseId</th>\n",
       "      <th>geneId</th>\n",
       "      <th>score</th>\n",
       "      <th>geneName</th>\n",
       "      <th>description</th>\n",
       "      <th>diseaseName</th>\n",
       "      <th>sourceId</th>\n",
       "      <th>NofPmids</th>\n",
       "      <th>NofSnps</th>\n",
       "    </tr>\n",
       "  </thead>\n",
       "  <tbody>\n",
       "    <tr>\n",
       "      <th>0</th>\n",
       "      <td>umls:C0000737</td>\n",
       "      <td>3440</td>\n",
       "      <td>0.120000</td>\n",
       "      <td>IFNA2</td>\n",
       "      <td>interferon, alpha 2</td>\n",
       "      <td>Abdominal Pain</td>\n",
       "      <td>CTD_human</td>\n",
       "      <td>1</td>\n",
       "      <td>0</td>\n",
       "    </tr>\n",
       "    <tr>\n",
       "      <th>1</th>\n",
       "      <td>umls:C0000744</td>\n",
       "      <td>4547</td>\n",
       "      <td>0.490868</td>\n",
       "      <td>MTTP</td>\n",
       "      <td>microsomal triglyceride transfer protein</td>\n",
       "      <td>Abetalipoproteinemia</td>\n",
       "      <td>CLINVAR,CTD_human,ORPHANET,UNIPROT</td>\n",
       "      <td>33</td>\n",
       "      <td>5</td>\n",
       "    </tr>\n",
       "    <tr>\n",
       "      <th>2</th>\n",
       "      <td>umls:C0000768</td>\n",
       "      <td>10683</td>\n",
       "      <td>0.121086</td>\n",
       "      <td>DLL3</td>\n",
       "      <td>delta-like 3 (Drosophila)</td>\n",
       "      <td>Congenital Abnormality</td>\n",
       "      <td>CTD_human</td>\n",
       "      <td>4</td>\n",
       "      <td>0</td>\n",
       "    </tr>\n",
       "    <tr>\n",
       "      <th>3</th>\n",
       "      <td>umls:C0000768</td>\n",
       "      <td>1295</td>\n",
       "      <td>0.120000</td>\n",
       "      <td>COL8A1</td>\n",
       "      <td>collagen, type VIII, alpha 1</td>\n",
       "      <td>Congenital Abnormality</td>\n",
       "      <td>CTD_human</td>\n",
       "      <td>1</td>\n",
       "      <td>0</td>\n",
       "    </tr>\n",
       "    <tr>\n",
       "      <th>4</th>\n",
       "      <td>umls:C0000768</td>\n",
       "      <td>1317</td>\n",
       "      <td>0.120000</td>\n",
       "      <td>SLC31A1</td>\n",
       "      <td>solute carrier family 31 (copper transporter),...</td>\n",
       "      <td>Congenital Abnormality</td>\n",
       "      <td>CTD_human</td>\n",
       "      <td>1</td>\n",
       "      <td>0</td>\n",
       "    </tr>\n",
       "  </tbody>\n",
       "</table>\n",
       "</div>"
      ]
     },
     "execution_count": 7,
     "metadata": {},
     "output_type": "execute_result"
    }
   ],
   "source": [
    "df.head()"
   ]
  },
  {
   "cell_type": "code",
   "execution_count": 4,
   "metadata": {
    "collapsed": true
   },
   "outputs": [],
   "source": [
    "d = []\n",
    "for did, subdf in df.groupby(\"diseaseId\"):\n",
    "    records = subdf.to_dict(orient='records')\n",
    "    records = [{k:v for k,v in record.items() if k not in {'diseaseId','diseaseName'}} for record in records]\n",
    "    drecord = {'_id': did, 'genes': records}\n",
    "    d.append(drecord)"
   ]
  },
  {
   "cell_type": "code",
   "execution_count": 5,
   "metadata": {
    "collapsed": false
   },
   "outputs": [
    {
     "data": {
      "text/plain": [
       "7607"
      ]
     },
     "execution_count": 5,
     "metadata": {},
     "output_type": "execute_result"
    }
   ],
   "source": [
    "len(d)"
   ]
  },
  {
   "cell_type": "code",
   "execution_count": 6,
   "metadata": {
    "collapsed": false
   },
   "outputs": [
    {
     "data": {
      "text/plain": [
       "{'_id': 'umls:C0000737',\n 'genes': [{'NofPmids': 1,\n   'NofSnps': 0,\n   'description': 'interferon, alpha 2',\n   'geneId': 3440,\n   'geneName': 'IFNA2',\n   'score': 0.12,\n   'sourceId': 'CTD_human'}]}"
      ]
     },
     "execution_count": 6,
     "metadata": {},
     "output_type": "execute_result"
    }
   ],
   "source": [
    "d[0]"
   ]
  },
  {
   "cell_type": "code",
   "execution_count": 44,
   "metadata": {
    "collapsed": false
   },
   "outputs": [
    {
     "data": {
      "text/plain": [
       "<pymongo.results.InsertManyResult at 0x7f33302b7288>"
      ]
     },
     "execution_count": 44,
     "metadata": {},
     "output_type": "execute_result"
    }
   ],
   "source": [
    "db.insert_many(d)"
   ]
  },
  {
   "cell_type": "code",
   "execution_count": 45,
   "metadata": {
    "collapsed": false
   },
   "outputs": [
    {
     "data": {
      "text/plain": [
       "7607"
      ]
     },
     "execution_count": 45,
     "metadata": {},
     "output_type": "execute_result"
    }
   ],
   "source": [
    "db.count()"
   ]
  }
 ],
 "metadata": {
  "kernelspec": {
   "display_name": "Python 3",
   "language": "python",
   "name": "python3"
  },
  "language_info": {
   "codemirror_mode": {
    "name": "ipython",
    "version": 3.0
   },
   "file_extension": ".py",
   "mimetype": "text/x-python",
   "name": "python",
   "nbconvert_exporter": "python",
   "pygments_lexer": "ipython3",
   "version": "3.5.2"
  }
 },
 "nbformat": 4,
 "nbformat_minor": 0
}