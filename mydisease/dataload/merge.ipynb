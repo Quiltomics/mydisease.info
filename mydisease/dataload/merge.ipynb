{
 "cells": [
  {
   "cell_type": "code",
   "execution_count": 1,
   "metadata": {
    "collapsed": false
   },
   "outputs": [],
   "source": [
    "### Merge\n",
    "\n",
    "from pymongo import MongoClient\n",
    "from collections import Counter\n",
    "import networkx as nx\n",
    "import matplotlib.pyplot as plt\n",
    "from pymongo import MongoClient\n",
    "from collections import Counter\n",
    "import seaborn as sns\n",
    "from pprint import pprint\n",
    "from collections import defaultdict\n",
    "%matplotlib inline"
   ]
  },
  {
   "cell_type": "code",
   "execution_count": 2,
   "metadata": {
    "collapsed": false
   },
   "outputs": [],
   "source": [
    "db_names = ['orphanet','DO','ctdbase', 'disgenet', 'mesh','omim']\n",
    "all_ids = set()\n",
    "for db_name in db_names:\n",
    "    db = MongoClient().mydisease[db_name]\n",
    "    all_ids.update(set([x['_id'] for x in db.find({},{'_id':1})]))"
   ]
  },
  {
   "cell_type": "code",
   "execution_count": 3,
   "metadata": {
    "collapsed": false
   },
   "outputs": [
    {
     "data": {
      "text/plain": [
       "Counter({'DOID': 6966,\n",
       "         'MESH': 6798,\n",
       "         'OMIM': 24891,\n",
       "         'ObsoleteClass': 1,\n",
       "         'Orphanet': 9947})"
      ]
     },
     "execution_count": 3,
     "metadata": {},
     "output_type": "execute_result"
    }
   ],
   "source": [
    "Counter([x.split(\":\",1)[0] for x in all_ids])"
   ]
  },
  {
   "cell_type": "code",
   "execution_count": 4,
   "metadata": {
    "collapsed": true
   },
   "outputs": [],
   "source": [
    "# build id graph\n",
    "g = nx.Graph()\n",
    "db_names = ['orphanet','DO','ctdbase', 'disgenet','mesh','omim']\n",
    "for db_name in db_names:\n",
    "    db = MongoClient().mydisease[db_name]\n",
    "    for doc in db.find({'xref':{'$exists': True}},{'xref':1}):\n",
    "        for xref in doc['xref']:\n",
    "            g.add_edge(doc['_id'],xref)"
   ]
  },
  {
   "cell_type": "markdown",
   "metadata": {},
   "source": [
    "### How many DOIDs are within 1 or 2 hops from each type of ID?"
   ]
  },
  {
   "cell_type": "code",
   "execution_count": 5,
   "metadata": {
    "collapsed": false
   },
   "outputs": [],
   "source": [
    "def num_doids_in_sg(g, cutoff):\n",
    "    d = defaultdict(list)\n",
    "    for id in all_ids:\n",
    "        if id.startswith(\"DOID:\"):\n",
    "            continue\n",
    "        if id not in g:\n",
    "            continue\n",
    "        neighbors = list(nx.single_source_shortest_path_length(g, id, cutoff=cutoff).keys())\n",
    "        pre = [x.split(\":\")[0] for x in neighbors]\n",
    "        d[id.split(\":\")[0]].append(pre.count(\"DOID\"))\n",
    "    d = dict(d)\n",
    "    return {k:Counter(v) for k,v in d.items()}"
   ]
  },
  {
   "cell_type": "code",
   "execution_count": 6,
   "metadata": {
    "collapsed": false
   },
   "outputs": [
    {
     "data": {
      "text/plain": [
       "{'MESH': Counter({0: 540,\n",
       "          1: 2333,\n",
       "          2: 147,\n",
       "          3: 32,\n",
       "          4: 8,\n",
       "          5: 2,\n",
       "          6: 2,\n",
       "          9: 1,\n",
       "          16: 1}),\n",
       " 'OMIM': Counter({0: 2652, 1: 3683, 2: 62, 3: 1}),\n",
       " 'Orphanet': Counter({0: 5050, 1: 469, 2: 2, 3: 2, 4: 2, 5: 1})}"
      ]
     },
     "execution_count": 6,
     "metadata": {},
     "output_type": "execute_result"
    }
   ],
   "source": [
    "num_doids_in_sg(g, 1)"
   ]
  },
  {
   "cell_type": "code",
   "execution_count": 7,
   "metadata": {
    "collapsed": false
   },
   "outputs": [
    {
     "data": {
      "text/plain": [
       "{'MESH': Counter({0: 505,\n",
       "          1: 2361,\n",
       "          2: 154,\n",
       "          3: 32,\n",
       "          4: 8,\n",
       "          5: 2,\n",
       "          6: 2,\n",
       "          9: 1,\n",
       "          16: 1}),\n",
       " 'OMIM': Counter({0: 2523, 1: 3680, 2: 158, 3: 17, 4: 14, 5: 5, 6: 1}),\n",
       " 'Orphanet': Counter({0: 3035,\n",
       "          1: 2167,\n",
       "          2: 211,\n",
       "          3: 55,\n",
       "          4: 20,\n",
       "          5: 8,\n",
       "          6: 9,\n",
       "          7: 1,\n",
       "          8: 5,\n",
       "          9: 6,\n",
       "          10: 4,\n",
       "          11: 1,\n",
       "          16: 1,\n",
       "          18: 1,\n",
       "          21: 2})}"
      ]
     },
     "execution_count": 7,
     "metadata": {},
     "output_type": "execute_result"
    }
   ],
   "source": [
    "num_doids_in_sg(g, 2)"
   ]
  },
  {
   "cell_type": "code",
   "execution_count": 8,
   "metadata": {
    "collapsed": false
   },
   "outputs": [
    {
     "data": {
      "text/plain": [
       "{'MESH': Counter({0: 318,\n",
       "          1: 1599,\n",
       "          2: 372,\n",
       "          3: 200,\n",
       "          4: 143,\n",
       "          5: 53,\n",
       "          6: 66,\n",
       "          7: 40,\n",
       "          8: 43,\n",
       "          9: 68,\n",
       "          10: 22,\n",
       "          11: 54,\n",
       "          12: 16,\n",
       "          13: 21,\n",
       "          14: 16,\n",
       "          15: 15,\n",
       "          21: 3,\n",
       "          30: 6,\n",
       "          33: 11}),\n",
       " 'OMIM': Counter({0: 2201,\n",
       "          1: 1752,\n",
       "          2: 704,\n",
       "          3: 290,\n",
       "          4: 246,\n",
       "          5: 116,\n",
       "          6: 60,\n",
       "          7: 119,\n",
       "          8: 132,\n",
       "          9: 71,\n",
       "          10: 188,\n",
       "          11: 106,\n",
       "          12: 6,\n",
       "          13: 227,\n",
       "          14: 79,\n",
       "          15: 16,\n",
       "          21: 21,\n",
       "          30: 53,\n",
       "          33: 11}),\n",
       " 'Orphanet': Counter({0: 2934,\n",
       "          1: 1236,\n",
       "          2: 318,\n",
       "          3: 194,\n",
       "          4: 167,\n",
       "          5: 111,\n",
       "          6: 70,\n",
       "          7: 57,\n",
       "          8: 47,\n",
       "          9: 63,\n",
       "          10: 56,\n",
       "          11: 86,\n",
       "          12: 15,\n",
       "          13: 75,\n",
       "          14: 31,\n",
       "          15: 17,\n",
       "          21: 27,\n",
       "          30: 8,\n",
       "          33: 14})}"
      ]
     },
     "execution_count": 8,
     "metadata": {},
     "output_type": "execute_result"
    }
   ],
   "source": [
    "num_doids_in_sg(g, 100)"
   ]
  },
  {
   "cell_type": "code",
   "execution_count": 9,
   "metadata": {
    "collapsed": true
   },
   "outputs": [],
   "source": [
    "## Between one hop and two hops, mesh and omim dont really change. But we can link 2k more orphanet IDs"
   ]
  },
  {
   "cell_type": "code",
   "execution_count": 37,
   "metadata": {
    "collapsed": false
   },
   "outputs": [
    {
     "data": {
      "text/plain": [
       "['DOID:0050440']"
      ]
     },
     "execution_count": 37,
     "metadata": {},
     "output_type": "execute_result"
    }
   ],
   "source": [
    "def get_equiv_doid(g, did):\n",
    "    \"\"\"\n",
    "    For a given ID, get the DOIDs it is equivalent to within 2 hops.\n",
    "    \"\"\"\n",
    "    if did.startswith(\"DOID:\"):\n",
    "        return [did]\n",
    "    if did not in g:\n",
    "        return []\n",
    "    equiv = list(nx.single_source_shortest_path_length(g, did, cutoff=2).keys())\n",
    "    return [x for x in equiv if x.startswith(\"DOID:\")]\n",
    "\n",
    "get_equiv_doid(g, 'Orphanet:98306')"
   ]
  },
  {
   "cell_type": "code",
   "execution_count": 44,
   "metadata": {
    "collapsed": false
   },
   "outputs": [],
   "source": [
    "## merge docs\n",
    "del d\n",
    "# make initial primary d with all DOID docs\n",
    "db = MongoClient().mydisease.DO\n",
    "d = {doc['_id']: {'disease_ontology': doc} for doc in db.find()}\n",
    "\n",
    "# fill in from other sources\n",
    "db_names = ['orphanet','ctdbase','disgenet','mesh','omim']\n",
    "for db_name in db_names:\n",
    "    db = MongoClient().mydisease[db_name]\n",
    "    for doc in db.find():\n",
    "        doids = get_equiv_doid(g, doc['_id'])\n",
    "        for doid in doids:\n",
    "            if db_name not in d[doid]:\n",
    "                d[doid][db_name] = []\n",
    "            d[doid][db_name].append(doc)"
   ]
  },
  {
   "cell_type": "code",
   "execution_count": 45,
   "metadata": {
    "collapsed": false
   },
   "outputs": [
    {
     "data": {
      "text/plain": [
       "dict_keys(['disease_ontology', 'ctdbase', 'mesh', 'orphanet', 'omim'])"
      ]
     },
     "execution_count": 45,
     "metadata": {},
     "output_type": "execute_result"
    }
   ],
   "source": [
    "d['DOID:0050440'].keys()"
   ]
  },
  {
   "cell_type": "code",
   "execution_count": 46,
   "metadata": {
    "collapsed": false
   },
   "outputs": [
    {
     "data": {
      "text/plain": [
       "{'_id': 'DOID:0050440',\n",
       " 'comment': 'Xref MGI.\\\\nOMIM mapping confirmed by DO. [SN].',\n",
       " 'def': 'A lipodystrophy characterized by abnormal subcutaneous adipose tissue distribution beginning in late childhood or early adult life.',\n",
       " 'def_ref': ['url:http\\\\://en.wikipedia.org/wiki/Familial_partial_lipodystrophy',\n",
       "  'url:http\\\\://omim.org/entry/60860'],\n",
       " 'is_a': ['DOID:811'],\n",
       " 'name': 'familial partial lipodystrophy',\n",
       " 'subset': ['DO_MGI_slim'],\n",
       " 'synonym': ['Dunnigan Syndrome', 'Koberling-Dunnigan Syndrome'],\n",
       " 'xref': ['MESH:D052496',\n",
       "  'NCI:C84708',\n",
       "  'OMIM:151660',\n",
       "  'OMIM:604367',\n",
       "  'OMIM:608600',\n",
       "  'OMIM:613877',\n",
       "  'OMIM:615238',\n",
       "  'SNOMEDCT_US_2016_03_01:49292002',\n",
       "  'UMLS_CUI:C0271694',\n",
       "  'UMLS_CUI:C1720859',\n",
       "  'UMLS_CUI:C1720860',\n",
       "  'UMLS_CUI:C1720861']}"
      ]
     },
     "execution_count": 46,
     "metadata": {},
     "output_type": "execute_result"
    }
   ],
   "source": [
    "d['DOID:0050440']['disease_ontology']"
   ]
  },
  {
   "cell_type": "code",
   "execution_count": 47,
   "metadata": {
    "collapsed": false
   },
   "outputs": [
    {
     "data": {
      "text/plain": [
       "[{'_id': 'OMIM:151660',\n",
       "  'alternative': [{'title': 'FPL2'},\n",
       "   {'title': 'LIPODYSTROPHY, FAMILIAL PARTIAL, DUNNIGAN TYPE'},\n",
       "   {'title': 'LIPODYSTROPHY, FAMILIAL, OF LIMBS AND LOWER TRUNK'},\n",
       "   {'title': 'LIPODYSTROPHY, REVERSE PARTIAL'},\n",
       "   {'title': 'LIPOATROPHIC DIABETES'}],\n",
       "  'symbol': 'FPLD2',\n",
       "  'title': 'LIPODYSTROPHY, FAMILIAL PARTIAL, TYPE 2',\n",
       "  'type': 'Phenotype description, molecular basis known'},\n",
       " {'_id': 'OMIM:604367',\n",
       "  'alternative': [{'title': 'LIPODYSTROPHY, FAMILIAL PARTIAL, ASSOCIATED WITH PPARG MUTATIONS'}],\n",
       "  'symbol': 'FPLD3',\n",
       "  'title': 'LIPODYSTROPHY, FAMILIAL PARTIAL, TYPE 3',\n",
       "  'type': 'Phenotype description, molecular basis known'},\n",
       " {'_id': 'OMIM:608600',\n",
       "  'alternative': [{'title': 'LIPODYSTROPHY, FAMILIAL PARTIAL, KOBBERLING TYPE'}],\n",
       "  'symbol': 'FPLD1',\n",
       "  'title': 'LIPODYSTROPHY, FAMILIAL PARTIAL, TYPE 1',\n",
       "  'type': 'Phenotype description or locus, molecular basis unknown'},\n",
       " {'_id': 'OMIM:613877',\n",
       "  'alternative': [{'title': 'LIPODYSTROPHY, FAMILIAL PARTIAL, ASSOCIATED WITH PLIN1 MUTATIONS'}],\n",
       "  'symbol': 'FPLD4',\n",
       "  'title': 'LIPODYSTROPHY, FAMILIAL PARTIAL, TYPE 4',\n",
       "  'type': 'Phenotype description, molecular basis known'},\n",
       " {'_id': 'OMIM:615238',\n",
       "  'alternative': [{'title': 'LIPODYSTROPHY, FAMILIAL PARTIAL, ASSOCIATED WITH CIDEC MUTATIONS'}],\n",
       "  'symbol': 'FPLD5',\n",
       "  'title': 'LIPODYSTROPHY, FAMILIAL PARTIAL, TYPE 5',\n",
       "  'type': 'Phenotype description, molecular basis known'}]"
      ]
     },
     "execution_count": 47,
     "metadata": {},
     "output_type": "execute_result"
    }
   ],
   "source": [
    "d['DOID:0050440']['omim']"
   ]
  }
 ],
 "metadata": {
  "kernelspec": {
   "display_name": "Python 3",
   "language": "python",
   "name": "python3"
  },
  "language_info": {
   "codemirror_mode": {
    "name": "ipython",
    "version": 3
   },
   "file_extension": ".py",
   "mimetype": "text/x-python",
   "name": "python",
   "nbconvert_exporter": "python",
   "pygments_lexer": "ipython3",
   "version": "3.5.2"
  }
 },
 "nbformat": 4,
 "nbformat_minor": 0
}
