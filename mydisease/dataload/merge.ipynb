{
 "cells": [
  {
   "cell_type": "code",
   "execution_count": 1,
   "metadata": {
    "collapsed": false
   },
   "outputs": [],
   "source": [
    "### Merge\n",
    "from pymongo import MongoClient\n",
    "from collections import Counter\n",
    "import networkx as nx\n",
    "from tqdm import tqdm\n",
    "import matplotlib.pyplot as plt\n",
    "from pymongo import MongoClient\n",
    "from collections import Counter\n",
    "import seaborn as sns\n",
    "from pprint import pprint\n",
    "from collections import defaultdict\n",
    "from mydisease.utils.common import dict2list\n",
    "%matplotlib inline"
   ]
  },
  {
   "cell_type": "code",
   "execution_count": 2,
   "metadata": {
    "collapsed": false
   },
   "outputs": [],
   "source": [
    "db_names = ['ctdbase','DO','disgenet', 'hpo', 'mesh', 'omim', 'orphanet']\n",
    "all_ids = set()\n",
    "for db_name in db_names:\n",
    "    db = MongoClient().mydisease[db_name]\n",
    "    all_ids.update(set([x['_id'] for x in db.find({},{'_id':1})]))"
   ]
  },
  {
   "cell_type": "code",
   "execution_count": 3,
   "metadata": {
    "collapsed": false
   },
   "outputs": [
    {
     "data": {
      "text/plain": [
       "Counter({'doid': 6966,\n",
       "         'mesh': 11438,\n",
       "         'obsoleteclass': 1,\n",
       "         'omim': 24910,\n",
       "         'orphanet': 9947,\n",
       "         'umls_cui': 7607})"
      ]
     },
     "execution_count": 3,
     "metadata": {},
     "output_type": "execute_result"
    }
   ],
   "source": [
    "Counter([x.split(\":\",1)[0] for x in all_ids])"
   ]
  },
  {
   "cell_type": "code",
   "execution_count": 4,
   "metadata": {
    "collapsed": false
   },
   "outputs": [],
   "source": [
    "# build id graph\n",
    "g = nx.Graph()\n",
    "for db_name in db_names:\n",
    "    db = MongoClient().mydisease[db_name]\n",
    "    for doc in db.find({'xref':{'$exists': True}},{'xref':1}):\n",
    "        for xref in dict2list(doc['xref']):\n",
    "            g.add_edge(doc['_id'],xref)"
   ]
  },
  {
   "cell_type": "markdown",
   "metadata": {},
   "source": [
    "### How many DOIDs are within 1 or 2 hops from each type of ID?"
   ]
  },
  {
   "cell_type": "code",
   "execution_count": 5,
   "metadata": {
    "collapsed": false
   },
   "outputs": [],
   "source": [
    "def num_doids_in_sg(g, cutoff):\n",
    "    d = defaultdict(list)\n",
    "    for id in all_ids:\n",
    "        if id.startswith(\"doid:\"):\n",
    "            continue\n",
    "        if id not in g:\n",
    "            continue\n",
    "        neighbors = list(nx.single_source_shortest_path_length(g, id, cutoff=cutoff).keys())\n",
    "        pre = [x.split(\":\")[0] for x in neighbors]\n",
    "        d[id.split(\":\")[0]].append(pre.count(\"doid\"))\n",
    "    d = dict(d)\n",
    "    return {k:Counter(v) for k,v in d.items()}"
   ]
  },
  {
   "cell_type": "code",
   "execution_count": 6,
   "metadata": {
    "collapsed": false
   },
   "outputs": [
    {
     "data": {
      "text/plain": [
       "{'mesh': Counter({0: 1052,\n",
       "          1: 2482,\n",
       "          2: 149,\n",
       "          3: 32,\n",
       "          4: 8,\n",
       "          5: 2,\n",
       "          6: 2,\n",
       "          9: 1,\n",
       "          16: 1}),\n",
       " 'omim': Counter({0: 2655, 1: 3680, 2: 62, 3: 1}),\n",
       " 'orphanet': Counter({0: 5049, 1: 470, 2: 2, 3: 2, 4: 2, 5: 1}),\n",
       " 'umls_cui': Counter({0: 1026, 1: 1477, 2: 21})}"
      ]
     },
     "execution_count": 6,
     "metadata": {},
     "output_type": "execute_result"
    }
   ],
   "source": [
    "num_doids_in_sg(g, 1)"
   ]
  },
  {
   "cell_type": "code",
   "execution_count": 7,
   "metadata": {
    "collapsed": false
   },
   "outputs": [
    {
     "data": {
      "text/plain": [
       "{'mesh': Counter({0: 1005,\n",
       "          1: 2519,\n",
       "          2: 158,\n",
       "          3: 32,\n",
       "          4: 9,\n",
       "          5: 2,\n",
       "          6: 2,\n",
       "          9: 1,\n",
       "          16: 1}),\n",
       " 'omim': Counter({0: 2525, 1: 3678, 2: 158, 3: 17, 4: 14, 5: 5, 6: 1}),\n",
       " 'orphanet': Counter({0: 3039,\n",
       "          1: 2163,\n",
       "          2: 211,\n",
       "          3: 55,\n",
       "          4: 20,\n",
       "          5: 8,\n",
       "          6: 9,\n",
       "          7: 1,\n",
       "          8: 5,\n",
       "          9: 6,\n",
       "          10: 4,\n",
       "          11: 1,\n",
       "          16: 1,\n",
       "          18: 1,\n",
       "          21: 2}),\n",
       " 'umls_cui': Counter({0: 943, 1: 1551, 2: 29, 4: 1})}"
      ]
     },
     "execution_count": 7,
     "metadata": {},
     "output_type": "execute_result"
    }
   ],
   "source": [
    "num_doids_in_sg(g, 2)"
   ]
  },
  {
   "cell_type": "code",
   "execution_count": 8,
   "metadata": {
    "collapsed": false
   },
   "outputs": [
    {
     "data": {
      "text/plain": [
       "{'mesh': Counter({0: 751,\n",
       "          1: 1583,\n",
       "          2: 379,\n",
       "          3: 215,\n",
       "          4: 151,\n",
       "          5: 54,\n",
       "          6: 61,\n",
       "          7: 77,\n",
       "          8: 35,\n",
       "          9: 42,\n",
       "          10: 26,\n",
       "          11: 81,\n",
       "          12: 37,\n",
       "          13: 32,\n",
       "          14: 30,\n",
       "          15: 18,\n",
       "          16: 13,\n",
       "          18: 11,\n",
       "          21: 9,\n",
       "          31: 6,\n",
       "          33: 12,\n",
       "          34: 25,\n",
       "          65: 9,\n",
       "          78: 36,\n",
       "          81: 36}),\n",
       " 'omim': Counter({0: 2203,\n",
       "          1: 1605,\n",
       "          2: 613,\n",
       "          3: 317,\n",
       "          4: 223,\n",
       "          5: 155,\n",
       "          6: 59,\n",
       "          7: 187,\n",
       "          8: 58,\n",
       "          9: 46,\n",
       "          10: 90,\n",
       "          11: 233,\n",
       "          12: 60,\n",
       "          13: 231,\n",
       "          14: 82,\n",
       "          15: 16,\n",
       "          16: 3,\n",
       "          18: 1,\n",
       "          21: 21,\n",
       "          31: 7,\n",
       "          33: 11,\n",
       "          34: 6,\n",
       "          65: 2,\n",
       "          78: 115,\n",
       "          81: 54}),\n",
       " 'orphanet': Counter({0: 2937,\n",
       "          1: 1151,\n",
       "          2: 291,\n",
       "          3: 199,\n",
       "          4: 151,\n",
       "          5: 91,\n",
       "          6: 64,\n",
       "          7: 133,\n",
       "          8: 25,\n",
       "          9: 41,\n",
       "          10: 54,\n",
       "          11: 91,\n",
       "          12: 55,\n",
       "          13: 79,\n",
       "          14: 37,\n",
       "          15: 21,\n",
       "          18: 4,\n",
       "          21: 27,\n",
       "          33: 14,\n",
       "          34: 16,\n",
       "          65: 2,\n",
       "          78: 26,\n",
       "          81: 17}),\n",
       " 'umls_cui': Counter({0: 564,\n",
       "          1: 936,\n",
       "          2: 242,\n",
       "          3: 156,\n",
       "          4: 124,\n",
       "          5: 39,\n",
       "          6: 40,\n",
       "          7: 66,\n",
       "          8: 22,\n",
       "          9: 23,\n",
       "          10: 20,\n",
       "          11: 58,\n",
       "          12: 40,\n",
       "          13: 32,\n",
       "          14: 29,\n",
       "          15: 17,\n",
       "          16: 4,\n",
       "          18: 4,\n",
       "          21: 4,\n",
       "          31: 2,\n",
       "          33: 12,\n",
       "          34: 21,\n",
       "          65: 13,\n",
       "          78: 30,\n",
       "          81: 26})}"
      ]
     },
     "execution_count": 8,
     "metadata": {},
     "output_type": "execute_result"
    }
   ],
   "source": [
    "num_doids_in_sg(g, 100)"
   ]
  },
  {
   "cell_type": "code",
   "execution_count": 9,
   "metadata": {
    "collapsed": true
   },
   "outputs": [],
   "source": [
    "## Between one hop and two hops, mesh, omim, umls dont really change. But we can link 2k more orphanet IDs\n",
    "# because there is no source for direct DOID <-> orphanet ids"
   ]
  },
  {
   "cell_type": "code",
   "execution_count": 10,
   "metadata": {
    "collapsed": false
   },
   "outputs": [
    {
     "data": {
      "text/plain": [
       "['doid:0050440']"
      ]
     },
     "execution_count": 10,
     "metadata": {},
     "output_type": "execute_result"
    }
   ],
   "source": [
    "def get_equiv_doid(g, did):\n",
    "    \"\"\"\n",
    "    For a given ID, get the DOIDs it is equivalent to within 2 hops.\n",
    "    \"\"\"\n",
    "    if did.startswith(\"doid:\"):\n",
    "        return [did]\n",
    "    if did not in g:\n",
    "        return []\n",
    "    equiv = list(nx.single_source_shortest_path_length(g, did, cutoff=2).keys())\n",
    "    return [x for x in equiv if x.startswith(\"doid:\")]\n",
    "\n",
    "get_equiv_doid(g, 'orphanet:98306')"
   ]
  },
  {
   "cell_type": "code",
   "execution_count": 11,
   "metadata": {
    "collapsed": false
   },
   "outputs": [
    {
     "data": {
      "text/plain": [
       "['doid:0050440']"
      ]
     },
     "execution_count": 11,
     "metadata": {},
     "output_type": "execute_result"
    }
   ],
   "source": [
    "get_equiv_doid(g, 'umls_cui:C1720859')"
   ]
  },
  {
   "cell_type": "code",
   "execution_count": 12,
   "metadata": {
    "collapsed": false
   },
   "outputs": [
    {
     "data": {
      "text/plain": [
       "<pymongo.results.InsertManyResult at 0x7fd7dbe404c8>"
      ]
     },
     "execution_count": 12,
     "metadata": {},
     "output_type": "execute_result"
    }
   ],
   "source": [
    "## merge docs\n",
    "client = MongoClient()\n",
    "mydisease = client.mydisease.mydisease\n",
    "mydisease.drop()\n",
    "\n",
    "# make initial primary d with all DOID docs\n",
    "d = dict()\n",
    "db = MongoClient().mydisease.DO\n",
    "d = [{'_id': doc['_id'], 'disease_ontology': doc} for doc in db.find()]\n",
    "mydisease.insert_many(d)"
   ]
  },
  {
   "cell_type": "code",
   "execution_count": 13,
   "metadata": {
    "collapsed": false
   },
   "outputs": [
    {
     "name": "stderr",
     "output_type": "stream",
     "text": [
      "100%|██████████| 6/6 [01:01<00:00, 10.29s/it]\n"
     ]
    }
   ],
   "source": [
    "# fill in from other sources\n",
    "for db_name in tqdm(set(db_names) - {'DO'}):\n",
    "    db = MongoClient().mydisease[db_name]\n",
    "    for doc in db.find():\n",
    "        doids = get_equiv_doid(g, doc['_id'])\n",
    "        for doid in doids:\n",
    "            # if db_name not in d[doid]:\n",
    "            #     d[doid][db_name] = []\n",
    "            # d[doid][db_name].append(doc)\n",
    "            mydisease.update_one({'_id':doid}, {'$push':{db_name: doc}}, upsert=True)"
   ]
  },
  {
   "cell_type": "code",
   "execution_count": 14,
   "metadata": {
    "collapsed": false
   },
   "outputs": [
    {
     "data": {
      "text/plain": [
       "dict_keys(['mesh', 'disease_ontology', 'disgenet', '_id', 'orphanet', 'ctdbase', 'omim'])"
      ]
     },
     "execution_count": 14,
     "metadata": {},
     "output_type": "execute_result"
    }
   ],
   "source": [
    "doc = mydisease.find_one('doid:0050440')\n",
    "doc.keys()"
   ]
  },
  {
   "cell_type": "code",
   "execution_count": 15,
   "metadata": {
    "collapsed": false
   },
   "outputs": [
    {
     "data": {
      "text/plain": [
       "{'_id': 'doid:0050440',\n",
       " 'comment': 'Xref MGI.\\\\nOMIM mapping confirmed by DO. [SN].',\n",
       " 'def': 'A lipodystrophy characterized by abnormal subcutaneous adipose tissue distribution beginning in late childhood or early adult life.',\n",
       " 'is_a': ['doid:811'],\n",
       " 'name': 'familial partial lipodystrophy',\n",
       " 'subset': ['DO_MGI_slim'],\n",
       " 'synonym': ['Dunnigan Syndrome', 'Koberling-Dunnigan Syndrome'],\n",
       " 'xref': {'mesh': ['D052496'],\n",
       "  'nci': ['C84708'],\n",
       "  'omim': ['151660', '604367', '608600', '613877', '615238'],\n",
       "  'snomedct_us_2016_03_01': ['49292002'],\n",
       "  'umls_cui': ['C0271694', 'C1720859', 'C1720860', 'C1720861'],\n",
       "  'url': ['http://en.wikipedia.org/wiki/Familial_partial_lipodystrophy',\n",
       "   'http://omim.org/entry/608600']}}"
      ]
     },
     "execution_count": 15,
     "metadata": {},
     "output_type": "execute_result"
    }
   ],
   "source": [
    "doc['disease_ontology']"
   ]
  },
  {
   "cell_type": "code",
   "execution_count": 16,
   "metadata": {
    "collapsed": false
   },
   "outputs": [
    {
     "data": {
      "text/plain": [
       "[{'_id': 'umls_cui:C0271694',\n",
       "  'genes': [{'#pmids': 1,\n",
       "    '#snps': 0,\n",
       "    'gene_id': 208,\n",
       "    'gene_name': 'AKT2',\n",
       "    'score': 0.12,\n",
       "    'source': ['CTD_human']},\n",
       "   {'#pmids': 82,\n",
       "    '#snps': 7,\n",
       "    'gene_id': 4000,\n",
       "    'gene_name': 'LMNA',\n",
       "    'score': 0.157432691085282,\n",
       "    'source': ['CTD_human']},\n",
       "   {'#pmids': 17,\n",
       "    '#snps': 2,\n",
       "    'gene_id': 5468,\n",
       "    'gene_name': 'PPARG',\n",
       "    'score': 0.12706742019575198,\n",
       "    'source': ['CTD_human']},\n",
       "   {'#pmids': 0,\n",
       "    '#snps': 0,\n",
       "    'gene_id': 5506,\n",
       "    'gene_name': 'PPP1R3A',\n",
       "    'score': 0.12,\n",
       "    'source': ['CTD_human']},\n",
       "   {'#pmids': 3,\n",
       "    '#snps': 0,\n",
       "    'gene_id': 857,\n",
       "    'gene_name': 'CAV1',\n",
       "    'score': 0.120542883744161,\n",
       "    'source': ['CTD_human']}]},\n",
       " {'_id': 'umls_cui:C1720859',\n",
       "  'genes': [{'#pmids': 1,\n",
       "    '#snps': 0,\n",
       "    'gene_id': 4000,\n",
       "    'gene_name': 'LMNA',\n",
       "    'score': 0.12027144187208001,\n",
       "    'source': ['ORPHANET']}]}]"
      ]
     },
     "execution_count": 16,
     "metadata": {},
     "output_type": "execute_result"
    }
   ],
   "source": [
    "doc['disgenet'][:2]"
   ]
  },
  {
   "cell_type": "code",
   "execution_count": 17,
   "metadata": {
    "collapsed": false
   },
   "outputs": [
    {
     "data": {
      "text/plain": [
       "{'ctdbase': ['mesh:D052496'],\n",
       " 'disgenet': ['umls_cui:C0271694',\n",
       "  'umls_cui:C1720859',\n",
       "  'umls_cui:C1720860',\n",
       "  'umls_cui:C1720861'],\n",
       " 'mesh': ['mesh:D052496'],\n",
       " 'omim': ['omim:151660',\n",
       "  'omim:604367',\n",
       "  'omim:608600',\n",
       "  'omim:613877',\n",
       "  'omim:615238'],\n",
       " 'orphanet': ['orphanet:79083',\n",
       "  'orphanet:2348',\n",
       "  'orphanet:98306',\n",
       "  'orphanet:79084',\n",
       "  'orphanet:280356',\n",
       "  'orphanet:435651']}"
      ]
     },
     "execution_count": 17,
     "metadata": {},
     "output_type": "execute_result"
    }
   ],
   "source": [
    "{k:[x['_id'] for x in v] for k,v in doc.items() if k not in {'disease_ontology', '_id'}}"
   ]
  },
  {
   "cell_type": "code",
   "execution_count": 18,
   "metadata": {
    "collapsed": false
   },
   "outputs": [
    {
     "data": {
      "text/plain": [
       "[{'umls_cui:C0271694': ['AKT2', 'LMNA', 'PPARG', 'PPP1R3A', 'CAV1']},\n",
       " {'umls_cui:C1720859': ['LMNA']},\n",
       " {'umls_cui:C1720860': ['LMNA']},\n",
       " {'umls_cui:C1720861': ['PPARG']}]"
      ]
     },
     "execution_count": 18,
     "metadata": {},
     "output_type": "execute_result"
    }
   ],
   "source": [
    "[{x['_id']:[y['gene_name'] for y  in x['genes']]} for x in doc['disgenet']]"
   ]
  },
  {
   "cell_type": "code",
   "execution_count": 19,
   "metadata": {
    "collapsed": false
   },
   "outputs": [
    {
     "data": {
      "text/plain": [
       "{'_id': 'doid:0050440',\n",
       " 'comment': 'Xref MGI.\\\\nOMIM mapping confirmed by DO. [SN].',\n",
       " 'def': 'A lipodystrophy characterized by abnormal subcutaneous adipose tissue distribution beginning in late childhood or early adult life.',\n",
       " 'is_a': ['doid:811'],\n",
       " 'name': 'familial partial lipodystrophy',\n",
       " 'subset': ['DO_MGI_slim'],\n",
       " 'synonym': ['Dunnigan Syndrome', 'Koberling-Dunnigan Syndrome'],\n",
       " 'xref': {'mesh': ['D052496'],\n",
       "  'nci': ['C84708'],\n",
       "  'omim': ['151660', '604367', '608600', '613877', '615238'],\n",
       "  'snomedct_us_2016_03_01': ['49292002'],\n",
       "  'umls_cui': ['C0271694', 'C1720859', 'C1720860', 'C1720861'],\n",
       "  'url': ['http://en.wikipedia.org/wiki/Familial_partial_lipodystrophy',\n",
       "   'http://omim.org/entry/608600']}}"
      ]
     },
     "execution_count": 19,
     "metadata": {},
     "output_type": "execute_result"
    }
   ],
   "source": [
    "doc['disease_ontology']"
   ]
  },
  {
   "cell_type": "code",
   "execution_count": 20,
   "metadata": {
    "collapsed": false
   },
   "outputs": [
    {
     "data": {
      "text/plain": [
       "'mesh:D052496'"
      ]
     },
     "execution_count": 20,
     "metadata": {},
     "output_type": "execute_result"
    }
   ],
   "source": [
    "doc['ctdbase'][0]['_id']"
   ]
  },
  {
   "cell_type": "code",
   "execution_count": 21,
   "metadata": {
    "collapsed": false
   },
   "outputs": [
    {
     "data": {
      "text/plain": [
       "[[{'dga_status': 'Assessed',\n",
       "   'dga_type': 'Disease-causing germline mutation(s) in',\n",
       "   'gene_name': 'peroxisome proliferator activated receptor gamma',\n",
       "   'gene_symbol': 'PPARG',\n",
       "   'gene_type': 'gene with protein product',\n",
       "   'loci': ['3p25']}],\n",
       " [{'dga_status': 'Assessed',\n",
       "   'dga_type': 'Disease-causing germline mutation(s) in',\n",
       "   'gene_name': 'lamin A/C',\n",
       "   'gene_symbol': 'LMNA',\n",
       "   'gene_type': 'gene with protein product',\n",
       "   'loci': ['1q22']}],\n",
       " [],\n",
       " [{'dga_status': 'Not yet assessed',\n",
       "   'dga_type': 'Candidate gene tested in',\n",
       "   'gene_name': 'lamin A/C',\n",
       "   'gene_symbol': 'LMNA',\n",
       "   'gene_type': 'gene with protein product',\n",
       "   'loci': ['1q22']}],\n",
       " [{'dga_status': 'Assessed',\n",
       "   'dga_type': 'Disease-causing germline mutation(s) in',\n",
       "   'gene_name': 'perilipin 1',\n",
       "   'gene_symbol': 'PLIN1',\n",
       "   'gene_type': 'gene with protein product',\n",
       "   'loci': ['15q26']}],\n",
       " [{'dga_status': 'Assessed',\n",
       "   'dga_type': 'Disease-causing germline mutation(s) (loss of function) in',\n",
       "   'gene_name': 'cell death inducing DFFA like effector c',\n",
       "   'gene_symbol': 'CIDEC',\n",
       "   'gene_type': 'gene with protein product',\n",
       "   'loci': ['3p25']}]]"
      ]
     },
     "execution_count": 21,
     "metadata": {},
     "output_type": "execute_result"
    }
   ],
   "source": [
    "[x.get('disease_gene_associations',[]) for x in doc['orphanet']]"
   ]
  },
  {
   "cell_type": "code",
   "execution_count": 22,
   "metadata": {
    "collapsed": false,
    "scrolled": false
   },
   "outputs": [
    {
     "data": {
      "text/plain": [
       "[{'_id': 'orphanet:79083',\n",
       "  'alternative_term': ['PPARG-related FPLD',\n",
       "   'Familial partial lipodystrophy type 3',\n",
       "   'FPLD3'],\n",
       "  'ave_age_of_onset': ['Adult'],\n",
       "  'disease_gene_associations': [{'dga_status': 'Assessed',\n",
       "    'dga_type': 'Disease-causing germline mutation(s) in',\n",
       "    'gene_name': 'peroxisome proliferator activated receptor gamma',\n",
       "    'gene_symbol': 'PPARG',\n",
       "    'gene_type': 'gene with protein product',\n",
       "    'loci': ['3p25']}],\n",
       "  'mapping': {'E': ['omim:604367'], 'NTBT': ['icd10cm:E88.1']},\n",
       "  'parents': ['orphanet:377788'],\n",
       "  'part_of': ['orphanet:98306'],\n",
       "  'preferred_label': 'PPARG-related familial partial lipodystrophy',\n",
       "  'prevalence': [{'mean_value': 10.0,\n",
       "    'prevalence_geographic': 'Worldwide',\n",
       "    'prevalence_qualification': 'Case',\n",
       "    'prevalence_type': 'Cases/families',\n",
       "    'prevalence_validation_status': 'Validated',\n",
       "    'source': '16409151[PMID]'},\n",
       "   {'mean_value': None,\n",
       "    'prevalence_class': '<1 / 1 000 000',\n",
       "    'prevalence_geographic': 'Worldwide',\n",
       "    'prevalence_qualification': 'Class only',\n",
       "    'prevalence_type': 'Point prevalence',\n",
       "    'prevalence_validation_status': 'Validated',\n",
       "    'source': 'ORPHANET'}],\n",
       "  'synonyms': ['PPARG-related FPLD',\n",
       "   'Familial partial lipodystrophy type 3',\n",
       "   'FPLD3'],\n",
       "  'tree_view': ['orphanet:98306'],\n",
       "  'type_of_inheritance': ['Autosomal dominant'],\n",
       "  'xref': {'omim': ['604367']}},\n",
       " {'_id': 'orphanet:2348',\n",
       "  'alternative_term': ['FPLD2',\n",
       "   'Dunnigan syndrome',\n",
       "   'Familial partial lipodystrophy type 2'],\n",
       "  'ave_age_of_death': ['adult', 'elderly'],\n",
       "  'ave_age_of_onset': ['Adolescent', 'Adult'],\n",
       "  'definition': 'Familial Partial lipodystrophy, Dunnigan type (FPLD2) is a rare form of genetic lipodystrophy (see this term) characterized by a loss of subcutaneous adipose tissue from the trunk, buttocks and limbs; fat accumulation in the neck, face, axillary and pelvic regions; muscular hypertrophy; and usually associated with metabolic complications such as insulin resistance, diabetes mellitus, dyslipidemia and liver steatosis.',\n",
       "  'definition_citation': 'orphanet',\n",
       "  'definitions': 'Familial Partial lipodystrophy, Dunnigan type (FPLD2) is a rare form of genetic lipodystrophy (see this term) characterized by a loss of subcutaneous adipose tissue from the trunk, buttocks and limbs; fat accumulation in the neck, face, axillary and pelvic regions; muscular hypertrophy; and usually associated with metabolic complications such as insulin resistance, diabetes mellitus, dyslipidemia and liver steatosis.',\n",
       "  'disease_gene_associations': [{'dga_status': 'Assessed',\n",
       "    'dga_type': 'Disease-causing germline mutation(s) in',\n",
       "    'gene_name': 'lamin A/C',\n",
       "    'gene_symbol': 'LMNA',\n",
       "    'gene_type': 'gene with protein product',\n",
       "    'loci': ['1q22']}],\n",
       "  'mapping': {'E': ['omim:151660', 'umls_cui:C1720860'],\n",
       "   'NTBT': ['icd10cm:E88.1']},\n",
       "  'parents': ['orphanet:377788'],\n",
       "  'part_of': ['orphanet:363245', 'orphanet:98306', 'orphanet:139033'],\n",
       "  'phenotypes': [{'frequency': 'Occasional (29-5%)',\n",
       "    'phenotype_id': 'hp:0000147',\n",
       "    'phenotype_name': 'Polycystic ovaries'},\n",
       "   {'frequency': 'Very frequent (99-80%)',\n",
       "    'phenotype_id': 'hp:0000311',\n",
       "    'phenotype_name': 'Round face'},\n",
       "   {'frequency': 'Very frequent (99-80%)',\n",
       "    'phenotype_id': 'hp:0000819',\n",
       "    'phenotype_name': 'Diabetes mellitus'},\n",
       "   {'frequency': 'Very frequent (99-80%)',\n",
       "    'phenotype_id': 'hp:0000855',\n",
       "    'phenotype_name': 'Insulin resistance'},\n",
       "   {'frequency': 'Frequent (79-30%)',\n",
       "    'phenotype_id': 'hp:0000869',\n",
       "    'phenotype_name': 'Secondary amenorrhea'},\n",
       "   {'frequency': 'Occasional (29-5%)',\n",
       "    'phenotype_id': 'hp:0000956',\n",
       "    'phenotype_name': 'Acanthosis nigricans'},\n",
       "   {'frequency': 'Frequent (79-30%)',\n",
       "    'phenotype_id': 'hp:0000963',\n",
       "    'phenotype_name': 'Thin skin'},\n",
       "   {'frequency': 'Very frequent (99-80%)',\n",
       "    'phenotype_id': 'hp:0000991',\n",
       "    'phenotype_name': 'Xanthomatosis'},\n",
       "   {'frequency': 'Occasional (29-5%)',\n",
       "    'phenotype_id': 'hp:0001397',\n",
       "    'phenotype_name': 'Hepatic steatosis'},\n",
       "   {'frequency': 'Frequent (79-30%)',\n",
       "    'phenotype_id': 'hp:0001597',\n",
       "    'phenotype_name': 'Abnormality of the nail'},\n",
       "   {'frequency': 'Occasional (29-5%)',\n",
       "    'phenotype_id': 'hp:0001635',\n",
       "    'phenotype_name': 'Congestive heart failure'},\n",
       "   {'frequency': 'Occasional (29-5%)',\n",
       "    'phenotype_id': 'hp:0001639',\n",
       "    'phenotype_name': 'Hypertrophic cardiomyopathy'},\n",
       "   {'frequency': 'Occasional (29-5%)',\n",
       "    'phenotype_id': 'hp:0001677',\n",
       "    'phenotype_name': 'Coronary artery disease'},\n",
       "   {'frequency': 'Occasional (29-5%)',\n",
       "    'phenotype_id': 'hp:0001733',\n",
       "    'phenotype_name': 'Pancreatitis'},\n",
       "   {'frequency': 'Occasional (29-5%)',\n",
       "    'phenotype_id': 'hp:0001744',\n",
       "    'phenotype_name': 'Splenomegaly'},\n",
       "   {'frequency': 'Very frequent (99-80%)',\n",
       "    'phenotype_id': 'hp:0002155',\n",
       "    'phenotype_name': 'Hypertriglyceridemia'},\n",
       "   {'frequency': 'Occasional (29-5%)',\n",
       "    'phenotype_id': 'hp:0002230',\n",
       "    'phenotype_name': 'Generalized hirsutism'},\n",
       "   {'frequency': 'Very frequent (99-80%)',\n",
       "    'phenotype_id': 'hp:0002240',\n",
       "    'phenotype_name': 'Hepatomegaly'},\n",
       "   {'frequency': 'Frequent (79-30%)',\n",
       "    'phenotype_id': 'hp:0002621',\n",
       "    'phenotype_name': 'Atherosclerosis'},\n",
       "   {'frequency': 'Occasional (29-5%)',\n",
       "    'phenotype_id': 'hp:0003198',\n",
       "    'phenotype_name': 'Myopathy'},\n",
       "   {'frequency': 'Occasional (29-5%)',\n",
       "    'phenotype_id': 'hp:0003326',\n",
       "    'phenotype_name': 'Myalgia'},\n",
       "   {'frequency': 'Frequent (79-30%)',\n",
       "    'phenotype_id': 'hp:0003635',\n",
       "    'phenotype_name': 'Loss of subcutaneous adipose tissue in limbs'},\n",
       "   {'frequency': 'Very frequent (99-80%)',\n",
       "    'phenotype_id': 'hp:0003712',\n",
       "    'phenotype_name': 'Skeletal muscle hypertrophy'},\n",
       "   {'frequency': 'Occasional (29-5%)',\n",
       "    'phenotype_id': 'hp:0005339',\n",
       "    'phenotype_name': 'Abnormality of complement system'},\n",
       "   {'frequency': 'Frequent (79-30%)',\n",
       "    'phenotype_id': 'hp:0006288',\n",
       "    'phenotype_name': 'Advanced eruption of teeth'},\n",
       "   {'frequency': 'Occasional (29-5%)',\n",
       "    'phenotype_id': 'hp:0006824',\n",
       "    'phenotype_name': 'Cranial nerve paralysis'},\n",
       "   {'frequency': 'Very frequent (99-80%)',\n",
       "    'phenotype_id': 'hp:0008065',\n",
       "    'phenotype_name': 'Aplasia/Hypoplasia of the skin'},\n",
       "   {'frequency': 'Very frequent (99-80%)',\n",
       "    'phenotype_id': 'hp:0009125',\n",
       "    'phenotype_name': 'Lipodystrophy'},\n",
       "   {'frequency': 'Occasional (29-5%)',\n",
       "    'phenotype_id': 'hp:0012084',\n",
       "    'phenotype_name': 'Abnormality of skeletal muscle fiber size'},\n",
       "   {'frequency': 'Very frequent (99-80%)',\n",
       "    'phenotype_id': 'hp:0100578',\n",
       "    'phenotype_name': 'Lipoatrophy'},\n",
       "   {'frequency': 'Occasional (29-5%)',\n",
       "    'phenotype_id': 'hp:0100601',\n",
       "    'phenotype_name': 'Eclampsia'},\n",
       "   {'frequency': 'Occasional (29-5%)',\n",
       "    'phenotype_id': 'hp:0100607',\n",
       "    'phenotype_name': 'Dysmenorrhea'},\n",
       "   {'frequency': 'Occasional (29-5%)',\n",
       "    'phenotype_id': 'hp:0100658',\n",
       "    'phenotype_name': 'Cellulitis'},\n",
       "   {'frequency': 'Occasional (29-5%)',\n",
       "    'phenotype_id': 'hp:0100820',\n",
       "    'phenotype_name': 'Glomerulopathy'}],\n",
       "  'preferred_label': 'Familial partial lipodystrophy, Dunnigan type',\n",
       "  'prevalence': [{'mean_value': None,\n",
       "    'prevalence_class': 'Unknown',\n",
       "    'prevalence_geographic': 'Worldwide',\n",
       "    'prevalence_qualification': 'Class only',\n",
       "    'prevalence_type': 'Point prevalence',\n",
       "    'prevalence_validation_status': 'Not yet validated',\n",
       "    'source': 'ORPHANET'}],\n",
       "  'synonyms': ['FPLD2',\n",
       "   'Dunnigan syndrome',\n",
       "   'Familial partial lipodystrophy type 2'],\n",
       "  'tree_view': ['orphanet:363245', 'orphanet:98306', 'orphanet:139033'],\n",
       "  'type_of_inheritance': ['Autosomal dominant'],\n",
       "  'xref': {'omim': ['151660'], 'umls_cui': ['C1720860']}},\n",
       " {'_id': 'orphanet:98306',\n",
       "  'alternative_term': ['FPLD'],\n",
       "  'definition': 'Familial partial lipodystrophy (FPLD) is a group of rare genetic lipodystrophic syndromes characterized, in most cases, by fat loss from the limbs and buttocks, from childhood or early adulthood, and often associated with acanthosis nigricans, insulin resistance, diabetes, hypertriglyceridemia and liver steatosis.',\n",
       "  'definition_citation': 'orphanet',\n",
       "  'definitions': 'Familial partial lipodystrophy (FPLD) is a group of rare genetic lipodystrophic syndromes characterized, in most cases, by fat loss from the limbs and buttocks, from childhood or early adulthood, and often associated with acanthosis nigricans, insulin resistance, diabetes, hypertriglyceridemia and liver steatosis.',\n",
       "  'mapping': {'E': ['mesh:D052496', 'umls_cui:C0271694'],\n",
       "   'NTBT': ['icd10cm:E88.1']},\n",
       "  'parents': ['orphanet:98305', 'orphanet:377794'],\n",
       "  'preferred_label': 'Familial partial lipodystrophy',\n",
       "  'prevalence': [{'mean_value': 2.0,\n",
       "    'prevalence_class': '1-9 / 100 000',\n",
       "    'prevalence_geographic': 'Europe',\n",
       "    'prevalence_qualification': 'Value and class',\n",
       "    'prevalence_type': 'Point prevalence',\n",
       "    'prevalence_validation_status': 'Validated',\n",
       "    'source': 'European Medicines Agency 2015[INST]'}],\n",
       "  'synonyms': ['FPLD'],\n",
       "  'type_of_inheritance': ['Autosomal dominant', 'Autosomal recessive'],\n",
       "  'xref': {'mesh': ['D052496'], 'umls_cui': ['C0271694']}},\n",
       " {'_id': 'orphanet:79084',\n",
       "  'alternative_term': ['FPLD1', 'Familial partial lipodystrophy type 1'],\n",
       "  'ave_age_of_onset': ['Childhood'],\n",
       "  'definition': 'Familial partial lipodystrophy, Köbberling type, is a very rare form of familial partial lipodystrophy (FPLD; see this term) of unknown etiology characterized by lipoatrophy that is confined to the limbs and a normal or increased fat distribution of the face, neck, and trunk. Arterial hypertension and diabetes have also been associated. Inheritance is thought to be autosomal dominant.',\n",
       "  'definition_citation': 'orphanet',\n",
       "  'definitions': 'Familial partial lipodystrophy, Köbberling type, is a very rare form of familial partial lipodystrophy (FPLD; see this term) of unknown etiology characterized by lipoatrophy that is confined to the limbs and a normal or increased fat distribution of the face, neck, and trunk. Arterial hypertension and diabetes have also been associated. Inheritance is thought to be autosomal dominant.',\n",
       "  'disease_gene_associations': [{'dga_status': 'Not yet assessed',\n",
       "    'dga_type': 'Candidate gene tested in',\n",
       "    'gene_name': 'lamin A/C',\n",
       "    'gene_symbol': 'LMNA',\n",
       "    'gene_type': 'gene with protein product',\n",
       "    'loci': ['1q22']}],\n",
       "  'mapping': {'E': ['omim:608600'], 'NTBT': ['icd10cm:E88.1']},\n",
       "  'parents': ['orphanet:377788'],\n",
       "  'part_of': ['orphanet:98306'],\n",
       "  'phenotypes': [{'frequency': 'Frequent (79-30%)',\n",
       "    'phenotype_id': 'hp:0000147',\n",
       "    'phenotype_name': 'Polycystic ovaries'},\n",
       "   {'frequency': 'Very frequent (99-80%)',\n",
       "    'phenotype_id': 'hp:0000819',\n",
       "    'phenotype_name': 'Diabetes mellitus'},\n",
       "   {'frequency': 'Very frequent (99-80%)',\n",
       "    'phenotype_id': 'hp:0000822',\n",
       "    'phenotype_name': 'Hypertension'},\n",
       "   {'frequency': 'Very frequent (99-80%)',\n",
       "    'phenotype_id': 'hp:0000842',\n",
       "    'phenotype_name': 'Hyperinsulinemia'},\n",
       "   {'frequency': 'Very frequent (99-80%)',\n",
       "    'phenotype_id': 'hp:0000855',\n",
       "    'phenotype_name': 'Insulin resistance'},\n",
       "   {'frequency': 'Occasional (29-5%)',\n",
       "    'phenotype_id': 'hp:0000956',\n",
       "    'phenotype_name': 'Acanthosis nigricans'},\n",
       "   {'frequency': 'Frequent (79-30%)',\n",
       "    'phenotype_id': 'hp:0000991',\n",
       "    'phenotype_name': 'Xanthomatosis'},\n",
       "   {'frequency': 'Frequent (79-30%)',\n",
       "    'phenotype_id': 'hp:0001397',\n",
       "    'phenotype_name': 'Hepatic steatosis'},\n",
       "   {'frequency': 'Occasional (29-5%)',\n",
       "    'phenotype_id': 'hp:0001677',\n",
       "    'phenotype_name': 'Coronary artery disease'},\n",
       "   {'frequency': 'Occasional (29-5%)',\n",
       "    'phenotype_id': 'hp:0001733',\n",
       "    'phenotype_name': 'Pancreatitis'},\n",
       "   {'frequency': 'Frequent (79-30%)',\n",
       "    'phenotype_id': 'hp:0002240',\n",
       "    'phenotype_name': 'Hepatomegaly'},\n",
       "   {'frequency': 'Very frequent (99-80%)',\n",
       "    'phenotype_id': 'hp:0100578',\n",
       "    'phenotype_name': 'Lipoatrophy'}],\n",
       "  'preferred_label': 'Familial partial lipodystrophy, Köbberling type',\n",
       "  'prevalence': [{'mean_value': 20.0,\n",
       "    'prevalence_geographic': 'Worldwide',\n",
       "    'prevalence_qualification': 'Case',\n",
       "    'prevalence_type': 'Cases/families',\n",
       "    'prevalence_validation_status': 'Validated',\n",
       "    'source': '16409151[PMID]'},\n",
       "   {'mean_value': None,\n",
       "    'prevalence_class': '<1 / 1 000 000',\n",
       "    'prevalence_geographic': 'Worldwide',\n",
       "    'prevalence_qualification': 'Class only',\n",
       "    'prevalence_type': 'Point prevalence',\n",
       "    'prevalence_validation_status': 'Validated',\n",
       "    'source': 'ORPHANET'}],\n",
       "  'synonyms': ['FPLD1', 'Familial partial lipodystrophy type 1'],\n",
       "  'tree_view': ['orphanet:98306'],\n",
       "  'type_of_inheritance': ['Autosomal dominant'],\n",
       "  'xref': {'omim': ['608600']}},\n",
       " {'_id': 'orphanet:280356',\n",
       "  'alternative_term': ['PLIN1-related FPLD', 'FPLD4'],\n",
       "  'ave_age_of_onset': ['Childhood'],\n",
       "  'disease_gene_associations': [{'dga_status': 'Assessed',\n",
       "    'dga_type': 'Disease-causing germline mutation(s) in',\n",
       "    'gene_name': 'perilipin 1',\n",
       "    'gene_symbol': 'PLIN1',\n",
       "    'gene_type': 'gene with protein product',\n",
       "    'loci': ['15q26']}],\n",
       "  'mapping': {'E': ['omim:613877'], 'NTBT': ['icd10cm:E88.1']},\n",
       "  'parents': ['orphanet:377788'],\n",
       "  'part_of': ['orphanet:98306', 'orphanet:181368'],\n",
       "  'preferred_label': 'PLIN1-related familial partial lipodystrophy',\n",
       "  'prevalence': [{'mean_value': 3.0,\n",
       "    'prevalence_geographic': 'Worldwide',\n",
       "    'prevalence_qualification': 'Case',\n",
       "    'prevalence_type': 'Cases/families',\n",
       "    'prevalence_validation_status': 'Validated',\n",
       "    'source': '21345103[PMID]'},\n",
       "   {'mean_value': None,\n",
       "    'prevalence_class': '<1 / 1 000 000',\n",
       "    'prevalence_geographic': 'Worldwide',\n",
       "    'prevalence_qualification': 'Class only',\n",
       "    'prevalence_type': 'Point prevalence',\n",
       "    'prevalence_validation_status': 'Validated',\n",
       "    'source': 'ORPHANET'}],\n",
       "  'synonyms': ['PLIN1-related FPLD', 'FPLD4'],\n",
       "  'tree_view': ['orphanet:98306', 'orphanet:181368'],\n",
       "  'type_of_inheritance': ['Autosomal dominant'],\n",
       "  'xref': {'omim': ['613877']}},\n",
       " {'_id': 'orphanet:435651',\n",
       "  'alternative_term': ['CIDEC-related FPLD'],\n",
       "  'ave_age_of_death': ['No data available'],\n",
       "  'ave_age_of_onset': ['Adolescent'],\n",
       "  'disease_gene_associations': [{'dga_status': 'Assessed',\n",
       "    'dga_type': 'Disease-causing germline mutation(s) (loss of function) in',\n",
       "    'gene_name': 'cell death inducing DFFA like effector c',\n",
       "    'gene_symbol': 'CIDEC',\n",
       "    'gene_type': 'gene with protein product',\n",
       "    'loci': ['3p25']}],\n",
       "  'mapping': {'E': ['omim:615238'], 'NTBT': ['icd10cm:E88.1']},\n",
       "  'parents': ['orphanet:377788'],\n",
       "  'part_of': ['orphanet:98306'],\n",
       "  'preferred_label': 'CIDEC-related familial partial lipodystrophy',\n",
       "  'prevalence': [{'mean_value': None,\n",
       "    'prevalence_class': '<1 / 1 000 000',\n",
       "    'prevalence_geographic': 'Worldwide',\n",
       "    'prevalence_qualification': 'Class only',\n",
       "    'prevalence_type': 'Point prevalence',\n",
       "    'prevalence_validation_status': 'Validated',\n",
       "    'source': 'ORPHANET_20049731[PMID]'},\n",
       "   {'mean_value': 1.0,\n",
       "    'prevalence_geographic': 'Worldwide',\n",
       "    'prevalence_qualification': 'Case',\n",
       "    'prevalence_type': 'Cases/families',\n",
       "    'prevalence_validation_status': 'Validated',\n",
       "    'source': '20049731[PMID]'}],\n",
       "  'synonyms': ['CIDEC-related FPLD'],\n",
       "  'tree_view': ['orphanet:98306'],\n",
       "  'type_of_inheritance': ['Autosomal recessive'],\n",
       "  'xref': {'omim': ['615238']}}]"
      ]
     },
     "execution_count": 22,
     "metadata": {},
     "output_type": "execute_result"
    }
   ],
   "source": [
    "doc['orphanet']"
   ]
  }
 ],
 "metadata": {
  "kernelspec": {
   "display_name": "Python 3",
   "language": "python",
   "name": "python3"
  },
  "language_info": {
   "codemirror_mode": {
    "name": "ipython",
    "version": 3
   },
   "file_extension": ".py",
   "mimetype": "text/x-python",
   "name": "python",
   "nbconvert_exporter": "python",
   "pygments_lexer": "ipython3",
   "version": "3.5.2"
  }
 },
 "nbformat": 4,
 "nbformat_minor": 0
}
