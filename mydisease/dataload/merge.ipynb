{
 "cells": [
  {
   "cell_type": "code",
   "execution_count": 1,
   "metadata": {
    "collapsed": false
   },
   "outputs": [],
   "source": [
    "### Merge\n",
    "\n",
    "from pymongo import MongoClient\n",
    "from collections import Counter\n",
    "import networkx as nx\n",
    "import matplotlib.pyplot as plt\n",
    "from pymongo import MongoClient\n",
    "from collections import Counter\n",
    "import seaborn as sns\n",
    "from pprint import pprint\n",
    "from collections import defaultdict\n",
    "%matplotlib inline"
   ]
  },
  {
   "cell_type": "code",
   "execution_count": 2,
   "metadata": {
    "collapsed": false
   },
   "outputs": [],
   "source": [
    "db_names = ['orphanet','DO','ctdbase', 'disgenet', 'mesh','omim']\n",
    "all_ids = set()\n",
    "for db_name in db_names:\n",
    "    db = MongoClient().mydisease[db_name]\n",
    "    all_ids.update(set([x['_id'] for x in db.find({},{'_id':1})]))"
   ]
  },
  {
   "cell_type": "code",
   "execution_count": 3,
   "metadata": {
    "collapsed": false
   },
   "outputs": [
    {
     "data": {
      "text/plain": [
       "Counter({'DOID': 6966,\n",
       "         'MESH': 6798,\n",
       "         'OMIM': 24903,\n",
       "         'ObsoleteClass': 1,\n",
       "         'Orphanet': 9947})"
      ]
     },
     "execution_count": 3,
     "metadata": {},
     "output_type": "execute_result"
    }
   ],
   "source": [
    "Counter([x.split(\":\",1)[0] for x in all_ids])"
   ]
  },
  {
   "cell_type": "code",
   "execution_count": 4,
   "metadata": {
    "collapsed": true
   },
   "outputs": [],
   "source": [
    "# build id graph\n",
    "g = nx.Graph()\n",
    "db_names = ['orphanet','DO','ctdbase', 'disgenet','mesh','omim']\n",
    "for db_name in db_names:\n",
    "    db = MongoClient().mydisease[db_name]\n",
    "    for doc in db.find({'xref':{'$exists': True}},{'xref':1}):\n",
    "        for xref in doc['xref']:\n",
    "            g.add_edge(doc['_id'],xref)"
   ]
  },
  {
   "cell_type": "markdown",
   "metadata": {},
   "source": [
    "### How many DOIDs are within 1 or 2 hops from each type of ID?"
   ]
  },
  {
   "cell_type": "code",
   "execution_count": 5,
   "metadata": {
    "collapsed": false
   },
   "outputs": [],
   "source": [
    "def num_doids_in_sg(g, cutoff):\n",
    "    d = defaultdict(list)\n",
    "    for id in all_ids:\n",
    "        if id.startswith(\"DOID:\"):\n",
    "            continue\n",
    "        if id not in g:\n",
    "            continue\n",
    "        neighbors = list(nx.single_source_shortest_path_length(g, id, cutoff=cutoff).keys())\n",
    "        pre = [x.split(\":\")[0] for x in neighbors]\n",
    "        d[id.split(\":\")[0]].append(pre.count(\"DOID\"))\n",
    "    d = dict(d)\n",
    "    return {k:Counter(v) for k,v in d.items()}"
   ]
  },
  {
   "cell_type": "code",
   "execution_count": 6,
   "metadata": {
    "collapsed": false
   },
   "outputs": [
    {
     "data": {
      "text/plain": [
       "{'MESH': Counter({0: 540,\n",
       "          1: 2333,\n",
       "          2: 147,\n",
       "          3: 32,\n",
       "          4: 8,\n",
       "          5: 2,\n",
       "          6: 2,\n",
       "          9: 1,\n",
       "          16: 1}),\n",
       " 'OMIM': Counter({0: 2652, 1: 3683, 2: 62, 3: 1}),\n",
       " 'Orphanet': Counter({0: 5050, 1: 469, 2: 2, 3: 2, 4: 2, 5: 1})}"
      ]
     },
     "execution_count": 6,
     "metadata": {},
     "output_type": "execute_result"
    }
   ],
   "source": [
    "num_doids_in_sg(g, 1)"
   ]
  },
  {
   "cell_type": "code",
   "execution_count": 7,
   "metadata": {
    "collapsed": false
   },
   "outputs": [
    {
     "data": {
      "text/plain": [
       "{'MESH': Counter({0: 505,\n",
       "          1: 2361,\n",
       "          2: 154,\n",
       "          3: 32,\n",
       "          4: 8,\n",
       "          5: 2,\n",
       "          6: 2,\n",
       "          9: 1,\n",
       "          16: 1}),\n",
       " 'OMIM': Counter({0: 2523, 1: 3680, 2: 158, 3: 17, 4: 14, 5: 5, 6: 1}),\n",
       " 'Orphanet': Counter({0: 3035,\n",
       "          1: 2167,\n",
       "          2: 211,\n",
       "          3: 55,\n",
       "          4: 20,\n",
       "          5: 8,\n",
       "          6: 9,\n",
       "          7: 1,\n",
       "          8: 5,\n",
       "          9: 6,\n",
       "          10: 4,\n",
       "          11: 1,\n",
       "          16: 1,\n",
       "          18: 1,\n",
       "          21: 2})}"
      ]
     },
     "execution_count": 7,
     "metadata": {},
     "output_type": "execute_result"
    }
   ],
   "source": [
    "num_doids_in_sg(g, 2)"
   ]
  },
  {
   "cell_type": "code",
   "execution_count": 8,
   "metadata": {
    "collapsed": false
   },
   "outputs": [
    {
     "data": {
      "text/plain": [
       "{'MESH': Counter({0: 318,\n",
       "          1: 1599,\n",
       "          2: 372,\n",
       "          3: 200,\n",
       "          4: 143,\n",
       "          5: 53,\n",
       "          6: 66,\n",
       "          7: 40,\n",
       "          8: 43,\n",
       "          9: 68,\n",
       "          10: 22,\n",
       "          11: 54,\n",
       "          12: 16,\n",
       "          13: 21,\n",
       "          14: 16,\n",
       "          15: 15,\n",
       "          21: 3,\n",
       "          30: 6,\n",
       "          33: 11}),\n",
       " 'OMIM': Counter({0: 2201,\n",
       "          1: 1752,\n",
       "          2: 704,\n",
       "          3: 290,\n",
       "          4: 246,\n",
       "          5: 116,\n",
       "          6: 60,\n",
       "          7: 119,\n",
       "          8: 132,\n",
       "          9: 71,\n",
       "          10: 188,\n",
       "          11: 106,\n",
       "          12: 6,\n",
       "          13: 227,\n",
       "          14: 79,\n",
       "          15: 16,\n",
       "          21: 21,\n",
       "          30: 53,\n",
       "          33: 11}),\n",
       " 'Orphanet': Counter({0: 2934,\n",
       "          1: 1236,\n",
       "          2: 318,\n",
       "          3: 194,\n",
       "          4: 167,\n",
       "          5: 111,\n",
       "          6: 70,\n",
       "          7: 57,\n",
       "          8: 47,\n",
       "          9: 63,\n",
       "          10: 56,\n",
       "          11: 86,\n",
       "          12: 15,\n",
       "          13: 75,\n",
       "          14: 31,\n",
       "          15: 17,\n",
       "          21: 27,\n",
       "          30: 8,\n",
       "          33: 14})}"
      ]
     },
     "execution_count": 8,
     "metadata": {},
     "output_type": "execute_result"
    }
   ],
   "source": [
    "num_doids_in_sg(g, 100)"
   ]
  },
  {
   "cell_type": "code",
   "execution_count": 9,
   "metadata": {
    "collapsed": true
   },
   "outputs": [],
   "source": [
    "## Between one hop and two hops, mesh and omim dont really change. But we can link 2k more orphanet IDs"
   ]
  },
  {
   "cell_type": "code",
   "execution_count": 10,
   "metadata": {
    "collapsed": false
   },
   "outputs": [
    {
     "data": {
      "text/plain": [
       "['DOID:0050440']"
      ]
     },
     "execution_count": 10,
     "metadata": {},
     "output_type": "execute_result"
    }
   ],
   "source": [
    "def get_equiv_doid(g, did):\n",
    "    \"\"\"\n",
    "    For a given ID, get the DOIDs it is equivalent to within 2 hops.\n",
    "    \"\"\"\n",
    "    if did.startswith(\"DOID:\"):\n",
    "        return [did]\n",
    "    if did not in g:\n",
    "        return []\n",
    "    equiv = list(nx.single_source_shortest_path_length(g, did, cutoff=2).keys())\n",
    "    return [x for x in equiv if x.startswith(\"DOID:\")]\n",
    "\n",
    "get_equiv_doid(g, 'Orphanet:98306')"
   ]
  },
  {
   "cell_type": "code",
   "execution_count": 17,
   "metadata": {
    "collapsed": false
   },
   "outputs": [
    {
     "data": {
      "text/plain": [
       "['DOID:0050440']"
      ]
     },
     "execution_count": 17,
     "metadata": {},
     "output_type": "execute_result"
    }
   ],
   "source": [
    "get_equiv_doid(g, 'UMLS_CUI:C1720859')"
   ]
  },
  {
   "cell_type": "code",
   "execution_count": 18,
   "metadata": {
    "collapsed": false
   },
   "outputs": [],
   "source": [
    "## merge docs\n",
    "d = dict()\n",
    "# make initial primary d with all DOID docs\n",
    "db = MongoClient().mydisease.DO\n",
    "d = {doc['_id']: {'disease_ontology': doc} for doc in db.find()}\n",
    "\n",
    "# fill in from other sources\n",
    "db_names = ['orphanet','ctdbase','disgenet','mesh','omim']\n",
    "for db_name in db_names:\n",
    "    db = MongoClient().mydisease[db_name]\n",
    "    for doc in db.find():\n",
    "        doids = get_equiv_doid(g, doc['_id'])\n",
    "        for doid in doids:\n",
    "            if db_name not in d[doid]:\n",
    "                d[doid][db_name] = []\n",
    "            d[doid][db_name].append(doc)"
   ]
  },
  {
   "cell_type": "code",
   "execution_count": 19,
   "metadata": {
    "collapsed": false
   },
   "outputs": [
    {
     "data": {
      "text/plain": [
       "dict_keys(['mesh', 'disease_ontology', 'ctdbase', 'orphanet', 'disgenet', 'omim'])"
      ]
     },
     "execution_count": 19,
     "metadata": {},
     "output_type": "execute_result"
    }
   ],
   "source": [
    "d['DOID:0050440'].keys()"
   ]
  },
  {
   "cell_type": "code",
   "execution_count": 28,
   "metadata": {
    "collapsed": false
   },
   "outputs": [
    {
     "data": {
      "text/plain": [
       "[{'UMLS_CUI:C0271694': ['AKT2', 'LMNA', 'PPARG', 'PPP1R3A', 'CAV1']},\n",
       " {'UMLS_CUI:C1720859': ['LMNA']},\n",
       " {'UMLS_CUI:C1720860': ['LMNA']},\n",
       " {'UMLS_CUI:C1720861': ['PPARG']}]"
      ]
     },
     "execution_count": 28,
     "metadata": {},
     "output_type": "execute_result"
    }
   ],
   "source": [
    "[{x['_id']:[y['geneName'] for y  in x['genes']]} for x in d['DOID:0050440']['disgenet']]"
   ]
  },
  {
   "cell_type": "code",
   "execution_count": 20,
   "metadata": {
    "collapsed": false
   },
   "outputs": [
    {
     "data": {
      "text/plain": [
       "{'_id': 'DOID:0050440',\n",
       " 'comment': 'Xref MGI.\\\\nOMIM mapping confirmed by DO. [SN].',\n",
       " 'def': 'A lipodystrophy characterized by abnormal subcutaneous adipose tissue distribution beginning in late childhood or early adult life.',\n",
       " 'def_ref': ['url:http\\\\://en.wikipedia.org/wiki/Familial_partial_lipodystrophy',\n",
       "  'url:http\\\\://omim.org/entry/60860'],\n",
       " 'is_a': ['DOID:811'],\n",
       " 'name': 'familial partial lipodystrophy',\n",
       " 'subset': ['DO_MGI_slim'],\n",
       " 'synonym': ['Dunnigan Syndrome', 'Koberling-Dunnigan Syndrome'],\n",
       " 'xref': ['MESH:D052496',\n",
       "  'NCI:C84708',\n",
       "  'OMIM:151660',\n",
       "  'OMIM:604367',\n",
       "  'OMIM:608600',\n",
       "  'OMIM:613877',\n",
       "  'OMIM:615238',\n",
       "  'SNOMEDCT_US_2016_03_01:49292002',\n",
       "  'UMLS_CUI:C0271694',\n",
       "  'UMLS_CUI:C1720859',\n",
       "  'UMLS_CUI:C1720860',\n",
       "  'UMLS_CUI:C1720861']}"
      ]
     },
     "execution_count": 20,
     "metadata": {},
     "output_type": "execute_result"
    }
   ],
   "source": [
    "d['DOID:0050440']['disease_ontology']"
   ]
  },
  {
   "cell_type": "code",
   "execution_count": 21,
   "metadata": {
    "collapsed": false
   },
   "outputs": [
    {
     "data": {
      "text/plain": [
       "'MESH:D052496'"
      ]
     },
     "execution_count": 21,
     "metadata": {},
     "output_type": "execute_result"
    }
   ],
   "source": [
    "d['DOID:0050440']['ctdbase'][0]['_id']"
   ]
  },
  {
   "cell_type": "code",
   "execution_count": 22,
   "metadata": {
    "collapsed": false
   },
   "outputs": [
    {
     "data": {
      "text/plain": [
       "[[{'dga_status': 'Assessed',\n",
       "   'dga_type': 'Disease-causing germline mutation(s) in',\n",
       "   'gene_name': 'peroxisome proliferator activated receptor gamma',\n",
       "   'gene_symbol': 'PPARG',\n",
       "   'gene_type': 'gene with protein product',\n",
       "   'loci': ['3p25']}],\n",
       " [],\n",
       " [{'dga_status': 'Not yet assessed',\n",
       "   'dga_type': 'Candidate gene tested in',\n",
       "   'gene_name': 'lamin A/C',\n",
       "   'gene_symbol': 'LMNA',\n",
       "   'gene_type': 'gene with protein product',\n",
       "   'loci': ['1q22']}],\n",
       " [{'dga_status': 'Assessed',\n",
       "   'dga_type': 'Disease-causing germline mutation(s) (loss of function) in',\n",
       "   'gene_name': 'cell death inducing DFFA like effector c',\n",
       "   'gene_symbol': 'CIDEC',\n",
       "   'gene_type': 'gene with protein product',\n",
       "   'loci': ['3p25']}],\n",
       " [{'dga_status': 'Assessed',\n",
       "   'dga_type': 'Disease-causing germline mutation(s) in',\n",
       "   'gene_name': 'lamin A/C',\n",
       "   'gene_symbol': 'LMNA',\n",
       "   'gene_type': 'gene with protein product',\n",
       "   'loci': ['1q22']}],\n",
       " [{'dga_status': 'Assessed',\n",
       "   'dga_type': 'Disease-causing germline mutation(s) in',\n",
       "   'gene_name': 'perilipin 1',\n",
       "   'gene_symbol': 'PLIN1',\n",
       "   'gene_type': 'gene with protein product',\n",
       "   'loci': ['15q26']}]]"
      ]
     },
     "execution_count": 22,
     "metadata": {},
     "output_type": "execute_result"
    }
   ],
   "source": [
    "[x.get('disease_gene_associations',[]) for x in d['DOID:0050440']['orphanet']]"
   ]
  },
  {
   "cell_type": "code",
   "execution_count": 23,
   "metadata": {
    "collapsed": false,
    "scrolled": false
   },
   "outputs": [
    {
     "data": {
      "text/plain": [
       "[{'_id': 'Orphanet:79083',\n",
       "  'alternative_term': ['PPARG-related FPLD',\n",
       "   'Familial partial lipodystrophy type 3',\n",
       "   'FPLD3'],\n",
       "  'ave_age_of_onset': ['Adult'],\n",
       "  'disease_gene_associations': [{'dga_status': 'Assessed',\n",
       "    'dga_type': 'Disease-causing germline mutation(s) in',\n",
       "    'gene_name': 'peroxisome proliferator activated receptor gamma',\n",
       "    'gene_symbol': 'PPARG',\n",
       "    'gene_type': 'gene with protein product',\n",
       "    'loci': ['3p25']}],\n",
       "  'mapping': {'E': ['OMIM:604367'], 'NTBT': ['ICD10CM:E88.1']},\n",
       "  'parents': ['Orphanet:377788'],\n",
       "  'part_of': ['Orphanet:98306'],\n",
       "  'preferred_label': 'PPARG-related familial partial lipodystrophy',\n",
       "  'prevalence': [{'mean_value': '10.0',\n",
       "    'prevalence_geographic': 'Worldwide',\n",
       "    'prevalence_qualification': 'Case',\n",
       "    'prevalence_type': 'Cases/families',\n",
       "    'prevalence_validation_status': 'Validated',\n",
       "    'source': '16409151[PMID]'},\n",
       "   {'mean_value': '0.0',\n",
       "    'prevalence_class': '<1 / 1 000 000',\n",
       "    'prevalence_geographic': 'Worldwide',\n",
       "    'prevalence_qualification': 'Class only',\n",
       "    'prevalence_type': 'Point prevalence',\n",
       "    'prevalence_validation_status': 'Validated',\n",
       "    'source': 'ORPHANET'}],\n",
       "  'synonyms': ['PPARG-related FPLD',\n",
       "   'Familial partial lipodystrophy type 3',\n",
       "   'FPLD3'],\n",
       "  'tree_view': ['Orphanet:98306'],\n",
       "  'type_of_inheritance': ['Autosomal dominant'],\n",
       "  'xref': ['OMIM:604367']},\n",
       " {'_id': 'Orphanet:98306',\n",
       "  'alternative_term': ['FPLD'],\n",
       "  'definition': 'Familial partial lipodystrophy (FPLD) is a group of rare genetic lipodystrophic syndromes characterized, in most cases, by fat loss from the limbs and buttocks, from childhood or early adulthood, and often associated with acanthosis nigricans, insulin resistance, diabetes, hypertriglyceridemia and liver steatosis.',\n",
       "  'definition_citation': 'orphanet',\n",
       "  'definitions': 'Familial partial lipodystrophy (FPLD) is a group of rare genetic lipodystrophic syndromes characterized, in most cases, by fat loss from the limbs and buttocks, from childhood or early adulthood, and often associated with acanthosis nigricans, insulin resistance, diabetes, hypertriglyceridemia and liver steatosis.',\n",
       "  'mapping': {'E': ['MESH:D052496', 'UMLS_CUI:C0271694'],\n",
       "   'NTBT': ['ICD10CM:E88.1']},\n",
       "  'parents': ['Orphanet:98305', 'Orphanet:377794'],\n",
       "  'preferred_label': 'Familial partial lipodystrophy',\n",
       "  'prevalence': [{'mean_value': '2.0',\n",
       "    'prevalence_class': '1-9 / 100 000',\n",
       "    'prevalence_geographic': 'Europe',\n",
       "    'prevalence_qualification': 'Value and class',\n",
       "    'prevalence_type': 'Point prevalence',\n",
       "    'prevalence_validation_status': 'Validated',\n",
       "    'source': 'European Medicines Agency 2015[INST]'}],\n",
       "  'synonyms': ['FPLD'],\n",
       "  'type_of_inheritance': ['Autosomal dominant', 'Autosomal recessive'],\n",
       "  'xref': ['MESH:D052496', 'UMLS_CUI:C0271694']},\n",
       " {'_id': 'Orphanet:79084',\n",
       "  'alternative_term': ['FPLD1', 'Familial partial lipodystrophy type 1'],\n",
       "  'ave_age_of_onset': ['Childhood'],\n",
       "  'definition': 'Familial partial lipodystrophy, Köbberling type, is a very rare form of familial partial lipodystrophy (FPLD; see this term) of unknown etiology characterized by lipoatrophy that is confined to the limbs and a normal or increased fat distribution of the face, neck, and trunk. Arterial hypertension and diabetes have also been associated. Inheritance is thought to be autosomal dominant.',\n",
       "  'definition_citation': 'orphanet',\n",
       "  'definitions': 'Familial partial lipodystrophy, Köbberling type, is a very rare form of familial partial lipodystrophy (FPLD; see this term) of unknown etiology characterized by lipoatrophy that is confined to the limbs and a normal or increased fat distribution of the face, neck, and trunk. Arterial hypertension and diabetes have also been associated. Inheritance is thought to be autosomal dominant.',\n",
       "  'disease_gene_associations': [{'dga_status': 'Not yet assessed',\n",
       "    'dga_type': 'Candidate gene tested in',\n",
       "    'gene_name': 'lamin A/C',\n",
       "    'gene_symbol': 'LMNA',\n",
       "    'gene_type': 'gene with protein product',\n",
       "    'loci': ['1q22']}],\n",
       "  'mapping': {'E': ['OMIM:608600'], 'NTBT': ['ICD10CM:E88.1']},\n",
       "  'parents': ['Orphanet:377788'],\n",
       "  'part_of': ['Orphanet:98306'],\n",
       "  'phenotypes': [{'frequency': 'Frequent (79-30%)',\n",
       "    'phenotype_id': 'HP:0000147',\n",
       "    'phenotype_name': 'Polycystic ovaries'},\n",
       "   {'frequency': 'Very frequent (99-80%)',\n",
       "    'phenotype_id': 'HP:0000819',\n",
       "    'phenotype_name': 'Diabetes mellitus'},\n",
       "   {'frequency': 'Very frequent (99-80%)',\n",
       "    'phenotype_id': 'HP:0000822',\n",
       "    'phenotype_name': 'Hypertension'},\n",
       "   {'frequency': 'Very frequent (99-80%)',\n",
       "    'phenotype_id': 'HP:0000842',\n",
       "    'phenotype_name': 'Hyperinsulinemia'},\n",
       "   {'frequency': 'Very frequent (99-80%)',\n",
       "    'phenotype_id': 'HP:0000855',\n",
       "    'phenotype_name': 'Insulin resistance'},\n",
       "   {'frequency': 'Occasional (29-5%)',\n",
       "    'phenotype_id': 'HP:0000956',\n",
       "    'phenotype_name': 'Acanthosis nigricans'},\n",
       "   {'frequency': 'Frequent (79-30%)',\n",
       "    'phenotype_id': 'HP:0000991',\n",
       "    'phenotype_name': 'Xanthomatosis'},\n",
       "   {'frequency': 'Frequent (79-30%)',\n",
       "    'phenotype_id': 'HP:0001397',\n",
       "    'phenotype_name': 'Hepatic steatosis'},\n",
       "   {'frequency': 'Occasional (29-5%)',\n",
       "    'phenotype_id': 'HP:0001677',\n",
       "    'phenotype_name': 'Coronary artery disease'},\n",
       "   {'frequency': 'Occasional (29-5%)',\n",
       "    'phenotype_id': 'HP:0001733',\n",
       "    'phenotype_name': 'Pancreatitis'},\n",
       "   {'frequency': 'Frequent (79-30%)',\n",
       "    'phenotype_id': 'HP:0002240',\n",
       "    'phenotype_name': 'Hepatomegaly'},\n",
       "   {'frequency': 'Very frequent (99-80%)',\n",
       "    'phenotype_id': 'HP:0100578',\n",
       "    'phenotype_name': 'Lipoatrophy'}],\n",
       "  'preferred_label': 'Familial partial lipodystrophy, Köbberling type',\n",
       "  'prevalence': [{'mean_value': '20.0',\n",
       "    'prevalence_geographic': 'Worldwide',\n",
       "    'prevalence_qualification': 'Case',\n",
       "    'prevalence_type': 'Cases/families',\n",
       "    'prevalence_validation_status': 'Validated',\n",
       "    'source': '16409151[PMID]'},\n",
       "   {'mean_value': '0.0',\n",
       "    'prevalence_class': '<1 / 1 000 000',\n",
       "    'prevalence_geographic': 'Worldwide',\n",
       "    'prevalence_qualification': 'Class only',\n",
       "    'prevalence_type': 'Point prevalence',\n",
       "    'prevalence_validation_status': 'Validated',\n",
       "    'source': 'ORPHANET'}],\n",
       "  'synonyms': ['FPLD1', 'Familial partial lipodystrophy type 1'],\n",
       "  'tree_view': ['Orphanet:98306'],\n",
       "  'type_of_inheritance': ['Autosomal dominant'],\n",
       "  'xref': ['OMIM:608600']},\n",
       " {'_id': 'Orphanet:435651',\n",
       "  'alternative_term': ['CIDEC-related FPLD'],\n",
       "  'ave_age_of_death': ['No data available'],\n",
       "  'ave_age_of_onset': ['Adolescent'],\n",
       "  'disease_gene_associations': [{'dga_status': 'Assessed',\n",
       "    'dga_type': 'Disease-causing germline mutation(s) (loss of function) in',\n",
       "    'gene_name': 'cell death inducing DFFA like effector c',\n",
       "    'gene_symbol': 'CIDEC',\n",
       "    'gene_type': 'gene with protein product',\n",
       "    'loci': ['3p25']}],\n",
       "  'mapping': {'E': ['OMIM:615238'], 'NTBT': ['ICD10CM:E88.1']},\n",
       "  'parents': ['Orphanet:377788'],\n",
       "  'part_of': ['Orphanet:98306'],\n",
       "  'preferred_label': 'CIDEC-related familial partial lipodystrophy',\n",
       "  'prevalence': [{'mean_value': '0.0',\n",
       "    'prevalence_class': '<1 / 1 000 000',\n",
       "    'prevalence_geographic': 'Worldwide',\n",
       "    'prevalence_qualification': 'Class only',\n",
       "    'prevalence_type': 'Point prevalence',\n",
       "    'prevalence_validation_status': 'Validated',\n",
       "    'source': 'ORPHANET_20049731[PMID]'},\n",
       "   {'mean_value': '1.0',\n",
       "    'prevalence_geographic': 'Worldwide',\n",
       "    'prevalence_qualification': 'Case',\n",
       "    'prevalence_type': 'Cases/families',\n",
       "    'prevalence_validation_status': 'Validated',\n",
       "    'source': '20049731[PMID]'}],\n",
       "  'synonyms': ['CIDEC-related FPLD'],\n",
       "  'tree_view': ['Orphanet:98306'],\n",
       "  'type_of_inheritance': ['Autosomal recessive'],\n",
       "  'xref': ['OMIM:615238']},\n",
       " {'_id': 'Orphanet:2348',\n",
       "  'alternative_term': ['FPLD2',\n",
       "   'Dunnigan syndrome',\n",
       "   'Familial partial lipodystrophy type 2'],\n",
       "  'ave_age_of_death': ['adult', 'elderly'],\n",
       "  'ave_age_of_onset': ['Adolescent', 'Adult'],\n",
       "  'definition': 'Familial Partial lipodystrophy, Dunnigan type (FPLD2) is a rare form of genetic lipodystrophy (see this term) characterized by a loss of subcutaneous adipose tissue from the trunk, buttocks and limbs; fat accumulation in the neck, face, axillary and pelvic regions; muscular hypertrophy; and usually associated with metabolic complications such as insulin resistance, diabetes mellitus, dyslipidemia and liver steatosis.',\n",
       "  'definition_citation': 'orphanet',\n",
       "  'definitions': 'Familial Partial lipodystrophy, Dunnigan type (FPLD2) is a rare form of genetic lipodystrophy (see this term) characterized by a loss of subcutaneous adipose tissue from the trunk, buttocks and limbs; fat accumulation in the neck, face, axillary and pelvic regions; muscular hypertrophy; and usually associated with metabolic complications such as insulin resistance, diabetes mellitus, dyslipidemia and liver steatosis.',\n",
       "  'disease_gene_associations': [{'dga_status': 'Assessed',\n",
       "    'dga_type': 'Disease-causing germline mutation(s) in',\n",
       "    'gene_name': 'lamin A/C',\n",
       "    'gene_symbol': 'LMNA',\n",
       "    'gene_type': 'gene with protein product',\n",
       "    'loci': ['1q22']}],\n",
       "  'mapping': {'E': ['OMIM:151660', 'UMLS_CUI:C1720860'],\n",
       "   'NTBT': ['ICD10CM:E88.1']},\n",
       "  'parents': ['Orphanet:377788'],\n",
       "  'part_of': ['Orphanet:363245', 'Orphanet:98306', 'Orphanet:139033'],\n",
       "  'phenotypes': [{'frequency': 'Occasional (29-5%)',\n",
       "    'phenotype_id': 'HP:0000147',\n",
       "    'phenotype_name': 'Polycystic ovaries'},\n",
       "   {'frequency': 'Very frequent (99-80%)',\n",
       "    'phenotype_id': 'HP:0000311',\n",
       "    'phenotype_name': 'Round face'},\n",
       "   {'frequency': 'Very frequent (99-80%)',\n",
       "    'phenotype_id': 'HP:0000819',\n",
       "    'phenotype_name': 'Diabetes mellitus'},\n",
       "   {'frequency': 'Very frequent (99-80%)',\n",
       "    'phenotype_id': 'HP:0000855',\n",
       "    'phenotype_name': 'Insulin resistance'},\n",
       "   {'frequency': 'Frequent (79-30%)',\n",
       "    'phenotype_id': 'HP:0000869',\n",
       "    'phenotype_name': 'Secondary amenorrhea'},\n",
       "   {'frequency': 'Occasional (29-5%)',\n",
       "    'phenotype_id': 'HP:0000956',\n",
       "    'phenotype_name': 'Acanthosis nigricans'},\n",
       "   {'frequency': 'Frequent (79-30%)',\n",
       "    'phenotype_id': 'HP:0000963',\n",
       "    'phenotype_name': 'Thin skin'},\n",
       "   {'frequency': 'Very frequent (99-80%)',\n",
       "    'phenotype_id': 'HP:0000991',\n",
       "    'phenotype_name': 'Xanthomatosis'},\n",
       "   {'frequency': 'Occasional (29-5%)',\n",
       "    'phenotype_id': 'HP:0001397',\n",
       "    'phenotype_name': 'Hepatic steatosis'},\n",
       "   {'frequency': 'Frequent (79-30%)',\n",
       "    'phenotype_id': 'HP:0001597',\n",
       "    'phenotype_name': 'Abnormality of the nail'},\n",
       "   {'frequency': 'Occasional (29-5%)',\n",
       "    'phenotype_id': 'HP:0001635',\n",
       "    'phenotype_name': 'Congestive heart failure'},\n",
       "   {'frequency': 'Occasional (29-5%)',\n",
       "    'phenotype_id': 'HP:0001639',\n",
       "    'phenotype_name': 'Hypertrophic cardiomyopathy'},\n",
       "   {'frequency': 'Occasional (29-5%)',\n",
       "    'phenotype_id': 'HP:0001677',\n",
       "    'phenotype_name': 'Coronary artery disease'},\n",
       "   {'frequency': 'Occasional (29-5%)',\n",
       "    'phenotype_id': 'HP:0001733',\n",
       "    'phenotype_name': 'Pancreatitis'},\n",
       "   {'frequency': 'Occasional (29-5%)',\n",
       "    'phenotype_id': 'HP:0001744',\n",
       "    'phenotype_name': 'Splenomegaly'},\n",
       "   {'frequency': 'Very frequent (99-80%)',\n",
       "    'phenotype_id': 'HP:0002155',\n",
       "    'phenotype_name': 'Hypertriglyceridemia'},\n",
       "   {'frequency': 'Occasional (29-5%)',\n",
       "    'phenotype_id': 'HP:0002230',\n",
       "    'phenotype_name': 'Generalized hirsutism'},\n",
       "   {'frequency': 'Very frequent (99-80%)',\n",
       "    'phenotype_id': 'HP:0002240',\n",
       "    'phenotype_name': 'Hepatomegaly'},\n",
       "   {'frequency': 'Frequent (79-30%)',\n",
       "    'phenotype_id': 'HP:0002621',\n",
       "    'phenotype_name': 'Atherosclerosis'},\n",
       "   {'frequency': 'Occasional (29-5%)',\n",
       "    'phenotype_id': 'HP:0003198',\n",
       "    'phenotype_name': 'Myopathy'},\n",
       "   {'frequency': 'Occasional (29-5%)',\n",
       "    'phenotype_id': 'HP:0003326',\n",
       "    'phenotype_name': 'Myalgia'},\n",
       "   {'frequency': 'Frequent (79-30%)',\n",
       "    'phenotype_id': 'HP:0003635',\n",
       "    'phenotype_name': 'Loss of subcutaneous adipose tissue in limbs'},\n",
       "   {'frequency': 'Very frequent (99-80%)',\n",
       "    'phenotype_id': 'HP:0003712',\n",
       "    'phenotype_name': 'Skeletal muscle hypertrophy'},\n",
       "   {'frequency': 'Occasional (29-5%)',\n",
       "    'phenotype_id': 'HP:0005339',\n",
       "    'phenotype_name': 'Abnormality of complement system'},\n",
       "   {'frequency': 'Frequent (79-30%)',\n",
       "    'phenotype_id': 'HP:0006288',\n",
       "    'phenotype_name': 'Advanced eruption of teeth'},\n",
       "   {'frequency': 'Occasional (29-5%)',\n",
       "    'phenotype_id': 'HP:0006824',\n",
       "    'phenotype_name': 'Cranial nerve paralysis'},\n",
       "   {'frequency': 'Very frequent (99-80%)',\n",
       "    'phenotype_id': 'HP:0008065',\n",
       "    'phenotype_name': 'Aplasia/Hypoplasia of the skin'},\n",
       "   {'frequency': 'Very frequent (99-80%)',\n",
       "    'phenotype_id': 'HP:0009125',\n",
       "    'phenotype_name': 'Lipodystrophy'},\n",
       "   {'frequency': 'Occasional (29-5%)',\n",
       "    'phenotype_id': 'HP:0012084',\n",
       "    'phenotype_name': 'Abnormality of skeletal muscle fiber size'},\n",
       "   {'frequency': 'Very frequent (99-80%)',\n",
       "    'phenotype_id': 'HP:0100578',\n",
       "    'phenotype_name': 'Lipoatrophy'},\n",
       "   {'frequency': 'Occasional (29-5%)',\n",
       "    'phenotype_id': 'HP:0100601',\n",
       "    'phenotype_name': 'Eclampsia'},\n",
       "   {'frequency': 'Occasional (29-5%)',\n",
       "    'phenotype_id': 'HP:0100607',\n",
       "    'phenotype_name': 'Dysmenorrhea'},\n",
       "   {'frequency': 'Occasional (29-5%)',\n",
       "    'phenotype_id': 'HP:0100658',\n",
       "    'phenotype_name': 'Cellulitis'},\n",
       "   {'frequency': 'Occasional (29-5%)',\n",
       "    'phenotype_id': 'HP:0100820',\n",
       "    'phenotype_name': 'Glomerulopathy'}],\n",
       "  'preferred_label': 'Familial partial lipodystrophy, Dunnigan type',\n",
       "  'prevalence': [{'mean_value': '0.0',\n",
       "    'prevalence_class': 'Unknown',\n",
       "    'prevalence_geographic': 'Worldwide',\n",
       "    'prevalence_qualification': 'Class only',\n",
       "    'prevalence_type': 'Point prevalence',\n",
       "    'prevalence_validation_status': 'Not yet validated',\n",
       "    'source': 'ORPHANET'}],\n",
       "  'synonyms': ['FPLD2',\n",
       "   'Dunnigan syndrome',\n",
       "   'Familial partial lipodystrophy type 2'],\n",
       "  'tree_view': ['Orphanet:363245', 'Orphanet:98306', 'Orphanet:139033'],\n",
       "  'type_of_inheritance': ['Autosomal dominant'],\n",
       "  'xref': ['OMIM:151660', 'UMLS_CUI:C1720860']},\n",
       " {'_id': 'Orphanet:280356',\n",
       "  'alternative_term': ['PLIN1-related FPLD', 'FPLD4'],\n",
       "  'ave_age_of_onset': ['Childhood'],\n",
       "  'disease_gene_associations': [{'dga_status': 'Assessed',\n",
       "    'dga_type': 'Disease-causing germline mutation(s) in',\n",
       "    'gene_name': 'perilipin 1',\n",
       "    'gene_symbol': 'PLIN1',\n",
       "    'gene_type': 'gene with protein product',\n",
       "    'loci': ['15q26']}],\n",
       "  'mapping': {'E': ['OMIM:613877'], 'NTBT': ['ICD10CM:E88.1']},\n",
       "  'parents': ['Orphanet:377788'],\n",
       "  'part_of': ['Orphanet:98306', 'Orphanet:181368'],\n",
       "  'preferred_label': 'PLIN1-related familial partial lipodystrophy',\n",
       "  'prevalence': [{'mean_value': '3.0',\n",
       "    'prevalence_geographic': 'Worldwide',\n",
       "    'prevalence_qualification': 'Case',\n",
       "    'prevalence_type': 'Cases/families',\n",
       "    'prevalence_validation_status': 'Validated',\n",
       "    'source': '21345103[PMID]'},\n",
       "   {'mean_value': '0.0',\n",
       "    'prevalence_class': '<1 / 1 000 000',\n",
       "    'prevalence_geographic': 'Worldwide',\n",
       "    'prevalence_qualification': 'Class only',\n",
       "    'prevalence_type': 'Point prevalence',\n",
       "    'prevalence_validation_status': 'Validated',\n",
       "    'source': 'ORPHANET'}],\n",
       "  'synonyms': ['PLIN1-related FPLD', 'FPLD4'],\n",
       "  'tree_view': ['Orphanet:98306', 'Orphanet:181368'],\n",
       "  'type_of_inheritance': ['Autosomal dominant'],\n",
       "  'xref': ['OMIM:613877']}]"
      ]
     },
     "execution_count": 23,
     "metadata": {},
     "output_type": "execute_result"
    }
   ],
   "source": [
    "d['DOID:0050440']['orphanet']"
   ]
  },
  {
   "cell_type": "code",
   "execution_count": null,
   "metadata": {
    "collapsed": true
   },
   "outputs": [],
   "source": []
  }
 ],
 "metadata": {
  "kernelspec": {
   "display_name": "Python 3",
   "language": "python",
   "name": "python3"
  },
  "language_info": {
   "codemirror_mode": {
    "name": "ipython",
    "version": 3
   },
   "file_extension": ".py",
   "mimetype": "text/x-python",
   "name": "python",
   "nbconvert_exporter": "python",
   "pygments_lexer": "ipython3",
   "version": "3.5.2"
  }
 },
 "nbformat": 4,
 "nbformat_minor": 0
}
