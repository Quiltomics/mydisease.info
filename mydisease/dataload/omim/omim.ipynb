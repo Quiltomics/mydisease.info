{
 "cells": [
  {
   "cell_type": "code",
   "execution_count": 1,
   "metadata": {
    "collapsed": true
   },
   "outputs": [],
   "source": [
    "import pandas as pd"
   ]
  },
  {
   "cell_type": "code",
   "execution_count": 2,
   "metadata": {
    "collapsed": false
   },
   "outputs": [],
   "source": [
    "mimTitles_url = \"http://data.omim.org/downloads/YusepqJtQDuqSPctv6tmVQ/mimTitles.txt\"\n",
    "geneMap_url = \"http://data.omim.org/downloads/YusepqJtQDuqSPctv6tmVQ/genemap.txt\"\n",
    "geneMap2_url = \"http://data.omim.org/downloads/YusepqJtQDuqSPctv6tmVQ/genemap2.txt\"\n",
    "morbidMap_url = \"http://data.omim.org/downloads/YusepqJtQDuqSPctv6tmVQ/morbidmap.txt\"\n",
    "mimTitles_names = \"\"\"Prefix\tMim Number\tPreferred Title; symbol\tAlternative Title(s); symbol(s)\tIncluded Title(s); symbols\"\"\".split(\"\\t\")\n",
    "geneMap_names = \"\"\"Sort\tMonth\tDay\tYear\tCyto Location\tGene Symbols\tConfidence\tGene Name\tMIM Number\tMapping Method\tComments\tPhenotypes\tMouse Gene Symbol\"\"\".split('\\t')\n",
    "geneMap2_names = \"\"\"Chromosome\tGenomic Position Start\tGenomic Position End\tCyto Location\tComputed Cyto Location\tMim Number\tGene Symbols\tGene Name\tApproved Symbol\tEntrez Gene ID\tEnsembl Gene ID\tComments\tPhenotypes\tMouse Gene Symbol/ID\"\"\".split(\"\\t\")\n",
    "morbidMap_names = \"\"\"Phenotype\tGene Symbols\tMIM Number\tCyto Location\"\"\".split(\"\\t\")\n",
    "\n",
    "#### Looks like geneMap and morbidMap are both in geneMap2"
   ]
  },
  {
   "cell_type": "markdown",
   "metadata": {},
   "source": [
    "### mimTitles"
   ]
  },
  {
   "cell_type": "code",
   "execution_count": 27,
   "metadata": {
    "collapsed": false
   },
   "outputs": [
    {
     "data": {
      "text/html": [
       "<div>\n",
       "<table border=\"1\" class=\"dataframe\">\n",
       "  <thead>\n",
       "    <tr style=\"text-align: right;\">\n",
       "      <th></th>\n",
       "      <th>Prefix</th>\n",
       "      <th>Mim Number</th>\n",
       "      <th>Preferred Title; symbol</th>\n",
       "      <th>Alternative Title(s); symbol(s)</th>\n",
       "      <th>Included Title(s); symbols</th>\n",
       "    </tr>\n",
       "  </thead>\n",
       "  <tbody>\n",
       "    <tr>\n",
       "      <th>0</th>\n",
       "      <td>NaN</td>\n",
       "      <td>100050</td>\n",
       "      <td>AARSKOG SYNDROME, AUTOSOMAL DOMINANT</td>\n",
       "      <td>NaN</td>\n",
       "      <td>NaN</td>\n",
       "    </tr>\n",
       "    <tr>\n",
       "      <th>1</th>\n",
       "      <td>Percent</td>\n",
       "      <td>100070</td>\n",
       "      <td>AORTIC ANEURYSM, FAMILIAL ABDOMINAL, 1; AAA1</td>\n",
       "      <td>ANEURYSM, ABDOMINAL AORTIC; AAA;; ABDOMINAL AO...</td>\n",
       "      <td>NaN</td>\n",
       "    </tr>\n",
       "    <tr>\n",
       "      <th>2</th>\n",
       "      <td>Number Sign</td>\n",
       "      <td>100100</td>\n",
       "      <td>PRUNE BELLY SYNDROME; PBS</td>\n",
       "      <td>ABDOMINAL MUSCLES, ABSENCE OF, WITH URINARY TR...</td>\n",
       "      <td>NaN</td>\n",
       "    </tr>\n",
       "    <tr>\n",
       "      <th>3</th>\n",
       "      <td>NaN</td>\n",
       "      <td>100200</td>\n",
       "      <td>ABDUCENS PALSY</td>\n",
       "      <td>NaN</td>\n",
       "      <td>NaN</td>\n",
       "    </tr>\n",
       "    <tr>\n",
       "      <th>4</th>\n",
       "      <td>Number Sign</td>\n",
       "      <td>100300</td>\n",
       "      <td>ADAMS-OLIVER SYNDROME 1; AOS1</td>\n",
       "      <td>AOS;; ABSENCE DEFECT OF LIMBS, SCALP, AND SKUL...</td>\n",
       "      <td>APLASIA CUTIS CONGENITA, CONGENITAL HEART DEFE...</td>\n",
       "    </tr>\n",
       "  </tbody>\n",
       "</table>\n",
       "</div>"
      ],
      "text/plain": [
       "        Prefix Mim Number                       Preferred Title; symbol  \\\n",
       "0          NaN     100050          AARSKOG SYNDROME, AUTOSOMAL DOMINANT   \n",
       "1      Percent     100070  AORTIC ANEURYSM, FAMILIAL ABDOMINAL, 1; AAA1   \n",
       "2  Number Sign     100100                     PRUNE BELLY SYNDROME; PBS   \n",
       "3          NaN     100200                                ABDUCENS PALSY   \n",
       "4  Number Sign     100300                 ADAMS-OLIVER SYNDROME 1; AOS1   \n",
       "\n",
       "                     Alternative Title(s); symbol(s)  \\\n",
       "0                                                NaN   \n",
       "1  ANEURYSM, ABDOMINAL AORTIC; AAA;; ABDOMINAL AO...   \n",
       "2  ABDOMINAL MUSCLES, ABSENCE OF, WITH URINARY TR...   \n",
       "3                                                NaN   \n",
       "4  AOS;; ABSENCE DEFECT OF LIMBS, SCALP, AND SKUL...   \n",
       "\n",
       "                          Included Title(s); symbols  \n",
       "0                                                NaN  \n",
       "1                                                NaN  \n",
       "2                                                NaN  \n",
       "3                                                NaN  \n",
       "4  APLASIA CUTIS CONGENITA, CONGENITAL HEART DEFE...  "
      ]
     },
     "execution_count": 27,
     "metadata": {},
     "output_type": "execute_result"
    }
   ],
   "source": [
    "mimTitles = pd.read_csv(mimTitles_url, sep='\\t', comment='#', names=mimTitles_names)\n",
    "mimTitles['Mim Number'] = mimTitles['Mim Number'].astype(str)\n",
    "mimTitles.head()"
   ]
  },
  {
   "cell_type": "code",
   "execution_count": 28,
   "metadata": {
    "collapsed": false
   },
   "outputs": [],
   "source": [
    "# Fix prefix\n",
    "prefix = {0: \"Other, mainly phenotypes with suspected mendelian basis\",\n",
    "         \"Asterisk\": \"Gene description\",\n",
    "         \"Plus\": \"Gene and phenotype, combined\",\n",
    "         \"Caret\": \"Obsolete\",\n",
    "         \"Percent\": \"Phenotype description or locus, molecular basis unknown\",\n",
    "         \"Number Sign\": \"Phenotype description, molecular basis known\"}\n",
    "mimTitles['type'] = mimTitles.Prefix.fillna(0).apply(prefix.get)\n",
    "del mimTitles['Prefix']"
   ]
  },
  {
   "cell_type": "code",
   "execution_count": 29,
   "metadata": {
    "collapsed": false,
    "scrolled": true
   },
   "outputs": [],
   "source": [
    "# Fix Preferred Title; symbol\n",
    "pts = mimTitles['Preferred Title; symbol'].apply(lambda x: pd.Series(x.split(';',1)))\n",
    "pts.columns = ['title', 'symbol']\n",
    "mimTitles = pd.concat([mimTitles, pts], axis=1)\n",
    "del mimTitles['Preferred Title; symbol']\n",
    "mimTitles.title = mimTitles.title.str.strip()\n",
    "mimTitles.symbol = mimTitles.symbol.str.strip()"
   ]
  },
  {
   "cell_type": "code",
   "execution_count": 30,
   "metadata": {
    "collapsed": false
   },
   "outputs": [],
   "source": [
    "# Fix OMIM ID column\n",
    "mimTitles.rename(columns={'Mim Number': \"_id\"}, inplace=True)\n",
    "mimTitles._id = mimTitles._id.apply(lambda x:\"OMIM:\" + x)"
   ]
  },
  {
   "cell_type": "code",
   "execution_count": 31,
   "metadata": {
    "collapsed": false
   },
   "outputs": [
    {
     "data": {
      "text/html": [
       "<div>\n",
       "<table border=\"1\" class=\"dataframe\">\n",
       "  <thead>\n",
       "    <tr style=\"text-align: right;\">\n",
       "      <th></th>\n",
       "      <th>_id</th>\n",
       "      <th>Alternative Title(s); symbol(s)</th>\n",
       "      <th>Included Title(s); symbols</th>\n",
       "      <th>type</th>\n",
       "      <th>title</th>\n",
       "      <th>symbol</th>\n",
       "    </tr>\n",
       "  </thead>\n",
       "  <tbody>\n",
       "    <tr>\n",
       "      <th>0</th>\n",
       "      <td>OMIM:100050</td>\n",
       "      <td>NaN</td>\n",
       "      <td>NaN</td>\n",
       "      <td>Other, mainly phenotypes with suspected mendel...</td>\n",
       "      <td>AARSKOG SYNDROME, AUTOSOMAL DOMINANT</td>\n",
       "      <td>NaN</td>\n",
       "    </tr>\n",
       "    <tr>\n",
       "      <th>1</th>\n",
       "      <td>OMIM:100070</td>\n",
       "      <td>ANEURYSM, ABDOMINAL AORTIC; AAA;; ABDOMINAL AO...</td>\n",
       "      <td>NaN</td>\n",
       "      <td>Phenotype description or locus, molecular basi...</td>\n",
       "      <td>AORTIC ANEURYSM, FAMILIAL ABDOMINAL, 1</td>\n",
       "      <td>AAA1</td>\n",
       "    </tr>\n",
       "    <tr>\n",
       "      <th>2</th>\n",
       "      <td>OMIM:100100</td>\n",
       "      <td>ABDOMINAL MUSCLES, ABSENCE OF, WITH URINARY TR...</td>\n",
       "      <td>NaN</td>\n",
       "      <td>Phenotype description, molecular basis known</td>\n",
       "      <td>PRUNE BELLY SYNDROME</td>\n",
       "      <td>PBS</td>\n",
       "    </tr>\n",
       "    <tr>\n",
       "      <th>3</th>\n",
       "      <td>OMIM:100200</td>\n",
       "      <td>NaN</td>\n",
       "      <td>NaN</td>\n",
       "      <td>Other, mainly phenotypes with suspected mendel...</td>\n",
       "      <td>ABDUCENS PALSY</td>\n",
       "      <td>NaN</td>\n",
       "    </tr>\n",
       "    <tr>\n",
       "      <th>4</th>\n",
       "      <td>OMIM:100300</td>\n",
       "      <td>AOS;; ABSENCE DEFECT OF LIMBS, SCALP, AND SKUL...</td>\n",
       "      <td>APLASIA CUTIS CONGENITA, CONGENITAL HEART DEFE...</td>\n",
       "      <td>Phenotype description, molecular basis known</td>\n",
       "      <td>ADAMS-OLIVER SYNDROME 1</td>\n",
       "      <td>AOS1</td>\n",
       "    </tr>\n",
       "  </tbody>\n",
       "</table>\n",
       "</div>"
      ],
      "text/plain": [
       "           _id                    Alternative Title(s); symbol(s)  \\\n",
       "0  OMIM:100050                                                NaN   \n",
       "1  OMIM:100070  ANEURYSM, ABDOMINAL AORTIC; AAA;; ABDOMINAL AO...   \n",
       "2  OMIM:100100  ABDOMINAL MUSCLES, ABSENCE OF, WITH URINARY TR...   \n",
       "3  OMIM:100200                                                NaN   \n",
       "4  OMIM:100300  AOS;; ABSENCE DEFECT OF LIMBS, SCALP, AND SKUL...   \n",
       "\n",
       "                          Included Title(s); symbols  \\\n",
       "0                                                NaN   \n",
       "1                                                NaN   \n",
       "2                                                NaN   \n",
       "3                                                NaN   \n",
       "4  APLASIA CUTIS CONGENITA, CONGENITAL HEART DEFE...   \n",
       "\n",
       "                                                type  \\\n",
       "0  Other, mainly phenotypes with suspected mendel...   \n",
       "1  Phenotype description or locus, molecular basi...   \n",
       "2       Phenotype description, molecular basis known   \n",
       "3  Other, mainly phenotypes with suspected mendel...   \n",
       "4       Phenotype description, molecular basis known   \n",
       "\n",
       "                                    title symbol  \n",
       "0    AARSKOG SYNDROME, AUTOSOMAL DOMINANT    NaN  \n",
       "1  AORTIC ANEURYSM, FAMILIAL ABDOMINAL, 1   AAA1  \n",
       "2                    PRUNE BELLY SYNDROME    PBS  \n",
       "3                          ABDUCENS PALSY    NaN  \n",
       "4                 ADAMS-OLIVER SYNDROME 1   AOS1  "
      ]
     },
     "execution_count": 31,
     "metadata": {},
     "output_type": "execute_result"
    }
   ],
   "source": [
    "mimTitles.head()"
   ]
  },
  {
   "cell_type": "code",
   "execution_count": 32,
   "metadata": {
    "collapsed": false
   },
   "outputs": [
    {
     "data": {
      "text/plain": [
       "{'_id': 'OMIM:100050',\n",
       " 'title': 'AARSKOG SYNDROME, AUTOSOMAL DOMINANT',\n",
       " 'type': 'Other, mainly phenotypes with suspected mendelian basis'}"
      ]
     },
     "execution_count": 32,
     "metadata": {},
     "output_type": "execute_result"
    }
   ],
   "source": [
    "mimTitles_records = [{k:v for k,v in zip(mimTitles.columns, list(record)[1:])} for record in mimTitles.to_records()]\n",
    "mimTitles_records = [{k:v for k,v in record.items() if v==v} for record in mimTitles_records]\n",
    "mimTitles_records[0]"
   ]
  },
  {
   "cell_type": "code",
   "execution_count": 33,
   "metadata": {
    "collapsed": false,
    "scrolled": true
   },
   "outputs": [],
   "source": [
    "# Fix Alternative Title(s); symbol(s)\n",
    "for record in mimTitles_records:\n",
    "    if 'Alternative Title(s); symbol(s)' in record:\n",
    "        altlist = [x for x in record['Alternative Title(s); symbol(s)'].split(\";;\")]\n",
    "        del record['Alternative Title(s); symbol(s)']\n",
    "        record['alternative'] = []\n",
    "        for alt in altlist:\n",
    "            if not alt.count(\";\"):\n",
    "                record['alternative'].append({'title': alt.strip()})\n",
    "            else:\n",
    "                record['alternative'].append({'title':alt.split(\";\",1)[0].strip(),'symbol':alt.split(\";\",1)[1].strip()})\n"
   ]
  },
  {
   "cell_type": "code",
   "execution_count": 34,
   "metadata": {
    "collapsed": true
   },
   "outputs": [],
   "source": [
    "# Fix Included Title(s); symbols\n",
    "for record in mimTitles_records:\n",
    "    if 'Included Title(s); symbols' in record:\n",
    "        altlist = [x for x in record['Included Title(s); symbols'].split(\";;\")]\n",
    "        del record['Included Title(s); symbols']\n",
    "        record['included'] = []\n",
    "        for alt in altlist:\n",
    "            if not alt.count(\";\"):\n",
    "                record['included'].append({'title': alt.strip()})\n",
    "            else:\n",
    "                record['included'].append({'title':alt.split(\";\",1)[0].strip(),'symbol':alt.split(\";\",1)[1].strip()})\n"
   ]
  },
  {
   "cell_type": "code",
   "execution_count": 35,
   "metadata": {
    "collapsed": false
   },
   "outputs": [
    {
     "data": {
      "text/plain": [
       "{'_id': 'OMIM:102980',\n",
       " 'alternative': [{'symbol': 'PACAP',\n",
       "   'title': 'PITUITARY ADENYLATE CYCLASE-ACTIVATING POLYPEPTIDE'}],\n",
       " 'included': [{'title': 'PACAP38, INCLUDED'},\n",
       "  {'title': 'PACAP27, INCLUDED'},\n",
       "  {'symbol': 'PRP, INCLUDED', 'title': 'PACAP-RELATED PEPTIDE, INCLUDED'}],\n",
       " 'symbol': 'ADCYAP1',\n",
       " 'title': 'ADENYLATE CYCLASE-ACTIVATING POLYPEPTIDE 1',\n",
       " 'type': 'Gene description'}"
      ]
     },
     "execution_count": 35,
     "metadata": {},
     "output_type": "execute_result"
    }
   ],
   "source": [
    "[x for x in mimTitles_records if 'alternative' in x and 'included' in x][8]"
   ]
  },
  {
   "cell_type": "code",
   "execution_count": 36,
   "metadata": {
    "collapsed": false
   },
   "outputs": [
    {
     "data": {
      "text/plain": [
       "<pymongo.results.InsertManyResult at 0x7f85395f0d80>"
      ]
     },
     "execution_count": 36,
     "metadata": {},
     "output_type": "execute_result"
    }
   ],
   "source": [
    "from pymongo import MongoClient\n",
    "client = MongoClient()\n",
    "db = client.mydisease.omim\n",
    "db.drop()\n",
    "db.insert_many(mimTitles_records)"
   ]
  },
  {
   "cell_type": "markdown",
   "metadata": {},
   "source": [
    "### geneMap2"
   ]
  },
  {
   "cell_type": "code",
   "execution_count": null,
   "metadata": {
    "collapsed": false
   },
   "outputs": [],
   "source": [
    "geneMap2 = pd.read_csv(geneMap2_url, sep='\\t', comment='#', names=geneMap2_names)\n",
    "geneMap2.head()"
   ]
  },
  {
   "cell_type": "code",
   "execution_count": null,
   "metadata": {
    "collapsed": false
   },
   "outputs": [],
   "source": [
    "geneMap2.Phenotypes[21]"
   ]
  },
  {
   "cell_type": "code",
   "execution_count": null,
   "metadata": {
    "collapsed": true
   },
   "outputs": [],
   "source": []
  },
  {
   "cell_type": "code",
   "execution_count": null,
   "metadata": {
    "collapsed": true
   },
   "outputs": [],
   "source": []
  },
  {
   "cell_type": "code",
   "execution_count": null,
   "metadata": {
    "collapsed": true
   },
   "outputs": [],
   "source": []
  },
  {
   "cell_type": "code",
   "execution_count": null,
   "metadata": {
    "collapsed": true
   },
   "outputs": [],
   "source": []
  },
  {
   "cell_type": "code",
   "execution_count": null,
   "metadata": {
    "collapsed": true
   },
   "outputs": [],
   "source": []
  },
  {
   "cell_type": "code",
   "execution_count": null,
   "metadata": {
    "collapsed": true
   },
   "outputs": [],
   "source": []
  },
  {
   "cell_type": "code",
   "execution_count": null,
   "metadata": {
    "collapsed": true
   },
   "outputs": [],
   "source": []
  },
  {
   "cell_type": "markdown",
   "metadata": {},
   "source": [
    "What do brackets [ ], braces { }, a question mark (?), and the numbers (1)(2)(3)(4) mean in the Disorder column of the Gene Map?\n",
    "\n",
    "Brackets, \"[ ]\", indicate \"nondiseases,\" mainly genetic variations that lead to apparently abnormal laboratory test values (e.g., dysalbuminemic euthyroidal hyperthyroxinemia).\n",
    "\n",
    "Braces, \"{ }\", indicate mutations that contribute to susceptibility to multifactorial disorders (e.g., diabetes, asthma) or to susceptibility to infection (e.g., malaria).\n",
    "\n",
    "A question mark, \"?\", before the disease name indicates an unconfirmed or possibly spurious mapping.\n",
    "\n",
    "The number in parentheses after the name of each disorder indicates the following: (1) the disorder was positioned by mapping of the wildtype gene; (2) the disease phenotype itself was mapped; (3) the molecular basis of the disorder is known; (4) the disorder is a chromosome deletion or duplication syndrome. Move the cursor over the number to display this information."
   ]
  }
 ],
 "metadata": {
  "kernelspec": {
   "display_name": "Python 3",
   "language": "python",
   "name": "python3"
  },
  "language_info": {
   "codemirror_mode": {
    "name": "ipython",
    "version": 3
   },
   "file_extension": ".py",
   "mimetype": "text/x-python",
   "name": "python",
   "nbconvert_exporter": "python",
   "pygments_lexer": "ipython3",
   "version": "3.5.2"
  }
 },
 "nbformat": 4,
 "nbformat_minor": 0
}
