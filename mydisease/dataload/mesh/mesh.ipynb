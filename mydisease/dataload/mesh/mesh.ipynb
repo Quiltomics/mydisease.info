{
 "cells": [
  {
   "cell_type": "markdown",
   "metadata": {},
   "source": [
    "## MESH"
   ]
  },
  {
   "cell_type": "code",
   "execution_count": 2,
   "metadata": {
    "collapsed": false
   },
   "outputs": [
    {
     "ename": "ImportError",
     "evalue": "No module named 'unidecode'",
     "output_type": "error",
     "traceback": [
      "\u001b[1;31m---------------------------------------------------------------------------\u001b[0m",
      "\u001b[1;31mImportError\u001b[0m                               Traceback (most recent call last)",
      "\u001b[1;32m<ipython-input-2-3c7d4aa613f1>\u001b[0m in \u001b[0;36m<module>\u001b[1;34m()\u001b[0m\n\u001b[0;32m      5\u001b[0m \u001b[1;32mimport\u001b[0m \u001b[0mos\u001b[0m\u001b[1;33m\u001b[0m\u001b[0m\n\u001b[0;32m      6\u001b[0m \u001b[1;32mimport\u001b[0m \u001b[0mpandas\u001b[0m \u001b[1;32mas\u001b[0m \u001b[0mpd\u001b[0m\u001b[1;33m\u001b[0m\u001b[0m\n\u001b[1;32m----> 7\u001b[1;33m \u001b[1;32mfrom\u001b[0m \u001b[0munidecode\u001b[0m \u001b[1;32mimport\u001b[0m \u001b[0munidecode\u001b[0m\u001b[1;33m\u001b[0m\u001b[0m\n\u001b[0m",
      "\u001b[1;31mImportError\u001b[0m: No module named 'unidecode'"
     ]
    }
   ],
   "source": [
    "import hashlib\n",
    "import json\n",
    "import xml.etree.ElementTree as et\n",
    "import gzip\n",
    "import os\n",
    "import pandas as pd\n",
    "from unidecode import unidecode"
   ]
  },
  {
   "cell_type": "code",
   "execution_count": 15,
   "metadata": {
    "collapsed": false
   },
   "outputs": [
    {
     "data": {
      "text/html": [
       "<div>\n",
       "<table border=\"1\" class=\"dataframe\">\n",
       "  <thead>\n",
       "    <tr style=\"text-align: right;\">\n",
       "      <th></th>\n",
       "      <th>DescriptorUI</th>\n",
       "      <th>ConceptUI</th>\n",
       "      <th>PreferredConceptYN</th>\n",
       "      <th>TermUI</th>\n",
       "      <th>TermName</th>\n",
       "      <th>ConceptPreferredTermYN</th>\n",
       "      <th>RecordPreferredTermYN</th>\n",
       "    </tr>\n",
       "  </thead>\n",
       "  <tbody>\n",
       "    <tr>\n",
       "      <th>0</th>\n",
       "      <td>D000001</td>\n",
       "      <td>M0000001</td>\n",
       "      <td>Y</td>\n",
       "      <td>T000002</td>\n",
       "      <td>Calcimycin</td>\n",
       "      <td>Y</td>\n",
       "      <td>Y</td>\n",
       "    </tr>\n",
       "    <tr>\n",
       "      <th>1</th>\n",
       "      <td>D000001</td>\n",
       "      <td>M0353609</td>\n",
       "      <td>N</td>\n",
       "      <td>T000001</td>\n",
       "      <td>A-23187</td>\n",
       "      <td>Y</td>\n",
       "      <td>N</td>\n",
       "    </tr>\n",
       "    <tr>\n",
       "      <th>2</th>\n",
       "      <td>D000001</td>\n",
       "      <td>M0353609</td>\n",
       "      <td>N</td>\n",
       "      <td>T000001</td>\n",
       "      <td>A 23187</td>\n",
       "      <td>N</td>\n",
       "      <td>N</td>\n",
       "    </tr>\n",
       "    <tr>\n",
       "      <th>3</th>\n",
       "      <td>D000001</td>\n",
       "      <td>M0353609</td>\n",
       "      <td>N</td>\n",
       "      <td>T000003</td>\n",
       "      <td>Antibiotic A23187</td>\n",
       "      <td>N</td>\n",
       "      <td>N</td>\n",
       "    </tr>\n",
       "    <tr>\n",
       "      <th>4</th>\n",
       "      <td>D000001</td>\n",
       "      <td>M0353609</td>\n",
       "      <td>N</td>\n",
       "      <td>T000003</td>\n",
       "      <td>A23187, Antibiotic</td>\n",
       "      <td>N</td>\n",
       "      <td>N</td>\n",
       "    </tr>\n",
       "  </tbody>\n",
       "</table>\n",
       "</div>"
      ],
      "text/plain": [
       "  DescriptorUI ConceptUI PreferredConceptYN   TermUI            TermName  \\\n",
       "0      D000001  M0000001                  Y  T000002          Calcimycin   \n",
       "1      D000001  M0353609                  N  T000001             A-23187   \n",
       "2      D000001  M0353609                  N  T000001             A 23187   \n",
       "3      D000001  M0353609                  N  T000003   Antibiotic A23187   \n",
       "4      D000001  M0353609                  N  T000003  A23187, Antibiotic   \n",
       "\n",
       "  ConceptPreferredTermYN RecordPreferredTermYN  \n",
       "0                      Y                     Y  \n",
       "1                      Y                     N  \n",
       "2                      N                     N  \n",
       "3                      N                     N  \n",
       "4                      N                     N  "
      ]
     },
     "execution_count": 15,
     "metadata": {},
     "output_type": "execute_result"
    }
   ],
   "source": [
    "desc_df = pd.read_csv(os.path.join(DATA_DIR, 'descriptor-terms.tsv'), index_col=0)\n",
    "desc_df.head()"
   ]
  },
  {
   "cell_type": "code",
   "execution_count": null,
   "metadata": {
    "collapsed": true
   },
   "outputs": [],
   "source": [
    "\"\"\"<HeadingMappedToList>\n",
    "   <HeadingMappedTo>\n",
    "    <DescriptorReferredTo>\n",
    "     <DescriptorUI>*D020739</DescriptorUI>\n",
    "     <DescriptorName>\n",
    "      <String>Brain Diseases, Metabolic, Inborn</String>\n",
    "     </DescriptorName>\n",
    "    </DescriptorReferredTo>\n",
    "   </HeadingMappedTo>\n",
    "  </HeadingMappedToList>\n",
    "\"\"\""
   ]
  },
  {
   "cell_type": "code",
   "execution_count": 6,
   "metadata": {
    "collapsed": true
   },
   "outputs": [],
   "source": [
    "def populate_mesh():\n",
    "    \"\"\"\n",
    "    Initially populate mesh term. Only works starting with empty table\n",
    "\n",
    "    \"\"\"\n",
    "    # Read MeSH descriptor and supplementary terms\n",
    "    desc_df = pd.read_table(os.path.join(DATA_DIR, 'descriptor-terms.tsv'))\n",
    "    supp_df = pd.read_table(os.path.join(DATA_DIR, 'supplemental-terms.tsv'))\n",
    "    desc_df.TermName = desc_df.TermName.str.lower()\n",
    "    supp_df.TermName = supp_df.TermName.str.lower()\n",
    "    # Get the preferred name for each term\n",
    "    preferred_name = dict()\n",
    "    for term, df in desc_df.groupby(\"DescriptorUI\"):\n",
    "        preferred_name[term] = list(df[(df.PreferredConceptYN == \"Y\") & (df.ConceptPreferredTermYN == \"Y\") & (\n",
    "            df.RecordPreferredTermYN == \"Y\")].TermName)[0]\n",
    "    for term, df in supp_df.groupby(\"SupplementalRecordUI\"):\n",
    "        preferred_name[term] = list(df[(df.PreferredConceptYN == \"Y\") & (df.ConceptPreferredTermYN == \"Y\") & (\n",
    "            df.RecordPreferredTermYN == \"Y\")].TermName)[0]\n",
    "    # Fix unicode nonsense\n",
    "    upreferred_name = {k: unidecode(v.decode('utf-8')) for k, v in preferred_name.items()}\n",
    "\n",
    "\n",
    "def parse_mesh_parents(xml_path):\n",
    "    \"\"\"\n",
    "    Get the heirarchy of mesh terms.\n",
    "    Not doing anything with this yet...\n",
    "\n",
    "    :param xml_path: path to \"desc2016.xml\" file\n",
    "    :return: None\n",
    "    \"\"\"\n",
    "    terms = list()\n",
    "    f = open(xml_path)\n",
    "    context = iter(et.iterparse(f, events=(\"start\", \"end\")))\n",
    "    event, root = next(context)\n",
    "    for event, elem in context:\n",
    "        if event == \"end\" and elem.tag == \"DescriptorRecord\":\n",
    "            term = dict()\n",
    "            term['mesh_id'] = elem.findtext('DescriptorUI')\n",
    "            term['mesh_name'] = elem.findtext('DescriptorName/String')\n",
    "            term['tree_numbers'] = [x.text for x in elem.findall('TreeNumberList/TreeNumber')]\n",
    "            terms.append(term)\n",
    "        root.clear()\n",
    "\n",
    "    # stolen from https://github.com/dhimmel/mesh/blob/gh-pages/descriptors.ipynb\n",
    "    # Determine ontology parents\n",
    "    tree_number_to_id = {tn: term['mesh_id'] for term in terms for tn in term['tree_numbers']}\n",
    "    for term in terms:\n",
    "        parents = set()\n",
    "        for tree_number in term['tree_numbers']:\n",
    "            try:\n",
    "                parent_tn, self_tn = tree_number.rsplit('.', 1)\n",
    "                parents.add(tree_number_to_id[parent_tn])\n",
    "            except ValueError:\n",
    "                pass\n",
    "        term['parents'] = list(parents)\n",
    "\n",
    "    with open(os.path.join(DATA_DIR, 'mesh.json'), 'w') as f:\n",
    "        json.dump(terms, f, indent=2)\n",
    "\n",
    "\n",
    "def parse_mesh_xml(xml_path):\n",
    "    # based on: https://github.com/dhimmel/mesh/blob/gh-pages/descriptors.ipynb\n",
    "    if \"desc\" in os.path.basename(xml_path):\n",
    "        record_name = \"DescriptorRecord\"\n",
    "        recordUI = \"DescriptorUI\"\n",
    "        out_tsv = \"descriptor-terms.tsv\"\n",
    "    elif \"supp\" in os.path.basename(xml_path):\n",
    "        record_name = \"SupplementalRecord\"\n",
    "        recordUI = \"SupplementalRecordUI\"\n",
    "        out_tsv = \"supplemental-terms.tsv\"\n",
    "    else:\n",
    "        raise ValueError(\"Unknown mesh xml type\")\n",
    "\n",
    "    f = open(xml_path)\n",
    "    # for parsing an xml iteratively (without using 6gb of ram)\n",
    "    context = iter(et.iterparse(f, events=(\"start\", \"end\")))\n",
    "    event, root = next(context)\n",
    "    term_dicts = list()\n",
    "    for event, elem in context:\n",
    "        if event == \"end\" and record_name == elem.tag:\n",
    "            for concept in elem.findall(\"ConceptList/Concept\"):\n",
    "                for term in concept.findall('TermList/Term'):\n",
    "                    term_dict = {\n",
    "                        recordUI: elem.findtext(recordUI),\n",
    "                        'ConceptUI': concept.findtext('ConceptUI'),\n",
    "                        'TermUI': term.findtext('TermUI'),\n",
    "                        'TermName': term.findtext('String')\n",
    "                    }\n",
    "                    term_dict.update(concept.attrib)\n",
    "                    term_dict.update(term.attrib)\n",
    "                    term_dicts.append(term_dict)\n",
    "        root.clear()\n",
    "\n",
    "    columns = [recordUI, 'ConceptUI', 'PreferredConceptYN', 'TermUI', 'TermName', 'ConceptPreferredTermYN',\n",
    "               'RecordPreferredTermYN', ]\n",
    "    term_df = pd.DataFrame(term_dicts)[columns]\n",
    "    term_df.to_csv(os.path.join(DATA_DIR, out_tsv), encoding='utf-8')\n",
    "\n"
   ]
  },
  {
   "cell_type": "code",
   "execution_count": 20,
   "metadata": {
    "collapsed": false
   },
   "outputs": [],
   "source": [
    "\"\"\"\n",
    "Only updated once a year.\n",
    "ftp://nlmpubs.nlm.nih.gov/online/mesh/2016/desc2016.xml\n",
    "ftp://nlmpubs.nlm.nih.gov/online/mesh/2016/supp2016.xml\n",
    "\"\"\"\n",
    "DATA_DIR = \"/home/gstupp/projects/biothings/mydisease/mydisease/data\"\n",
    "mesh_desc = os.path.join(DATA_DIR, \"desc2016.xml\")\n",
    "mesh_supp = os.path.join(DATA_DIR, \"supp2016.xml\")\n",
    "#parse_mesh_xml(mesh_desc)\n",
    "#parse_mesh_xml(mesh_supp)\n",
    "parse_mesh_parents(mesh_desc)\n",
    "parse_mesh_parents(mesh_supp)\n",
    "#populate_mesh()\n"
   ]
  },
  {
   "cell_type": "code",
   "execution_count": 49,
   "metadata": {
    "collapsed": true
   },
   "outputs": [],
   "source": [
    "parse_mesh_parents(mesh_supp)"
   ]
  },
  {
   "cell_type": "code",
   "execution_count": 50,
   "metadata": {
    "collapsed": false
   },
   "outputs": [
    {
     "name": "stdout",
     "output_type": "stream",
     "text": [
      "0\n"
     ]
    }
   ],
   "source": [
    "with open(os.path.join(DATA_DIR, \"mesh.json\")) as f:\n",
    "    mesh_terms = json.load(f)\n",
    "print(len(mesh_terms))"
   ]
  },
  {
   "cell_type": "code",
   "execution_count": 40,
   "metadata": {
    "collapsed": false
   },
   "outputs": [
    {
     "name": "stdout",
     "output_type": "stream",
     "text": [
      "4686\n"
     ]
    }
   ],
   "source": [
    "mesh_terms = [m for m in mesh_terms if any(x.startswith(\"C\") for x in m['tree_numbers'])]\n",
    "print(len(mesh_terms))"
   ]
  },
  {
   "cell_type": "code",
   "execution_count": 41,
   "metadata": {
    "collapsed": true
   },
   "outputs": [],
   "source": [
    "for term in mesh_terms:\n",
    "    term['_id'] = \"MESH:\" + term['mesh_id']\n",
    "    del term['mesh_id']"
   ]
  },
  {
   "cell_type": "code",
   "execution_count": 42,
   "metadata": {
    "collapsed": false
   },
   "outputs": [
    {
     "data": {
      "text/plain": [
       "{'_id': 'MESH:D066263',\n",
       " 'mesh_name': 'Protein Aggregation, Pathological',\n",
       " 'parents': ['D001669', 'D010335'],\n",
       " 'tree_numbers': ['C23.550.770', 'G02.111.668']}"
      ]
     },
     "execution_count": 42,
     "metadata": {},
     "output_type": "execute_result"
    }
   ],
   "source": [
    "term"
   ]
  },
  {
   "cell_type": "code",
   "execution_count": 44,
   "metadata": {
    "collapsed": false
   },
   "outputs": [
    {
     "data": {
      "text/plain": [
       "<pymongo.results.InsertManyResult at 0x7f31c560aaf8>"
      ]
     },
     "execution_count": 44,
     "metadata": {},
     "output_type": "execute_result"
    }
   ],
   "source": [
    "from pymongo import MongoClient\n",
    "client = MongoClient()\n",
    "db = client.mydisease.mesh\n",
    "db.insert_many(mesh_terms)"
   ]
  },
  {
   "cell_type": "code",
   "execution_count": 45,
   "metadata": {
    "collapsed": false
   },
   "outputs": [
    {
     "data": {
      "text/plain": [
       "4686"
      ]
     },
     "execution_count": 45,
     "metadata": {},
     "output_type": "execute_result"
    }
   ],
   "source": [
    "db.count()"
   ]
  },
  {
   "cell_type": "code",
   "execution_count": 48,
   "metadata": {
    "collapsed": false
   },
   "outputs": [],
   "source": [
    "db.find_one(\"MESH:C535306\")"
   ]
  }
 ],
 "metadata": {
  "kernelspec": {
   "display_name": "Python 3",
   "language": "python",
   "name": "python3"
  },
  "language_info": {
   "codemirror_mode": {
    "name": "ipython",
    "version": 3
   },
   "file_extension": ".py",
   "mimetype": "text/x-python",
   "name": "python",
   "nbconvert_exporter": "python",
   "pygments_lexer": "ipython3",
   "version": "3.5.2"
  }
 },
 "nbformat": 4,
 "nbformat_minor": 0
}
