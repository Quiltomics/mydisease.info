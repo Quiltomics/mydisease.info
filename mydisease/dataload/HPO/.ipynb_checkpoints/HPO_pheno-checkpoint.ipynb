{
 "cells": [
  {
   "cell_type": "markdown",
   "metadata": {},
   "source": [
    "## HPO Phenotype annotation\n",
    "\n",
    "http://human-phenotype-ontology.github.io/documentation.html\n",
    "http://compbio.charite.de/jenkins/job/hpo.annotations/lastStableBuild/artifact/misc/phenotype_annotation.tab"
   ]
  },
  {
   "cell_type": "code",
   "execution_count": 14,
   "metadata": {
    "collapsed": true
   },
   "outputs": [],
   "source": [
    "import pandas as pd\n",
    "import gzip\n",
    "import json\n",
    "import os\n",
    "from collections import defaultdict\n",
    "from tqdm import tqdm\n",
    "import pandas as pd"
   ]
  },
  {
   "cell_type": "code",
   "execution_count": 18,
   "metadata": {
    "collapsed": true
   },
   "outputs": [],
   "source": [
    "from pymongo import MongoClient\n",
    "client = MongoClient()\n",
    "db = client.mydisease.HPO_pheno"
   ]
  },
  {
   "cell_type": "code",
   "execution_count": 19,
   "metadata": {
    "collapsed": false
   },
   "outputs": [
    {
     "data": {
      "text/html": [
       "<div>\n",
       "<table border=\"1\" class=\"dataframe\">\n",
       "  <thead>\n",
       "    <tr style=\"text-align: right;\">\n",
       "      <th></th>\n",
       "      <th>db</th>\n",
       "      <th>db_obj_id</th>\n",
       "      <th>db_name</th>\n",
       "      <th>qualifier</th>\n",
       "      <th>hpo_id</th>\n",
       "      <th>db_ref</th>\n",
       "      <th>evidence_code</th>\n",
       "      <th>onset_modifier</th>\n",
       "      <th>frequency_modifier</th>\n",
       "      <th>with</th>\n",
       "      <th>aspect</th>\n",
       "      <th>synonym</th>\n",
       "      <th>date</th>\n",
       "      <th>assigned_by</th>\n",
       "    </tr>\n",
       "  </thead>\n",
       "  <tbody>\n",
       "    <tr>\n",
       "      <th>0</th>\n",
       "      <td>DECIPHER</td>\n",
       "      <td>1</td>\n",
       "      <td>WOLF-HIRSCHHORN SYNDROME</td>\n",
       "      <td>NaN</td>\n",
       "      <td>HP:0000252</td>\n",
       "      <td>DECIPHER:1</td>\n",
       "      <td>IEA</td>\n",
       "      <td>NaN</td>\n",
       "      <td>NaN</td>\n",
       "      <td>NaN</td>\n",
       "      <td>O</td>\n",
       "      <td>NaN</td>\n",
       "      <td>2013.05.29</td>\n",
       "      <td>HPO:skoehler</td>\n",
       "    </tr>\n",
       "    <tr>\n",
       "      <th>1</th>\n",
       "      <td>DECIPHER</td>\n",
       "      <td>1</td>\n",
       "      <td>WOLF-HIRSCHHORN SYNDROME</td>\n",
       "      <td>NaN</td>\n",
       "      <td>HP:0001249</td>\n",
       "      <td>DECIPHER:1</td>\n",
       "      <td>IEA</td>\n",
       "      <td>NaN</td>\n",
       "      <td>NaN</td>\n",
       "      <td>NaN</td>\n",
       "      <td>O</td>\n",
       "      <td>NaN</td>\n",
       "      <td>2013.05.29</td>\n",
       "      <td>HPO:skoehler</td>\n",
       "    </tr>\n",
       "    <tr>\n",
       "      <th>2</th>\n",
       "      <td>DECIPHER</td>\n",
       "      <td>1</td>\n",
       "      <td>WOLF-HIRSCHHORN SYNDROME</td>\n",
       "      <td>NaN</td>\n",
       "      <td>HP:0001250</td>\n",
       "      <td>DECIPHER:1</td>\n",
       "      <td>IEA</td>\n",
       "      <td>NaN</td>\n",
       "      <td>NaN</td>\n",
       "      <td>NaN</td>\n",
       "      <td>O</td>\n",
       "      <td>NaN</td>\n",
       "      <td>2013.05.29</td>\n",
       "      <td>HPO:skoehler</td>\n",
       "    </tr>\n",
       "    <tr>\n",
       "      <th>3</th>\n",
       "      <td>DECIPHER</td>\n",
       "      <td>1</td>\n",
       "      <td>WOLF-HIRSCHHORN SYNDROME</td>\n",
       "      <td>NaN</td>\n",
       "      <td>HP:0001252</td>\n",
       "      <td>DECIPHER:1</td>\n",
       "      <td>IEA</td>\n",
       "      <td>NaN</td>\n",
       "      <td>NaN</td>\n",
       "      <td>NaN</td>\n",
       "      <td>O</td>\n",
       "      <td>NaN</td>\n",
       "      <td>2013.05.29</td>\n",
       "      <td>HPO:skoehler</td>\n",
       "    </tr>\n",
       "    <tr>\n",
       "      <th>4</th>\n",
       "      <td>DECIPHER</td>\n",
       "      <td>1</td>\n",
       "      <td>WOLF-HIRSCHHORN SYNDROME</td>\n",
       "      <td>NaN</td>\n",
       "      <td>HP:0001518</td>\n",
       "      <td>DECIPHER:1</td>\n",
       "      <td>IEA</td>\n",
       "      <td>NaN</td>\n",
       "      <td>NaN</td>\n",
       "      <td>NaN</td>\n",
       "      <td>O</td>\n",
       "      <td>NaN</td>\n",
       "      <td>2013.05.29</td>\n",
       "      <td>HPO:skoehler</td>\n",
       "    </tr>\n",
       "  </tbody>\n",
       "</table>\n",
       "</div>"
      ],
      "text/plain": [
       "         db  db_obj_id                   db_name qualifier      hpo_id  \\\n",
       "0  DECIPHER          1  WOLF-HIRSCHHORN SYNDROME       NaN  HP:0000252   \n",
       "1  DECIPHER          1  WOLF-HIRSCHHORN SYNDROME       NaN  HP:0001249   \n",
       "2  DECIPHER          1  WOLF-HIRSCHHORN SYNDROME       NaN  HP:0001250   \n",
       "3  DECIPHER          1  WOLF-HIRSCHHORN SYNDROME       NaN  HP:0001252   \n",
       "4  DECIPHER          1  WOLF-HIRSCHHORN SYNDROME       NaN  HP:0001518   \n",
       "\n",
       "       db_ref evidence_code onset_modifier frequency_modifier  with aspect  \\\n",
       "0  DECIPHER:1           IEA            NaN                NaN   NaN      O   \n",
       "1  DECIPHER:1           IEA            NaN                NaN   NaN      O   \n",
       "2  DECIPHER:1           IEA            NaN                NaN   NaN      O   \n",
       "3  DECIPHER:1           IEA            NaN                NaN   NaN      O   \n",
       "4  DECIPHER:1           IEA            NaN                NaN   NaN      O   \n",
       "\n",
       "  synonym        date   assigned_by  \n",
       "0     NaN  2013.05.29  HPO:skoehler  \n",
       "1     NaN  2013.05.29  HPO:skoehler  \n",
       "2     NaN  2013.05.29  HPO:skoehler  \n",
       "3     NaN  2013.05.29  HPO:skoehler  \n",
       "4     NaN  2013.05.29  HPO:skoehler  "
      ]
     },
     "execution_count": 19,
     "metadata": {},
     "output_type": "execute_result"
    }
   ],
   "source": [
    "names = ['db', 'db_obj_id', 'db_name', 'qualifier', 'hpo_id', 'db_ref', 'evidence_code', \n",
    "         'onset_modifier', 'frequency_modifier', 'with', 'aspect', 'synonym', 'date', 'assigned_by']\n",
    "df = pd.read_csv(\"/home/gstupp/projects/biothings/mydisease/mydisease/data/phenotype_annotation.tab\", \n",
    "            delimiter='\\t', names = names)\n",
    "df.head()"
   ]
  },
  {
   "cell_type": "code",
   "execution_count": 21,
   "metadata": {
    "collapsed": false
   },
   "outputs": [
    {
     "name": "stderr",
     "output_type": "stream",
     "text": [
      "100%|█████████▉| 10091/10092 [00:18<00:00, 534.62it/s]\n"
     ]
    }
   ],
   "source": [
    "columns_keep = ['hpo_id', 'evidence_code', 'onset_modifier', 'frequency_modifier', 'with',\n",
    "       'aspect', 'synonym', 'date', 'assigned_by']\n",
    "total = len(set(df.db_ref))\n",
    "d = {}\n",
    "for diseaseID, subdf in tqdm(df.groupby(\"db_ref\"), total=total):\n",
    "    sub = subdf[columns_keep].to_dict(orient=\"records\")\n",
    "    sub = [{k:v for k,v in s.items() if v==v} for s in sub] # get rid of nulls\n",
    "    db.update_one({'_id':diseaseID}, {'$set':{\"phenotypes\": sub}}, upsert=True)\n",
    "    d[diseaseID] = sub"
   ]
  },
  {
   "cell_type": "code",
   "execution_count": 32,
   "metadata": {
    "collapsed": false
   },
   "outputs": [
    {
     "data": {
      "text/plain": [
       "[{'aspect': 'O',\n",
       "  'assigned_by': 'HPO:skoehler',\n",
       "  'date': '2013.05.29',\n",
       "  'evidence_code': 'IEA',\n",
       "  'hpo_id': 'HP:0000252'},\n",
       " {'aspect': 'O',\n",
       "  'assigned_by': 'HPO:skoehler',\n",
       "  'date': '2013.05.29',\n",
       "  'evidence_code': 'IEA',\n",
       "  'hpo_id': 'HP:0001249'},\n",
       " {'aspect': 'O',\n",
       "  'assigned_by': 'HPO:skoehler',\n",
       "  'date': '2013.05.29',\n",
       "  'evidence_code': 'IEA',\n",
       "  'hpo_id': 'HP:0001250'},\n",
       " {'aspect': 'O',\n",
       "  'assigned_by': 'HPO:skoehler',\n",
       "  'date': '2013.05.29',\n",
       "  'evidence_code': 'IEA',\n",
       "  'hpo_id': 'HP:0001252'},\n",
       " {'aspect': 'O',\n",
       "  'assigned_by': 'HPO:skoehler',\n",
       "  'date': '2013.05.29',\n",
       "  'evidence_code': 'IEA',\n",
       "  'hpo_id': 'HP:0001518'}]"
      ]
     },
     "execution_count": 32,
     "metadata": {},
     "output_type": "execute_result"
    }
   ],
   "source": [
    "d['DECIPHER:1']"
   ]
  },
  {
   "cell_type": "code",
   "execution_count": 33,
   "metadata": {
    "collapsed": false
   },
   "outputs": [
    {
     "data": {
      "text/plain": [
       "{'_id': 'DECIPHER:1',\n",
       " 'phenotypes': [{'aspect': 'O',\n",
       "   'assigned_by': 'HPO:skoehler',\n",
       "   'date': '2013.05.29',\n",
       "   'evidence_code': 'IEA',\n",
       "   'hpo_id': 'HP:0000252'},\n",
       "  {'aspect': 'O',\n",
       "   'assigned_by': 'HPO:skoehler',\n",
       "   'date': '2013.05.29',\n",
       "   'evidence_code': 'IEA',\n",
       "   'hpo_id': 'HP:0001249'},\n",
       "  {'aspect': 'O',\n",
       "   'assigned_by': 'HPO:skoehler',\n",
       "   'date': '2013.05.29',\n",
       "   'evidence_code': 'IEA',\n",
       "   'hpo_id': 'HP:0001250'},\n",
       "  {'aspect': 'O',\n",
       "   'assigned_by': 'HPO:skoehler',\n",
       "   'date': '2013.05.29',\n",
       "   'evidence_code': 'IEA',\n",
       "   'hpo_id': 'HP:0001252'},\n",
       "  {'aspect': 'O',\n",
       "   'assigned_by': 'HPO:skoehler',\n",
       "   'date': '2013.05.29',\n",
       "   'evidence_code': 'IEA',\n",
       "   'hpo_id': 'HP:0001518'}]}"
      ]
     },
     "execution_count": 33,
     "metadata": {},
     "output_type": "execute_result"
    }
   ],
   "source": [
    "db.find_one(\"DECIPHER:1\")"
   ]
  },
  {
   "cell_type": "code",
   "execution_count": 34,
   "metadata": {
    "collapsed": false
   },
   "outputs": [
    {
     "data": {
      "text/plain": [
       "[{'_id': 'HP:0000252', 'name': 'Microcephaly'},\n",
       " {'_id': 'HP:0001249', 'name': 'Intellectual disability'},\n",
       " {'_id': 'HP:0001250', 'name': 'Seizures'},\n",
       " {'_id': 'HP:0001252', 'name': 'Muscular hypotonia'},\n",
       " {'_id': 'HP:0001518', 'name': 'Small for gestational age'}]"
      ]
     },
     "execution_count": 34,
     "metadata": {},
     "output_type": "execute_result"
    }
   ],
   "source": [
    "db_hpo = client.mydisease.HPO\n",
    "list(db_hpo.find({'_id':{'$in':[x['hpo_id'] for x in db.find_one(\"DECIPHER:1\")['phenotypes']]}},{'name':1}))"
   ]
  },
  {
   "cell_type": "code",
   "execution_count": null,
   "metadata": {
    "collapsed": true
   },
   "outputs": [],
   "source": []
  }
 ],
 "metadata": {
  "kernelspec": {
   "display_name": "Python 3",
   "language": "python",
   "name": "python3"
  },
  "language_info": {
   "codemirror_mode": {
    "name": "ipython",
    "version": 3
   },
   "file_extension": ".py",
   "mimetype": "text/x-python",
   "name": "python",
   "nbconvert_exporter": "python",
   "pygments_lexer": "ipython3",
   "version": "3.5.2"
  }
 },
 "nbformat": 4,
 "nbformat_minor": 0
}
