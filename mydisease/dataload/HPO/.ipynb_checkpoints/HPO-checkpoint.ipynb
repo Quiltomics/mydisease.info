{
 "cells": [
  {
   "cell_type": "code",
   "execution_count": 2,
   "metadata": {
    "collapsed": true
   },
   "outputs": [],
   "source": [
    "import re\n",
    "from itertools import chain\n",
    "import networkx\n",
    "import requests\n",
    "from mydisease.utils import read_obo\n",
    "from networkx.readwrite import json_graph\n",
    "import json\n",
    "from collections import defaultdict\n",
    "from typing import List\n",
    "\n",
    "from pymongo import MongoClient\n",
    "client = MongoClient()\n",
    "db = client.mydisease.HPO"
   ]
  },
  {
   "cell_type": "code",
   "execution_count": 4,
   "metadata": {
    "collapsed": true
   },
   "outputs": [],
   "source": [
    "def graph_to_d(graph):\n",
    "    \"\"\"\n",
    "\n",
    "    :param graph: A networkx graph made from reading ontology\n",
    "    :type graph: networkx.classes.multidigraph.MultiDiGraph\n",
    "    :return:\n",
    "    \"\"\"\n",
    "    node_link_data = json_graph.node_link_data(graph)\n",
    "    nodes = node_link_data['nodes']\n",
    "\n",
    "    idx_id = {idx: node['id'] for idx,node in enumerate(nodes)}\n",
    "    for link in node_link_data['links']:\n",
    "        # store the edges (links) within the graph\n",
    "        key = link['key']\n",
    "        source = link['source']\n",
    "        target = link['target']\n",
    "\n",
    "        if key not in nodes[source]:\n",
    "            nodes[source][key] = set()\n",
    "        nodes[source][key].add(idx_id[target])\n",
    "\n",
    "    # for mongo insertion\n",
    "    for node in nodes:\n",
    "        node['_id'] = node['id']\n",
    "        del node['id']\n",
    "        for k,v in node.items():\n",
    "            if isinstance(v, set):\n",
    "                node[k] = list(v)\n",
    "    d = {node['_id']: node for node in nodes}\n",
    "\n",
    "    return d"
   ]
  },
  {
   "cell_type": "code",
   "execution_count": 51,
   "metadata": {
    "collapsed": false
   },
   "outputs": [],
   "source": [
    "def parse_synonym(line: str):\n",
    "    # line = \"synonym: \\\"The other white meat\\\" EXACT MARKETING_SLOGAN [MEAT:00324, BACONBASE:03021]\"\n",
    "    return line[line.index(\"\\\"\")+1:line.rindex(\"\\\"\")] if line.count(\"\\\"\") == 2 else line\n",
    "\n",
    "\n",
    "def parse_def(line: str):\n",
    "    # line = \"\\\"A description.\\\" [url:http\\://www.ncbi.goc/123, url:http\\://www.ncbi.nlm.nih.gov/pubmed/15318016]\"\n",
    "    definition = line[line.index(\"\\\"\")+1:line.rindex(\"\\\"\")] if line.count(\"\\\"\") == 2 else line\n",
    "    if line.endswith(\"]\") and line.count(\"[\"):\n",
    "        left_bracket = [m.start() for m in re.finditer('\\[', line)]\n",
    "        right_bracket = [m.start() for m in re.finditer('\\]', line)]\n",
    "        endliststr = line[left_bracket[-1]+1:right_bracket[-1]-1]\n",
    "        endlist = [x.strip() for x in endliststr.split(\", \")]\n",
    "        return definition, endlist\n",
    "    else:\n",
    "        return definition, None\n",
    "\n",
    "def parse_xref(xrefs: List[str]):\n",
    "    xrefs = [x for x in xrefs if \":\" in x]\n",
    "    for n,xref in enumerate(xrefs):\n",
    "        xref = xref.split(\" \")[0]\n",
    "        if xref.startswith(\"MSH:\"):\n",
    "            xref = xref.replace(\"MSH:\", \"MESH:\")\n",
    "        if xref.startswith(\"MeSH:\"):\n",
    "            xref = xref.replace(\"MeSH:\", \"MESH:\")\n",
    "        if xref.startswith(\"Mesh:\"):\n",
    "            xref = xref.replace(\"Mesh:\", \"MESH:\")\n",
    "        xrefs[n] = xref\n",
    "        \n",
    "    return xrefs"
   ]
  },
  {
   "cell_type": "code",
   "execution_count": 52,
   "metadata": {
    "collapsed": false
   },
   "outputs": [],
   "source": [
    "\"\"\"\n",
    "url = \"http://purl.obolibrary.org/obo/doid.obo\"\n",
    "r = requests.get(url)\n",
    "graph = read_obo(r.text.splitlines())\n",
    "\"\"\"\n",
    "graph = read_obo(open(\"/home/gstupp/projects/biothings/mydisease/mydisease/data/hp.obo\").readlines())\n",
    "d = graph_to_d(graph)"
   ]
  },
  {
   "cell_type": "code",
   "execution_count": 53,
   "metadata": {
    "collapsed": false
   },
   "outputs": [
    {
     "data": {
      "text/plain": [
       "['MeSH:D008831 \"Microcephaly\"', 'UMLS:C0025958 \"Microcephaly\"']"
      ]
     },
     "execution_count": 53,
     "metadata": {},
     "output_type": "execute_result"
    }
   ],
   "source": [
    "d['HP:0000252']['xref']"
   ]
  },
  {
   "cell_type": "code",
   "execution_count": 54,
   "metadata": {
    "collapsed": true
   },
   "outputs": [],
   "source": [
    "for value in d.values():\n",
    "    if 'xref' in value:\n",
    "        value['xref'] = parse_xref(value['xref'])\n",
    "    if 'synonym' in value:\n",
    "        value['synonym'] = list(map(parse_synonym, value['synonym']))\n",
    "    if 'def' in value:\n",
    "        value['def'],ref = parse_def(value['def'])\n",
    "        if ref:\n",
    "            value['def_ref'] = ref"
   ]
  },
  {
   "cell_type": "code",
   "execution_count": 55,
   "metadata": {
    "collapsed": false
   },
   "outputs": [
    {
     "data": {
      "text/plain": [
       "['MESH:D008831', 'UMLS:C0025958']"
      ]
     },
     "execution_count": 55,
     "metadata": {},
     "output_type": "execute_result"
    }
   ],
   "source": [
    "d['HP:0000252']['xref']"
   ]
  },
  {
   "cell_type": "code",
   "execution_count": 56,
   "metadata": {
    "collapsed": false
   },
   "outputs": [
    {
     "data": {
      "text/plain": [
       "[('UMLS', 3913),\n",
       " ('MESH', 1065),\n",
       " ('SNOMEDCT', 277),\n",
       " ('MEDDRA', 93),\n",
       " ('ICD-10', 36),\n",
       " ('pmid', 22),\n",
       " ('EPCC', 13),\n",
       " ('MP', 11),\n",
       " ('MPATH', 5),\n",
       " ('NCIT', 5),\n",
       " ('ICD-O', 3),\n",
       " ('UToronto', 3),\n",
       " ('ICD-9', 3),\n",
       " ('DOI', 2),\n",
       " ('ICD10', 2),\n",
       " ('http', 1),\n",
       " ('DOID', 1),\n",
       " ('v', 1),\n",
       " ('SNOMEDct', 1),\n",
       " ('UMLS_CUI', 1),\n",
       " ('PMID', 1),\n",
       " ('NCI', 1)]"
      ]
     },
     "execution_count": 56,
     "metadata": {},
     "output_type": "execute_result"
    }
   ],
   "source": [
    "from collections import Counter\n",
    "Counter([x.split(\":\")[0] for x in chain(*[x.get('xref',[]) for x in d.values()])]).most_common(100)"
   ]
  },
  {
   "cell_type": "code",
   "execution_count": 60,
   "metadata": {
    "collapsed": false
   },
   "outputs": [
    {
     "data": {
      "text/plain": [
       "<pymongo.results.InsertManyResult at 0x7f76a63a0f78>"
      ]
     },
     "execution_count": 60,
     "metadata": {},
     "output_type": "execute_result"
    }
   ],
   "source": [
    "db.insert_many(d.values())"
   ]
  },
  {
   "cell_type": "code",
   "execution_count": 61,
   "metadata": {
    "collapsed": false
   },
   "outputs": [
    {
     "data": {
      "text/plain": [
       "{'_id': 'HP:0000252',\n",
       " 'alt_id': ['HP:0001366', 'HP:0005485', 'HP:0005489', 'HP:0005497'],\n",
       " 'comment': 'Head circumference is measured from just above the glabella (the most prominent point on the frontal bone above the root of the nose) to the most posterior prominent point of the occipital bone using a tape measure. Some standard charts are organized by centiles [Hall et al. [2007]], others by standard deviations [Farkas, [1981]]. It is important to add an indication of how far below the normal standard the head circumference is if an accurate assessment of this can be made. Microcephaly is an absolute term. The term relative microcephaly can be used when the head size centile is less than the centile for height, for example, head size at the 3rd centile with height at the 75% for age and sex. On prenatal ultrasound, microcephaly is diagnosed if the head circumference or the biparietal diameter is more than three standard deviations below the mean.',\n",
       " 'def': 'Occipito-frontal (head) circumference (OFC) less than -3 standard deviations compared to appropriate, age matched, normal standards (Ross JJ, Frias JL 1977, PMID:9683597). Alternatively, decreased size of the cranium.',\n",
       " 'def_ref': ['pmid:19125436', 'pmid:968359'],\n",
       " 'is_a': ['HP:0040195', 'HP:0007364'],\n",
       " 'name': 'Microcephaly',\n",
       " 'property_value': ['HP:0040005 \"Occipito-frontal (head) circumference (OFC) less than -3 standard deviations compared to appropriate, age matched, normal standards (Ross JJ, Frias JL 1977, PMID:9683597). Alternatively, decreased size of the `cranium` (FMA:46565).\" xsd:string'],\n",
       " 'subset': ['hposlim_core'],\n",
       " 'synonym': ['Abnormally small cranium',\n",
       "  'Abnormally small head',\n",
       "  'Abnormally small skull',\n",
       "  'Decreased circumference of cranium',\n",
       "  'Decreased size of cranium',\n",
       "  'Decreased size of head',\n",
       "  'Decreased size of skull',\n",
       "  'Reduced head circumference',\n",
       "  'small calvarium',\n",
       "  'small cranium',\n",
       "  'Small head',\n",
       "  'Small head circumference',\n",
       "  'Small skull'],\n",
       " 'xref': ['MESH:D008831', 'UMLS:C0025958']}"
      ]
     },
     "execution_count": 61,
     "metadata": {},
     "output_type": "execute_result"
    }
   ],
   "source": [
    "db.find_one('HP:0000252')"
   ]
  },
  {
   "cell_type": "code",
   "execution_count": null,
   "metadata": {
    "collapsed": true
   },
   "outputs": [],
   "source": []
  },
  {
   "cell_type": "code",
   "execution_count": null,
   "metadata": {
    "collapsed": true
   },
   "outputs": [],
   "source": []
  }
 ],
 "metadata": {
  "kernelspec": {
   "display_name": "Python 3",
   "language": "python",
   "name": "python3"
  },
  "language_info": {
   "codemirror_mode": {
    "name": "ipython",
    "version": 3
   },
   "file_extension": ".py",
   "mimetype": "text/x-python",
   "name": "python",
   "nbconvert_exporter": "python",
   "pygments_lexer": "ipython3",
   "version": "3.5.2"
  }
 },
 "nbformat": 4,
 "nbformat_minor": 0
}
