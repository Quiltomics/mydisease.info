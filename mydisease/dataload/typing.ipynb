{
 "cells": [
  {
   "cell_type": "code",
   "execution_count": 81,
   "metadata": {
    "collapsed": true
   },
   "outputs": [],
   "source": [
    "from pymongo import MongoClient\n",
    "client = MongoClient()\n",
    "db = client.mydisease.mydisease\n",
    "doc = db.find_one()"
   ]
  },
  {
   "cell_type": "code",
   "execution_count": 82,
   "metadata": {
    "collapsed": true
   },
   "outputs": [],
   "source": [
    "docs = []\n",
    "for n,doc in enumerate(db.find()):\n",
    "    docs.append(doc)\n",
    "    if n>100:\n",
    "        break"
   ]
  },
  {
   "cell_type": "code",
   "execution_count": 83,
   "metadata": {
    "collapsed": false,
    "scrolled": false
   },
   "outputs": [
    {
     "data": {
      "text/plain": [
       "{'_id': str,\n",
       " 'ctdbase': list,\n",
       " 'ctdbase.GO_BP': list,\n",
       " 'ctdbase.GO_BP.GOID': str,\n",
       " 'ctdbase.GO_BP.InferenceGeneSymbols': typing.List<~T>[str],\n",
       " 'ctdbase.GO_CC': list,\n",
       " 'ctdbase.GO_CC.GOID': str,\n",
       " 'ctdbase.GO_CC.InferenceGeneSymbols': typing.List<~T>[str],\n",
       " 'ctdbase.GO_MF': list,\n",
       " 'ctdbase.GO_MF.GOID': str,\n",
       " 'ctdbase.GO_MF.InferenceGeneSymbols': typing.List<~T>[str],\n",
       " 'ctdbase._id': str,\n",
       " 'ctdbase.chemicals': list,\n",
       " 'ctdbase.chemicals.CasRN': str,\n",
       " 'ctdbase.chemicals.ChemicalID': str,\n",
       " 'ctdbase.chemicals.DirectEvidence': typing.List<~T>[str],\n",
       " 'ctdbase.chemicals.InferenceGeneSymbol': str,\n",
       " 'ctdbase.chemicals.InferenceScore': float,\n",
       " 'ctdbase.chemicals.OmimIDs': typing.List<~T>[str],\n",
       " 'ctdbase.chemicals.PubMedIDs': typing.List<~T>[str],\n",
       " 'ctdbase.pathways': list,\n",
       " 'ctdbase.pathways.InferenceGeneSymbol': str,\n",
       " 'ctdbase.pathways.PathwayID': str,\n",
       " 'disease_ontology': dict,\n",
       " 'disease_ontology._id': str,\n",
       " 'disease_ontology.alt_id': typing.List<~T>[str],\n",
       " 'disease_ontology.comment': str,\n",
       " 'disease_ontology.created_by': str,\n",
       " 'disease_ontology.creation_date': str,\n",
       " 'disease_ontology.def': str,\n",
       " 'disease_ontology.is_a': typing.List<~T>[str],\n",
       " 'disease_ontology.name': str,\n",
       " 'disease_ontology.subset': typing.List<~T>[str],\n",
       " 'disease_ontology.synonym': typing.List<~T>[str],\n",
       " 'disease_ontology.xref': dict,\n",
       " 'disease_ontology.xref.csp': typing.List<~T>[str],\n",
       " 'disease_ontology.xref.efopat_id': typing.List<~T>[str],\n",
       " 'disease_ontology.xref.icd10cm': typing.List<~T>[str],\n",
       " 'disease_ontology.xref.icd9cm': typing.List<~T>[str],\n",
       " 'disease_ontology.xref.kegg': typing.List<~T>[str],\n",
       " 'disease_ontology.xref.mesh': typing.List<~T>[str],\n",
       " 'disease_ontology.xref.nci': typing.List<~T>[str],\n",
       " 'disease_ontology.xref.nci2009_04d': typing.List<~T>[str],\n",
       " 'disease_ontology.xref.omim': typing.List<~T>[str],\n",
       " 'disease_ontology.xref.orphanet': typing.List<~T>[str],\n",
       " 'disease_ontology.xref.snomedct_us_2016_03_01': typing.List<~T>[str],\n",
       " 'disease_ontology.xref.umls_cui': typing.List<~T>[str],\n",
       " 'disease_ontology.xref.url': typing.List<~T>[str],\n",
       " 'disgenet': list,\n",
       " 'disgenet._id': str,\n",
       " 'disgenet.genes': list,\n",
       " 'disgenet.genes.#pmids': int,\n",
       " 'disgenet.genes.#snps': int,\n",
       " 'disgenet.genes.gene_id': int,\n",
       " 'disgenet.genes.gene_name': str,\n",
       " 'disgenet.genes.score': float,\n",
       " 'disgenet.genes.source': typing.List<~T>[str],\n",
       " 'disgenet.snps': list,\n",
       " 'disgenet.snps.alt': str,\n",
       " 'disgenet.snps.chr': str,\n",
       " 'disgenet.snps.description': str,\n",
       " 'disgenet.snps.gene_id': int,\n",
       " 'disgenet.snps.gene_symbol': str,\n",
       " 'disgenet.snps.pos': str,\n",
       " 'disgenet.snps.pubmed': int,\n",
       " 'disgenet.snps.ref': str,\n",
       " 'disgenet.snps.rsid': str,\n",
       " 'disgenet.snps.score': float,\n",
       " 'disgenet.snps.source': str,\n",
       " 'disgenet.snps.year': int,\n",
       " 'hpo': list,\n",
       " 'hpo._id': str,\n",
       " 'hpo.alt_id': typing.List<~T>[str],\n",
       " 'hpo.comment': str,\n",
       " 'hpo.created_by': str,\n",
       " 'hpo.creation_date': str,\n",
       " 'hpo.def': str,\n",
       " 'hpo.is_a': typing.List<~T>[str],\n",
       " 'hpo.name': str,\n",
       " 'hpo.subset': typing.List<~T>[str],\n",
       " 'hpo.synonym': typing.List<~T>[str],\n",
       " 'hpo.xref': dict,\n",
       " 'hpo.xref.meddra': typing.List<~T>[str],\n",
       " 'hpo.xref.mesh': typing.List<~T>[str],\n",
       " 'hpo.xref.pmid': typing.List<~T>[str],\n",
       " 'hpo.xref.snomedct': typing.List<~T>[str],\n",
       " 'hpo.xref.umls_cui': typing.List<~T>[str],\n",
       " 'mesh': list,\n",
       " 'mesh._id': str,\n",
       " 'mesh.descriptor_class': str,\n",
       " 'mesh.last_updated': str,\n",
       " 'mesh.mapped_to': typing.List<~T>[str],\n",
       " 'mesh.note': str,\n",
       " 'mesh.record_type': str,\n",
       " 'mesh.see_also': typing.List<~T>[str],\n",
       " 'mesh.semantic_type': typing.List<~T>[str],\n",
       " 'mesh.semantic_type_id': typing.List<~T>[str],\n",
       " 'mesh.synonym': typing.List<~T>[str],\n",
       " 'mesh.synonyms': typing.List<~T>[str],\n",
       " 'mesh.term': str,\n",
       " 'mesh.tree': typing.List<~T>[str],\n",
       " 'ndfrt': list,\n",
       " 'ndfrt._id': str,\n",
       " 'ndfrt.drugs_used_for_treatment': list,\n",
       " 'ndfrt.drugs_used_for_treatment.fda_unii': str,\n",
       " 'ndfrt.drugs_used_for_treatment.level': str,\n",
       " 'ndfrt.drugs_used_for_treatment.name': str,\n",
       " 'ndfrt.drugs_used_for_treatment.nui': str,\n",
       " 'ndfrt.drugs_used_for_treatment.rxnorm_cui': str,\n",
       " 'ndfrt.drugs_used_for_treatment.umls_cui': str,\n",
       " 'ndfrt.name': str,\n",
       " 'ndfrt.synonyms': typing.List<~T>[str],\n",
       " 'ndfrt.xref': dict,\n",
       " 'ndfrt.xref.mesh': typing.List<~T>[str],\n",
       " 'ndfrt.xref.nui': typing.List<~T>[str],\n",
       " 'ndfrt.xref.rxnorm_cui': typing.List<~T>[str],\n",
       " 'ndfrt.xref.snomedct_us_2016_03_01': typing.List<~T>[str],\n",
       " 'orphanet': list,\n",
       " 'orphanet._id': str,\n",
       " 'orphanet.alternative_term': typing.List<~T>[str],\n",
       " 'orphanet.ave_age_of_death': typing.List<~T>[str],\n",
       " 'orphanet.ave_age_of_onset': typing.List<~T>[str],\n",
       " 'orphanet.definition': str,\n",
       " 'orphanet.definition_citation': str,\n",
       " 'orphanet.definitions': str,\n",
       " 'orphanet.disease_gene_associations': list,\n",
       " 'orphanet.disease_gene_associations.dga_status': str,\n",
       " 'orphanet.disease_gene_associations.dga_type': str,\n",
       " 'orphanet.disease_gene_associations.gene_name': str,\n",
       " 'orphanet.disease_gene_associations.gene_symbol': str,\n",
       " 'orphanet.disease_gene_associations.gene_type': str,\n",
       " 'orphanet.disease_gene_associations.loci': typing.List<~T>[str],\n",
       " 'orphanet.mapping': dict,\n",
       " 'orphanet.mapping.BTNT': typing.List<~T>[str],\n",
       " 'orphanet.mapping.E': typing.List<~T>[str],\n",
       " 'orphanet.mapping.NTBT': typing.List<~T>[str],\n",
       " 'orphanet.parents': typing.List<~T>[str],\n",
       " 'orphanet.part_of': typing.List<~T>[str],\n",
       " 'orphanet.phenotypes': list,\n",
       " 'orphanet.phenotypes.frequency': str,\n",
       " 'orphanet.phenotypes.phenotype_id': str,\n",
       " 'orphanet.phenotypes.phenotype_name': str,\n",
       " 'orphanet.preferred_label': str,\n",
       " 'orphanet.prevalence': list,\n",
       " 'orphanet.prevalence.mean_value': float,\n",
       " 'orphanet.prevalence.prevalence_class': str,\n",
       " 'orphanet.prevalence.prevalence_geographic': str,\n",
       " 'orphanet.prevalence.prevalence_qualification': str,\n",
       " 'orphanet.prevalence.prevalence_type': str,\n",
       " 'orphanet.prevalence.prevalence_validation_status': str,\n",
       " 'orphanet.prevalence.source': str,\n",
       " 'orphanet.reason_for_obsolescence': str,\n",
       " 'orphanet.synonyms': typing.List<~T>[str],\n",
       " 'orphanet.tree_view': typing.List<~T>[str],\n",
       " 'orphanet.type_of_inheritance': typing.List<~T>[str],\n",
       " 'orphanet.xref': dict,\n",
       " 'orphanet.xref.icd10cm': typing.List<~T>[str],\n",
       " 'orphanet.xref.meddra': typing.List<~T>[str],\n",
       " 'orphanet.xref.mesh': typing.List<~T>[str],\n",
       " 'orphanet.xref.omim': typing.List<~T>[str],\n",
       " 'orphanet.xref.umls_cui': typing.List<~T>[str]}"
      ]
     },
     "execution_count": 83,
     "metadata": {},
     "output_type": "execute_result"
    }
   ],
   "source": [
    "compare_types(docs)"
   ]
  },
  {
   "cell_type": "code",
   "execution_count": 84,
   "metadata": {
    "collapsed": false
   },
   "outputs": [
    {
     "data": {
      "text/plain": [
       "{'_id': 'umls_cui:C0018818',\n",
       " 'drugs_used_for_treatment': [],\n",
       " 'name': 'Heart Septal Defects, Ventricular',\n",
       " 'synonyms': ['Ventricular Septal Defect',\n",
       "  'Intraventricular Septal Defects',\n",
       "  'Ventricular Septal Defects'],\n",
       " 'xref': {'mesh': ['D006345'],\n",
       "  'nui': ['N0000001442'],\n",
       "  'rxnorm_cui': ['989737'],\n",
       "  'snomedct_us_2016_03_01': ['30288003', '204309000']}}"
      ]
     },
     "execution_count": 84,
     "metadata": {},
     "output_type": "execute_result"
    }
   ],
   "source": [
    "db = client.mydisease.ndfrt\n",
    "doc = db.find_one()\n",
    "doc"
   ]
  },
  {
   "cell_type": "code",
   "execution_count": 85,
   "metadata": {
    "collapsed": false
   },
   "outputs": [
    {
     "data": {
      "text/plain": [
       "{'_id': str,\n",
       " 'drugs_used_for_treatment': typing.List<~T>,\n",
       " 'name': str,\n",
       " 'synonyms': typing.List<~T>[str],\n",
       " 'xref': dict,\n",
       " 'xref.mesh': typing.List<~T>[str],\n",
       " 'xref.nui': typing.List<~T>[str],\n",
       " 'xref.rxnorm_cui': typing.List<~T>[str],\n",
       " 'xref.snomedct_us_2016_03_01': typing.List<~T>[str]}"
      ]
     },
     "execution_count": 85,
     "metadata": {},
     "output_type": "execute_result"
    }
   ],
   "source": [
    "get_types(doc)"
   ]
  },
  {
   "cell_type": "code",
   "execution_count": 86,
   "metadata": {
    "collapsed": true
   },
   "outputs": [],
   "source": [
    "docs = []\n",
    "for n,doc in enumerate(db.find()):\n",
    "    docs.append(doc)\n",
    "    if n>1000:\n",
    "        break"
   ]
  },
  {
   "cell_type": "code",
   "execution_count": 87,
   "metadata": {
    "collapsed": false,
    "scrolled": false
   },
   "outputs": [
    {
     "data": {
      "text/plain": [
       "{'_id': str,\n",
       " 'drugs_used_for_treatment': list,\n",
       " 'drugs_used_for_treatment.fda_unii': str,\n",
       " 'drugs_used_for_treatment.level': str,\n",
       " 'drugs_used_for_treatment.name': str,\n",
       " 'drugs_used_for_treatment.nui': str,\n",
       " 'drugs_used_for_treatment.rxnorm_cui': str,\n",
       " 'drugs_used_for_treatment.umls_cui': str,\n",
       " 'name': str,\n",
       " 'synonyms': typing.List<~T>[str],\n",
       " 'xref': dict,\n",
       " 'xref.mesh': typing.List<~T>[str],\n",
       " 'xref.nui': typing.List<~T>[str],\n",
       " 'xref.rxnorm_cui': typing.List<~T>[str],\n",
       " 'xref.snomedct_us_2016_03_01': typing.List<~T>[str]}"
      ]
     },
     "execution_count": 87,
     "metadata": {},
     "output_type": "execute_result"
    }
   ],
   "source": [
    "from utils import get_types, compare_types\n",
    "compare_types(docs)"
   ]
  },
  {
   "cell_type": "code",
   "execution_count": 90,
   "metadata": {
    "collapsed": false
   },
   "outputs": [],
   "source": [
    "from typing import List\n",
    "db_name = \"ndfrt\"\n",
    "mapping = {db_name: {'properties': {}}}\n",
    "root = mapping[db_name]['properties']\n",
    "types = {str: \"string\", float: \"long\", int: \"integer\", \n",
    "         List[str]: \"string\", List[float]: \"long\", List[int]: \"integer\"}\n",
    "for key,value in compare_types(docs).items():\n",
    "    if value == dict or value == list:\n",
    "        continue\n",
    "    if key.count(\".\"):\n",
    "        prefix, key = key.split(\".\",1)\n",
    "        if prefix not in root:\n",
    "            root[prefix] = {'properties': {}}\n",
    "        root[prefix]['properties'][key] = {\"type\": types[value]}\n",
    "    else:\n",
    "        root[key] = {\"type\": types[value]}"
   ]
  },
  {
   "cell_type": "code",
   "execution_count": 91,
   "metadata": {
    "collapsed": false
   },
   "outputs": [
    {
     "data": {
      "text/plain": [
       "'{\"ndfrt\": {\"properties\": {\"_id\": {\"type\": \"string\"}, \"xref\": {\"properties\": {\"mesh\": {\"type\": \"string\"}, \"nui\": {\"type\": \"string\"}, \"rxnorm_cui\": {\"type\": \"string\"}, \"snomedct_us_2016_03_01\": {\"type\": \"string\"}}}, \"drugs_used_for_treatment\": {\"properties\": {\"rxnorm_cui\": {\"type\": \"string\"}, \"umls_cui\": {\"type\": \"string\"}, \"fda_unii\": {\"type\": \"string\"}, \"nui\": {\"type\": \"string\"}, \"level\": {\"type\": \"string\"}, \"name\": {\"type\": \"string\"}}}, \"synonyms\": {\"type\": \"string\"}, \"name\": {\"type\": \"string\"}}}}'"
      ]
     },
     "execution_count": 91,
     "metadata": {},
     "output_type": "execute_result"
    }
   ],
   "source": [
    "import json\n",
    "json.dumps(mapping)"
   ]
  },
  {
   "cell_type": "code",
   "execution_count": null,
   "metadata": {
    "collapsed": true
   },
   "outputs": [],
   "source": []
  }
 ],
 "metadata": {
  "kernelspec": {
   "display_name": "Python 3",
   "language": "python",
   "name": "python3"
  },
  "language_info": {
   "codemirror_mode": {
    "name": "ipython",
    "version": 3
   },
   "file_extension": ".py",
   "mimetype": "text/x-python",
   "name": "python",
   "nbconvert_exporter": "python",
   "pygments_lexer": "ipython3",
   "version": "3.5.2"
  }
 },
 "nbformat": 4,
 "nbformat_minor": 0
}
