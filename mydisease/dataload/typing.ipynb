{
 "cells": [
  {
   "cell_type": "code",
   "execution_count": 4,
   "metadata": {
    "collapsed": true
   },
   "outputs": [],
   "source": [
    "from pymongo import MongoClient\n",
    "client = MongoClient()\n",
    "db = client.mydisease.mydisease\n",
    "doc = db.find_one()"
   ]
  },
  {
   "cell_type": "code",
   "execution_count": 5,
   "metadata": {
    "collapsed": true
   },
   "outputs": [],
   "source": [
    "docs = []\n",
    "for n,doc in enumerate(db.find()):\n",
    "    docs.append(doc)\n",
    "    if n>1000:\n",
    "        break"
   ]
  },
  {
   "cell_type": "code",
   "execution_count": 7,
   "metadata": {
    "collapsed": false
   },
   "outputs": [
    {
     "data": {
      "text/plain": [
       "{'_id': bson.objectid.ObjectId,\n",
       " 'ctdbase': list,\n",
       " 'ctdbase.GO_BP': list,\n",
       " 'ctdbase.GO_BP.GOID': str,\n",
       " 'ctdbase.GO_BP.InferenceGeneSymbols': typing.List<~T>[str],\n",
       " 'ctdbase.GO_CC': list,\n",
       " 'ctdbase.GO_CC.GOID': str,\n",
       " 'ctdbase.GO_CC.InferenceGeneSymbols': typing.List<~T>[str],\n",
       " 'ctdbase.GO_MF': list,\n",
       " 'ctdbase.GO_MF.GOID': str,\n",
       " 'ctdbase.GO_MF.InferenceGeneSymbols': typing.List<~T>[str],\n",
       " 'ctdbase._id': str,\n",
       " 'ctdbase.chemicals': list,\n",
       " 'ctdbase.chemicals.CasRN': str,\n",
       " 'ctdbase.chemicals.ChemicalID': str,\n",
       " 'ctdbase.chemicals.DirectEvidence': typing.List<~T>[str],\n",
       " 'ctdbase.chemicals.InferenceGeneSymbol': str,\n",
       " 'ctdbase.chemicals.InferenceScore': float,\n",
       " 'ctdbase.chemicals.OmimIDs': typing.List<~T>[str],\n",
       " 'ctdbase.chemicals.PubMedIDs': typing.List<~T>[str],\n",
       " 'ctdbase.pathways': list,\n",
       " 'ctdbase.pathways.InferenceGeneSymbol': str,\n",
       " 'ctdbase.pathways.PathwayID': str,\n",
       " 'disease_ontology': dict,\n",
       " 'disease_ontology._id': str,\n",
       " 'disease_ontology.alt_id': typing.List<~T>[str],\n",
       " 'disease_ontology.comment': str,\n",
       " 'disease_ontology.created_by': str,\n",
       " 'disease_ontology.creation_date': str,\n",
       " 'disease_ontology.def': str,\n",
       " 'disease_ontology.def_ref': typing.List<~T>[str],\n",
       " 'disease_ontology.disjoint_from': typing.List<~T>[str],\n",
       " 'disease_ontology.is_a': typing.List<~T>[str],\n",
       " 'disease_ontology.name': str,\n",
       " 'disease_ontology.subset': typing.List<~T>[str],\n",
       " 'disease_ontology.synonym': typing.List<~T>[str],\n",
       " 'disease_ontology.xref': typing.List<~T>[str],\n",
       " 'disgenet': list,\n",
       " 'disgenet._id': str,\n",
       " 'disgenet.genes': list,\n",
       " 'disgenet.genes.NofPmids': int,\n",
       " 'disgenet.genes.NofSnps': int,\n",
       " 'disgenet.genes.description': str,\n",
       " 'disgenet.genes.geneId': int,\n",
       " 'disgenet.genes.geneName': str,\n",
       " 'disgenet.genes.score': float,\n",
       " 'disgenet.genes.sourceId': typing.List<~T>[str],\n",
       " 'mesh': list,\n",
       " 'mesh._id': str,\n",
       " 'mesh.mesh_name': str,\n",
       " 'mesh.parents': typing.List<~T>[str],\n",
       " 'mesh.tree_numbers': typing.List<~T>[str],\n",
       " 'omim': list,\n",
       " 'omim._id': str,\n",
       " 'omim.alternative': list,\n",
       " 'omim.alternative.symbol': str,\n",
       " 'omim.alternative.title': str,\n",
       " 'omim.included': list,\n",
       " 'omim.included.symbol': str,\n",
       " 'omim.included.title': str,\n",
       " 'omim.symbol': str,\n",
       " 'omim.title': str,\n",
       " 'omim.type': str,\n",
       " 'orphanet': list,\n",
       " 'orphanet._id': str,\n",
       " 'orphanet.alternative_term': typing.List<~T>[str],\n",
       " 'orphanet.ave_age_of_death': typing.List<~T>[str],\n",
       " 'orphanet.ave_age_of_onset': typing.List<~T>[str],\n",
       " 'orphanet.definition': str,\n",
       " 'orphanet.definition_citation': str,\n",
       " 'orphanet.definitions': str,\n",
       " 'orphanet.disease_gene_associations': list,\n",
       " 'orphanet.disease_gene_associations.dga_status': str,\n",
       " 'orphanet.disease_gene_associations.dga_type': str,\n",
       " 'orphanet.disease_gene_associations.gene_name': str,\n",
       " 'orphanet.disease_gene_associations.gene_symbol': str,\n",
       " 'orphanet.disease_gene_associations.gene_type': str,\n",
       " 'orphanet.disease_gene_associations.loci': typing.List<~T>[str],\n",
       " 'orphanet.mapping': dict,\n",
       " 'orphanet.mapping.BTNT': typing.List<~T>[str],\n",
       " 'orphanet.mapping.E': typing.List<~T>[str],\n",
       " 'orphanet.mapping.ND': typing.List<~T>[str],\n",
       " 'orphanet.mapping.NTBT': typing.List<~T>[str],\n",
       " 'orphanet.parents': typing.List<~T>[str],\n",
       " 'orphanet.part_of': typing.List<~T>[str],\n",
       " 'orphanet.phenotypes': list,\n",
       " 'orphanet.phenotypes.frequency': str,\n",
       " 'orphanet.phenotypes.phenotype_id': str,\n",
       " 'orphanet.phenotypes.phenotype_name': str,\n",
       " 'orphanet.preferred_label': str,\n",
       " 'orphanet.prevalence': list,\n",
       " 'orphanet.prevalence.mean_value': str,\n",
       " 'orphanet.prevalence.prevalence_class': str,\n",
       " 'orphanet.prevalence.prevalence_geographic': str,\n",
       " 'orphanet.prevalence.prevalence_qualification': str,\n",
       " 'orphanet.prevalence.prevalence_type': str,\n",
       " 'orphanet.prevalence.prevalence_validation_status': str,\n",
       " 'orphanet.prevalence.source': str,\n",
       " 'orphanet.reason_for_obsolescence': str,\n",
       " 'orphanet.synonyms': typing.List<~T>[str],\n",
       " 'orphanet.tree_view': typing.List<~T>[str],\n",
       " 'orphanet.type_of_inheritance': typing.List<~T>[str],\n",
       " 'orphanet.xref': typing.List<~T>[str]}"
      ]
     },
     "execution_count": 7,
     "metadata": {},
     "output_type": "execute_result"
    }
   ],
   "source": [
    "from utils import get_types, compare_types\n",
    "compare_types(docs)"
   ]
  }
 ],
 "metadata": {
  "kernelspec": {
   "display_name": "Python 3",
   "language": "python",
   "name": "python3"
  },
  "language_info": {
   "codemirror_mode": {
    "name": "ipython",
    "version": 3.0
   },
   "file_extension": ".py",
   "mimetype": "text/x-python",
   "name": "python",
   "nbconvert_exporter": "python",
   "pygments_lexer": "ipython3",
   "version": "3.5.2"
  }
 },
 "nbformat": 4,
 "nbformat_minor": 0
}