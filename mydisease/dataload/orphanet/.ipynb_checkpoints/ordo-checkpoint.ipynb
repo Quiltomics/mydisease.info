{
 "cells": [
  {
   "cell_type": "code",
   "execution_count": 161,
   "metadata": {
    "collapsed": true
   },
   "outputs": [],
   "source": [
    "# Orphanet Rare Disease Ontology (ORDO)\n",
    "# http://www.orphadata.org/cgi-bin/inc/ordo_orphanet.inc.php\n",
    "# http://bioportal.bioontology.org/ontologies/ORDO\n",
    "# http://data.bioontology.org/ontologies/ORDO/download?apikey=8b5b7825-538d-40e0-9e9e-5ab9274a9aeb&download_format=csv\n",
    "\n",
    "import json\n",
    "import numpy as np\n",
    "import pandas as pd\n",
    "pd.set_option(\"display.width\", 200)\n",
    "\n",
    "columns_rename = {\"http://data.bioontology.org/metadata/obo/part_of\": \"part_of\",\n",
    "                  \"http://data.bioontology.org/metadata/treeView\": \"tree_view\",\n",
    "                  \"http://www.ebi.ac.uk/efo/alternative_term\": \"alternative_term\",\n",
    "                  \"http://www.ebi.ac.uk/efo/definition\": \"definition\",\n",
    "                  \"http://www.ebi.ac.uk/efo/definition_citation\": \"definition_citation\",\n",
    "                  \"http://www.ebi.ac.uk/efo/reason_for_obsolescence\": \"reason_for_obsolescence\",\n",
    "                  \"http://www.geneontology.org/formats/oboInOwl#hasDbXref\": \"xref\",\n",
    "                  \"http://www.orpha.net/ORDO/Orphanet_#symbol\": \"symbol\",\n",
    "                  \"Synonyms\": \"synonyms\",\n",
    "                  \"Obsolete\": \"obsolete\",\n",
    "                  \"Class ID\": \"id\",\n",
    "                  \"Preferred Label\": \"preferred_label\",\n",
    "                  \"Parents\": \"parents\",\n",
    "                  \"Definitions\": \"definitions\"\n",
    "                  }"
   ]
  },
  {
   "cell_type": "code",
   "execution_count": 163,
   "metadata": {
    "collapsed": true
   },
   "outputs": [],
   "source": [
    "from pymongo import MongoClient\n",
    "client = MongoClient()\n",
    "db = client.mydisease.orphanet"
   ]
  },
  {
   "cell_type": "code",
   "execution_count": 188,
   "metadata": {
    "collapsed": false
   },
   "outputs": [
    {
     "data": {
      "text/html": [
       "<div>\n",
       "<table border=\"1\" class=\"dataframe\">\n",
       "  <thead>\n",
       "    <tr style=\"text-align: right;\">\n",
       "      <th></th>\n",
       "      <th>_id</th>\n",
       "      <th>preferred_label</th>\n",
       "      <th>synonyms</th>\n",
       "      <th>definitions</th>\n",
       "      <th>parents</th>\n",
       "      <th>part_of</th>\n",
       "      <th>tree_view</th>\n",
       "      <th>alternative_term</th>\n",
       "      <th>definition</th>\n",
       "      <th>definition_citation</th>\n",
       "      <th>reason_for_obsolescence</th>\n",
       "      <th>xref</th>\n",
       "      <th>symbol</th>\n",
       "    </tr>\n",
       "  </thead>\n",
       "  <tbody>\n",
       "    <tr>\n",
       "      <th>0</th>\n",
       "      <td>Orphanet:1390</td>\n",
       "      <td>Night blindness-skeletal anomalies-dysmorphism...</td>\n",
       "      <td>[Hunter-Thompson-Reed syndrome]</td>\n",
       "      <td>NaN</td>\n",
       "      <td>[Orphanet:377789]</td>\n",
       "      <td>[Orphanet:102285, Orphanet:330206]</td>\n",
       "      <td>[Orphanet:102285, Orphanet:330206]</td>\n",
       "      <td>[Hunter-Thompson-Reed syndrome]</td>\n",
       "      <td>NaN</td>\n",
       "      <td>NaN</td>\n",
       "      <td>NaN</td>\n",
       "      <td>[ICD-10:Q87.8]</td>\n",
       "      <td>NaN</td>\n",
       "    </tr>\n",
       "    <tr>\n",
       "      <th>2</th>\n",
       "      <td>Orphanet:264694</td>\n",
       "      <td>Interstitial lung disease specific to infancy</td>\n",
       "      <td>[ILD specific to infancy]</td>\n",
       "      <td>NaN</td>\n",
       "      <td>[Orphanet:377794, Orphanet:264665]</td>\n",
       "      <td>NaN</td>\n",
       "      <td>NaN</td>\n",
       "      <td>[ILD specific to infancy]</td>\n",
       "      <td>NaN</td>\n",
       "      <td>NaN</td>\n",
       "      <td>NaN</td>\n",
       "      <td>NaN</td>\n",
       "      <td>NaN</td>\n",
       "    </tr>\n",
       "    <tr>\n",
       "      <th>3</th>\n",
       "      <td>Orphanet:69735</td>\n",
       "      <td>Hypotrichosis-lymphedema-telangiectasia-renal ...</td>\n",
       "      <td>[Hypotrichosis-lymphedema-telangiectasia-membr...</td>\n",
       "      <td>Hypotrichosis - lymphedema - telangiectasia is...</td>\n",
       "      <td>[Orphanet:377788]</td>\n",
       "      <td>[Orphanet:89832, Orphanet:102373]</td>\n",
       "      <td>[Orphanet:89832, Orphanet:102373]</td>\n",
       "      <td>[Hypotrichosis-lymphedema-telangiectasia-membr...</td>\n",
       "      <td>Hypotrichosis - lymphedema - telangiectasia is...</td>\n",
       "      <td>orphanet</td>\n",
       "      <td>NaN</td>\n",
       "      <td>[OMIM:607823, OMIM:137940]</td>\n",
       "      <td>NaN</td>\n",
       "    </tr>\n",
       "    <tr>\n",
       "      <th>4</th>\n",
       "      <td>Orphanet:454</td>\n",
       "      <td>Acquired ichthyosis</td>\n",
       "      <td>NaN</td>\n",
       "      <td>NaN</td>\n",
       "      <td>[Orphanet:377788]</td>\n",
       "      <td>[Orphanet:79354]</td>\n",
       "      <td>[Orphanet:79354]</td>\n",
       "      <td>NaN</td>\n",
       "      <td>NaN</td>\n",
       "      <td>NaN</td>\n",
       "      <td>NaN</td>\n",
       "      <td>[ICD-10:L85.0]</td>\n",
       "      <td>NaN</td>\n",
       "    </tr>\n",
       "    <tr>\n",
       "      <th>5</th>\n",
       "      <td>Orphanet:3451</td>\n",
       "      <td>West syndrome</td>\n",
       "      <td>[Infantile spasms, Intellectual disability-hyp...</td>\n",
       "      <td>NaN</td>\n",
       "      <td>[Orphanet:377792]</td>\n",
       "      <td>[Orphanet:183763, Orphanet:182079, Orphanet:98...</td>\n",
       "      <td>[Orphanet:183763, Orphanet:182079, Orphanet:98...</td>\n",
       "      <td>[Infantile spasms, Intellectual disability-hyp...</td>\n",
       "      <td>NaN</td>\n",
       "      <td>NaN</td>\n",
       "      <td>NaN</td>\n",
       "      <td>[MedDRA:10021750, OMIM:616139, OMIM:613722, IC...</td>\n",
       "      <td>NaN</td>\n",
       "    </tr>\n",
       "  </tbody>\n",
       "</table>\n",
       "</div>"
      ],
      "text/plain": [
       "               _id                                    preferred_label                                           synonyms                                        definitions  \\\n",
       "0    Orphanet:1390  Night blindness-skeletal anomalies-dysmorphism...                    [Hunter-Thompson-Reed syndrome]                                                NaN   \n",
       "2  Orphanet:264694      Interstitial lung disease specific to infancy                          [ILD specific to infancy]                                                NaN   \n",
       "3   Orphanet:69735  Hypotrichosis-lymphedema-telangiectasia-renal ...  [Hypotrichosis-lymphedema-telangiectasia-membr...  Hypotrichosis - lymphedema - telangiectasia is...   \n",
       "4     Orphanet:454                                Acquired ichthyosis                                                NaN                                                NaN   \n",
       "5    Orphanet:3451                                      West syndrome  [Infantile spasms, Intellectual disability-hyp...                                                NaN   \n",
       "\n",
       "                              parents                                            part_of                                          tree_view                                   alternative_term  \\\n",
       "0                   [Orphanet:377789]                 [Orphanet:102285, Orphanet:330206]                 [Orphanet:102285, Orphanet:330206]                    [Hunter-Thompson-Reed syndrome]   \n",
       "2  [Orphanet:377794, Orphanet:264665]                                                NaN                                                NaN                          [ILD specific to infancy]   \n",
       "3                   [Orphanet:377788]                  [Orphanet:89832, Orphanet:102373]                  [Orphanet:89832, Orphanet:102373]  [Hypotrichosis-lymphedema-telangiectasia-membr...   \n",
       "4                   [Orphanet:377788]                                   [Orphanet:79354]                                   [Orphanet:79354]                                                NaN   \n",
       "5                   [Orphanet:377792]  [Orphanet:183763, Orphanet:182079, Orphanet:98...  [Orphanet:183763, Orphanet:182079, Orphanet:98...  [Infantile spasms, Intellectual disability-hyp...   \n",
       "\n",
       "                                          definition definition_citation reason_for_obsolescence                                               xref symbol  \n",
       "0                                                NaN                 NaN                     NaN                                     [ICD-10:Q87.8]    NaN  \n",
       "2                                                NaN                 NaN                     NaN                                                NaN    NaN  \n",
       "3  Hypotrichosis - lymphedema - telangiectasia is...            orphanet                     NaN                         [OMIM:607823, OMIM:137940]    NaN  \n",
       "4                                                NaN                 NaN                     NaN                                     [ICD-10:L85.0]    NaN  \n",
       "5                                                NaN                 NaN                     NaN  [MedDRA:10021750, OMIM:616139, OMIM:613722, IC...    NaN  "
      ]
     },
     "execution_count": 188,
     "metadata": {},
     "output_type": "execute_result"
    }
   ],
   "source": [
    "df = pd.read_csv(\"/home/gstupp/projects/biothings/mydisease/mydisease/data/ORDO.csv.gz\")\n",
    "list_attribs = ['synonyms','parents','part_of','tree_view','alternative_term','xref']\n",
    "# throw away columns that are all null\n",
    "df = df[df.columns[df.isnull().sum()!=len(df)]]\n",
    "df = df.rename(index=str, columns=columns_rename)\n",
    "df = df[~df.obsolete]\n",
    "df = df[df.symbol.isnull()]\n",
    "del df['obsolete']\n",
    "df.xref = df.xref.dropna().apply(lambda x:x.replace(\"MeSH:\", \"MESH:\")).copy()\n",
    "for col in ['parents','part_of','tree_view','id']:\n",
    "    df[col] = df[col].str.replace(\"http://www.orpha.net/ORDO/\", \"\").str.replace(\"_\",\":\")\n",
    "for col in list_attribs:\n",
    "    df[col] = df[col].str.split(\"|\").copy()\n",
    "df.rename(columns={'id':'_id'}, inplace=True)\n",
    "df.head()"
   ]
  },
  {
   "cell_type": "code",
   "execution_count": 189,
   "metadata": {
    "collapsed": false
   },
   "outputs": [],
   "source": [
    "df_records = df.apply(lambda x:x.dropna().to_dict(), axis=1)\n",
    "d = {record[\"_id\"]: record for record in df_records}"
   ]
  },
  {
   "cell_type": "code",
   "execution_count": 190,
   "metadata": {
    "collapsed": false
   },
   "outputs": [
    {
     "data": {
      "text/plain": [
       "{'_id': 'Orphanet:329894',\n",
       " 'parents': ['Orphanet:377788'],\n",
       " 'part_of': ['Orphanet:329888'],\n",
       " 'preferred_label': 'Juvenile overlap myositis',\n",
       " 'tree_view': ['Orphanet:329888'],\n",
       " 'xref': ['ICD-10:M33.0']}"
      ]
     },
     "execution_count": 190,
     "metadata": {},
     "output_type": "execute_result"
    }
   ],
   "source": [
    "df_records[100]"
   ]
  },
  {
   "cell_type": "code",
   "execution_count": 191,
   "metadata": {
    "collapsed": false
   },
   "outputs": [
    {
     "data": {
      "text/plain": [
       "{'_id': 'Orphanet:98306',\n",
       " 'alternative_term': ['FPLD'],\n",
       " 'definition': 'Familial partial lipodystrophy (FPLD) is a group of rare genetic lipodystrophic syndromes characterized, in most cases, by fat loss from the limbs and buttocks, from childhood or early adulthood, and often associated with acanthosis nigricans, insulin resistance, diabetes, hypertriglyceridemia and liver steatosis.',\n",
       " 'definition_citation': 'orphanet',\n",
       " 'definitions': 'Familial partial lipodystrophy (FPLD) is a group of rare genetic lipodystrophic syndromes characterized, in most cases, by fat loss from the limbs and buttocks, from childhood or early adulthood, and often associated with acanthosis nigricans, insulin resistance, diabetes, hypertriglyceridemia and liver steatosis.',\n",
       " 'parents': ['Orphanet:98305', 'Orphanet:377794'],\n",
       " 'preferred_label': 'Familial partial lipodystrophy',\n",
       " 'synonyms': ['FPLD'],\n",
       " 'xref': ['UMLS:C0271694', 'ICD-10:E88.1', 'MESH:D052496']}"
      ]
     },
     "execution_count": 191,
     "metadata": {},
     "output_type": "execute_result"
    }
   ],
   "source": [
    "d['Orphanet:98306']"
   ]
  },
  {
   "cell_type": "code",
   "execution_count": 193,
   "metadata": {
    "collapsed": false
   },
   "outputs": [
    {
     "data": {
      "text/plain": [
       "<pymongo.results.InsertManyResult at 0x7f2230dcbf30>"
      ]
     },
     "execution_count": 193,
     "metadata": {},
     "output_type": "execute_result"
    }
   ],
   "source": [
    "db.insert_many(list(df_records))"
   ]
  },
  {
   "cell_type": "code",
   "execution_count": 194,
   "metadata": {
    "collapsed": false
   },
   "outputs": [
    {
     "data": {
      "text/plain": [
       "{'_id': 'Orphanet:98306',\n",
       " 'alternative_term': ['FPLD'],\n",
       " 'definition': 'Familial partial lipodystrophy (FPLD) is a group of rare genetic lipodystrophic syndromes characterized, in most cases, by fat loss from the limbs and buttocks, from childhood or early adulthood, and often associated with acanthosis nigricans, insulin resistance, diabetes, hypertriglyceridemia and liver steatosis.',\n",
       " 'definition_citation': 'orphanet',\n",
       " 'definitions': 'Familial partial lipodystrophy (FPLD) is a group of rare genetic lipodystrophic syndromes characterized, in most cases, by fat loss from the limbs and buttocks, from childhood or early adulthood, and often associated with acanthosis nigricans, insulin resistance, diabetes, hypertriglyceridemia and liver steatosis.',\n",
       " 'parents': ['Orphanet:98305', 'Orphanet:377794'],\n",
       " 'preferred_label': 'Familial partial lipodystrophy',\n",
       " 'synonyms': ['FPLD'],\n",
       " 'xref': ['UMLS:C0271694', 'ICD-10:E88.1', 'MESH:D052496']}"
      ]
     },
     "execution_count": 194,
     "metadata": {},
     "output_type": "execute_result"
    }
   ],
   "source": [
    "db.find_one('Orphanet:98306')"
   ]
  },
  {
   "cell_type": "code",
   "execution_count": 195,
   "metadata": {
    "collapsed": false
   },
   "outputs": [
    {
     "data": {
      "text/plain": [
       "[('ICD-10', 7858),\n",
       " ('OMIM', 6677),\n",
       " ('UMLS', 3064),\n",
       " ('MESH', 1787),\n",
       " ('MedDRA', 1212)]"
      ]
     },
     "execution_count": 195,
     "metadata": {},
     "output_type": "execute_result"
    }
   ],
   "source": [
    "from collections import Counter\n",
    "from itertools import chain\n",
    "Counter([x.split(\":\")[0] for x in chain(*[x.get('xref',[]) for x in d.values()])]).most_common(100)"
   ]
  },
  {
   "cell_type": "code",
   "execution_count": null,
   "metadata": {
    "collapsed": true
   },
   "outputs": [],
   "source": []
  }
 ],
 "metadata": {
  "kernelspec": {
   "display_name": "Python 3",
   "language": "python",
   "name": "python3"
  },
  "language_info": {
   "codemirror_mode": {
    "name": "ipython",
    "version": 3
   },
   "file_extension": ".py",
   "mimetype": "text/x-python",
   "name": "python",
   "nbconvert_exporter": "python",
   "pygments_lexer": "ipython3",
   "version": "3.5.2"
  }
 },
 "nbformat": 4,
 "nbformat_minor": 0
}
