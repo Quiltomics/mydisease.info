{
 "cells": [
  {
   "cell_type": "markdown",
   "metadata": {},
   "source": [
    "## Point prevalence, prevalence at birth, lifetime prevalence, annual incidence, number of cases an/or families\n",
    "\n",
    "http://www.orphadata.org/data/xml/en_product2_prev.xml\n",
    "\n",
    "http://www.orphadata.org/cgi-bin/docs/userguide2014.pdf"
   ]
  },
  {
   "cell_type": "markdown",
   "metadata": {},
   "source": [
    "DisorderType: can be either Disease, Clinical syndrome, Malformation syndrome,\n",
    "Biological anomaly, Morphological anomaly, Group of phenomes, Etiological subtype,\n",
    "Clinical subtype, Histopathological subtype or Particular clinical situation in a disease\n",
    "or syndrome\n",
    "\n",
    "PrevalenceList count: total number of epidemiological data of a given entry.\n",
    "\n",
    "PrevalenceType: can be either “Point prevalence”, “birth prevalence”, “lifelong\n",
    "prevalence”, “incidence”, “cases/families”.\n",
    "\n",
    "PrevalenceQualification: can be either “Value and Class”, “Only class”, “Case” or “Family”\n",
    "\n",
    "PrevalenceClass: estimated prevalence of a given entry. There are eight possible values: \n",
    "\\>1 / 1,000, 1-5 / 10,000, 6-9 / 10,000, 1-9 / 100,000, 1-9 / 1,000,000 or <1 / 1,000,000, Not yet documented, Unknown\n",
    "\n",
    "ValMoy: Mean value of a given prevalence type. By default, the mean value is 0.0 when only a class is documented.\n",
    "\n",
    "PrevalenceGeographic: Geographic area of a given prevalence type\n",
    "\n",
    "Source: Source of information of a given prevalence type.\n",
    "\n",
    "PrevalenceValidationStatus: can be either Validated or Not yet validated"
   ]
  },
  {
   "cell_type": "code",
   "execution_count": 12,
   "metadata": {
    "collapsed": true
   },
   "outputs": [],
   "source": [
    "import xml.etree.ElementTree as et\n",
    "from collections import defaultdict"
   ]
  },
  {
   "cell_type": "code",
   "execution_count": 48,
   "metadata": {
    "collapsed": false
   },
   "outputs": [],
   "source": [
    "tree = et.parse('/home/gstupp/projects/biothings/mydisease/mydisease/data/en_product2_prev.xml')\n",
    "root = tree.getroot()"
   ]
  },
  {
   "cell_type": "code",
   "execution_count": 49,
   "metadata": {
    "collapsed": false
   },
   "outputs": [],
   "source": [
    "d = defaultdict(lambda: defaultdict(list))\n",
    "for disease in root.find(\"DisorderList\"):    \n",
    "    name = disease.find(\"Name\").text\n",
    "    orpha = \"Orphanet:\" + disease.find(\"OrphaNumber\").text\n",
    "    disease_type = disease.find(\"DisorderType/Name\").text\n",
    "    prevalences = disease.findall(\"PrevalenceList/Prevalence\")\n",
    "    for prev in prevalences:\n",
    "        source = prev.find(\"Source\").text\n",
    "        prevalence_type = prev.find(\"PrevalenceType/Name\").text\n",
    "        prevalence_qual = prev.find(\"PrevalenceQualification/Name\").text\n",
    "        prevalence_geo = prev.find(\"PrevalenceGeographic/Name\").text\n",
    "        prevalence_val_status = prev.find(\"PrevalenceValidationStatus/Name\").text\n",
    "        valmoy = prev.find(\"ValMoy\").text\n",
    "        prev_d = {'source': source, 'prevalence_type': prevalence_type, 'prevalence_qualification': prevalence_qual,\n",
    "            'prevalence_geographic': prevalence_geo, 'prevalence_validation_status': prevalence_val_status,\n",
    "            'mean_value': valmoy}\n",
    "        \n",
    "        if prev.find(\"PrevalenceClass/Name\") is not None:\n",
    "            prev_d['prevalence_class'] = prev.find(\"PrevalenceClass/Name\").text\n",
    "        d[orpha]['prevalence'].append(prev_d)\n",
    "    #d[orpha] = dict(d[orpha])"
   ]
  },
  {
   "cell_type": "code",
   "execution_count": 50,
   "metadata": {
    "collapsed": false
   },
   "outputs": [
    {
     "data": {
      "text/plain": [
       "defaultdict(list,\n",
       "            {'prevalence': [{'mean_value': '4.0',\n",
       "               'prevalence_geographic': 'Worldwide',\n",
       "               'prevalence_qualification': 'Case',\n",
       "               'prevalence_type': 'Cases/families',\n",
       "               'prevalence_validation_status': 'Validated',\n",
       "               'source': '11389160[PMID]_9689990[PMID]_ [EXPERT]'},\n",
       "              {'mean_value': '0.0',\n",
       "               'prevalence_class': '<1 / 1 000 000',\n",
       "               'prevalence_geographic': 'Worldwide',\n",
       "               'prevalence_qualification': 'Class only',\n",
       "               'prevalence_type': 'Point prevalence',\n",
       "               'prevalence_validation_status': 'Validated',\n",
       "               'source': 'ORPHANET_11389160[PMID]_9689990[PMID]'}]})"
      ]
     },
     "execution_count": 50,
     "metadata": {},
     "output_type": "execute_result"
    }
   ],
   "source": [
    "d['Orphanet:166024']"
   ]
  },
  {
   "cell_type": "markdown",
   "metadata": {},
   "source": [
    "## Type of inheritance, average age of onset and average age of death\n",
    "\n",
    "http://www.orphadata.org/data/xml/en_product2_ages.xml\n"
   ]
  },
  {
   "cell_type": "markdown",
   "metadata": {},
   "source": [
    "AverageAgeOfOnset: classes based on the estimated average age of entry onset.\n",
    "There are ten different population age groups: Antenatal, Neonatal, Infancy,\n",
    "Childhood, Adolescence, Adult, Elderly, All ages and No data available.\n",
    "\n",
    "AverageAgeOfDeath: classes based on the estimated average age at death for a\n",
    "given entry. There are twelve different population age groups: Embryofoetal, Stillbirth,\n",
    "Infantile, Early Childhood, Late Childhood, Adolescent,Young adult, Adult, Elderly,\n",
    "Any age, Normal life expectancy and No data available.\n",
    "\n",
    "TypeOfInheritance: type(s) of inheritance associated with a given disease. There are\n",
    "thirteen different types of inheritance: Autosomal dominant, Autosomal recessive, Xlinked\n",
    "dominant, X-linked recessive, Chromosomal, Mitochondrial inheritance,\n",
    "Multigenic/multifactorial, Oligogenic, Semi-dominant, Y-linked, No data available, Not\n",
    "applicable, Not yet documented."
   ]
  },
  {
   "cell_type": "code",
   "execution_count": 52,
   "metadata": {
    "collapsed": false
   },
   "outputs": [],
   "source": [
    "tree = et.parse('/home/gstupp/projects/biothings/mydisease/mydisease/data/en_product2_ages.xml')\n",
    "root = tree.getroot()"
   ]
  },
  {
   "cell_type": "code",
   "execution_count": 53,
   "metadata": {
    "collapsed": true
   },
   "outputs": [],
   "source": [
    "for disease in root.find(\"DisorderList\"):    \n",
    "    orpha = \"Orphanet:\" + disease.find(\"OrphaNumber\").text\n",
    "    aoo = [x.find(\"Name\").text for x in disease.findall(\"AverageAgeOfOnsetList/AverageAgeOfOnset\")]\n",
    "    aod = [x.find(\"Name\").text for x in disease.findall(\"AverageAgeOfDeathList/AverageAgeOfDeath\")]\n",
    "    toi = [x.find(\"Name\").text for x in disease.findall(\"TypeOfInheritanceList/TypeOfInheritance\")]\n",
    "    ages_d = {'ave_age_of_onset': aoo, 'ave_age_of_death': aod, 'type_of_inheritance': toi}\n",
    "    d[orpha].update(ages_d)"
   ]
  },
  {
   "cell_type": "code",
   "execution_count": 54,
   "metadata": {
    "collapsed": false
   },
   "outputs": [
    {
     "data": {
      "text/plain": [
       "defaultdict(list,\n",
       "            {'ave_age_of_death': [],\n",
       "             'ave_age_of_onset': ['Infancy', 'Neonatal'],\n",
       "             'prevalence': [{'mean_value': '4.0',\n",
       "               'prevalence_geographic': 'Worldwide',\n",
       "               'prevalence_qualification': 'Case',\n",
       "               'prevalence_type': 'Cases/families',\n",
       "               'prevalence_validation_status': 'Validated',\n",
       "               'source': '11389160[PMID]_9689990[PMID]_ [EXPERT]'},\n",
       "              {'mean_value': '0.0',\n",
       "               'prevalence_class': '<1 / 1 000 000',\n",
       "               'prevalence_geographic': 'Worldwide',\n",
       "               'prevalence_qualification': 'Class only',\n",
       "               'prevalence_type': 'Point prevalence',\n",
       "               'prevalence_validation_status': 'Validated',\n",
       "               'source': 'ORPHANET_11389160[PMID]_9689990[PMID]'}],\n",
       "             'type_of_inheritance': ['Autosomal recessive']})"
      ]
     },
     "execution_count": 54,
     "metadata": {},
     "output_type": "execute_result"
    }
   ],
   "source": [
    "d['Orphanet:166024']"
   ]
  },
  {
   "cell_type": "markdown",
   "metadata": {},
   "source": [
    "## Phenotypes associated with rare disorders\n",
    "\n",
    "http://www.orphadata.org/cgi-bin/inc/product4.inc.php\n",
    "\n",
    "http://www.orphadata.org/data/xml/en_product4_HPO.xml"
   ]
  },
  {
   "cell_type": "markdown",
   "metadata": {},
   "source": [
    "Frequencies:\n",
    "- Obligate: the phenotype is always present and the diagnosis could not be achieved in its absence;\n",
    "- Very frequent: the phenotype is present in 80 to 99% of the patient population ;\n",
    "- Frequent: the phenotype is present in 30 to 79% of the patient population ;\n",
    "- Occasional: the phenotype is present in 5 to 29% of the patient population ;\n",
    "- Very rare: the phenotype is present in 1 to 4% of the patient population ;\n",
    "- Excluded: the phenotype is always absent AND is an exclusion criteria for diagnosing the disorder.\n",
    "\n",
    "Diagnostic criterion: A diagnostic criterion is a phenotypic abnormality used consensually to\n",
    "assess the diagnosis of a disorder. Multiple sets of diagnostic criteria are necessary to\n",
    "achieve the diagnosis. Orphanet indicates only diagnostic criteria that are consensually\n",
    "accepted by the experts of the medical domain AND published in medical literature.\n",
    "Depending of the medical consensus, they could be further qualified as minor, major,\n",
    "etc…This level of precision is yet not informed in the Orphanet dataset.\n",
    "\n",
    "Pathognomonic sign: A pathognomonic phenotype is a feature sufficient by itself to establish\n",
    "definitively and beyond any doubt the diagnosis of the disease concerned (i.e. heliotrope\n",
    "erytheme for dermatomyosistis).\n",
    "Files are available in 7 different languages ("
   ]
  },
  {
   "cell_type": "markdown",
   "metadata": {},
   "source": [
    "<HPODisorderAssociation id=\"10225\">\n",
    "  <HPO id=\"166\">\n",
    "    <HPOId>HP:0001945</HPOId>\n",
    "    <HPOTerm>Fever</HPOTerm>\n",
    "  </HPO>\n",
    "  <HPOFrequency id=\"28419\">\n",
    "    <OrphaNumber>453312</OrphaNumber>\n",
    "    <Name lang=\"en\">Frequent (79-30%)</Name>\n",
    "  </HPOFrequency>\n",
    "  <DiagnosticCriteria id=\"28447\">\n",
    "    <OrphaNumber>453316</OrphaNumber>\n",
    "    <Name lang=\"en\">Pathognomonic sign</Name>\n",
    "  </DiagnosticCriteria>\n",
    "</HPODisorderAssociation>"
   ]
  },
  {
   "cell_type": "code",
   "execution_count": 55,
   "metadata": {
    "collapsed": true
   },
   "outputs": [],
   "source": [
    "tree = et.parse('/home/gstupp/projects/biothings/mydisease/mydisease/data/en_product4_HPO.xml')\n",
    "root = tree.getroot()"
   ]
  },
  {
   "cell_type": "code",
   "execution_count": 56,
   "metadata": {
    "collapsed": false
   },
   "outputs": [],
   "source": [
    "for disease in root.find(\"DisorderList\"):    \n",
    "    orpha = \"Orphanet:\" + disease.find(\"OrphaNumber\").text\n",
    "    associations = disease.findall(\"HPODisorderAssociationList/HPODisorderAssociation\")\n",
    "    for ass in associations:\n",
    "        hpo_id = ass.find(\"HPO/HPOId\").text\n",
    "        hpo_name = ass.find(\"HPO/HPOTerm\").text\n",
    "        frequency = ass.find(\"HPOFrequency/Name\").text\n",
    "        pheno_d = {'phenotype_id': hpo_id, 'phenotype_name': hpo_name, \n",
    "                   'frequency': frequency}\n",
    "        if ass.find(\"DiagnosticCriteria/Name\") is not None:\n",
    "            pheno_d['diagnostic_criteria'] = ass.find(\"DiagnosticCriteria/Name\").text\n",
    "        d[orpha]['phenotypes'].append(pheno_d)"
   ]
  },
  {
   "cell_type": "code",
   "execution_count": 58,
   "metadata": {
    "collapsed": false
   },
   "outputs": [
    {
     "data": {
      "text/plain": [
       "defaultdict(list,\n",
       "            {'ave_age_of_death': [],\n",
       "             'ave_age_of_onset': ['Infancy', 'Neonatal'],\n",
       "             'phenotypes': [{'frequency': 'Very frequent (99-80%)',\n",
       "               'phenotype_id': 'HP:0000256',\n",
       "               'phenotype_name': 'Macrocephaly'},\n",
       "              {'frequency': 'Very frequent (99-80%)',\n",
       "               'phenotype_id': 'HP:0000272',\n",
       "               'phenotype_name': 'Malar flattening'},\n",
       "              {'frequency': 'Very frequent (99-80%)',\n",
       "               'phenotype_id': 'HP:0000316',\n",
       "               'phenotype_name': 'Hypertelorism'},\n",
       "              {'frequency': 'Very frequent (99-80%)',\n",
       "               'phenotype_id': 'HP:0000369',\n",
       "               'phenotype_name': 'Low-set ears'},\n",
       "              {'frequency': 'Very frequent (99-80%)',\n",
       "               'phenotype_id': 'HP:0000470',\n",
       "               'phenotype_name': 'Short neck'},\n",
       "              {'frequency': 'Very frequent (99-80%)',\n",
       "               'phenotype_id': 'HP:0000767',\n",
       "               'phenotype_name': 'Pectus excavatum'},\n",
       "              {'frequency': 'Frequent (79-30%)',\n",
       "               'phenotype_id': 'HP:0001274',\n",
       "               'phenotype_name': 'Agenesis of corpus callosum'},\n",
       "              {'frequency': 'Very frequent (99-80%)',\n",
       "               'phenotype_id': 'HP:0001373',\n",
       "               'phenotype_name': 'Joint dislocation'},\n",
       "              {'frequency': 'Frequent (79-30%)',\n",
       "               'phenotype_id': 'HP:0001513',\n",
       "               'phenotype_name': 'Obesity'},\n",
       "              {'frequency': 'Very frequent (99-80%)',\n",
       "               'phenotype_id': 'HP:0002007',\n",
       "               'phenotype_name': 'Frontal bossing'},\n",
       "              {'frequency': 'Very frequent (99-80%)',\n",
       "               'phenotype_id': 'HP:0002758',\n",
       "               'phenotype_name': 'Osteoarthritis'},\n",
       "              {'frequency': 'Very frequent (99-80%)',\n",
       "               'phenotype_id': 'HP:0002857',\n",
       "               'phenotype_name': 'Genu valgum'},\n",
       "              {'frequency': 'Very frequent (99-80%)',\n",
       "               'phenotype_id': 'HP:0005930',\n",
       "               'phenotype_name': 'Abnormality of epiphysis morphology'},\n",
       "              {'frequency': 'Very frequent (99-80%)',\n",
       "               'phenotype_id': 'HP:0006101',\n",
       "               'phenotype_name': 'Finger syndactyly'},\n",
       "              {'frequency': 'Frequent (79-30%)',\n",
       "               'phenotype_id': 'HP:0012444',\n",
       "               'phenotype_name': 'Brain atrophy'},\n",
       "              {'frequency': 'Very frequent (99-80%)',\n",
       "               'phenotype_id': 'HP:0030084',\n",
       "               'phenotype_name': 'Clinodactyly'}],\n",
       "             'prevalence': [{'mean_value': '4.0',\n",
       "               'prevalence_geographic': 'Worldwide',\n",
       "               'prevalence_qualification': 'Case',\n",
       "               'prevalence_type': 'Cases/families',\n",
       "               'prevalence_validation_status': 'Validated',\n",
       "               'source': '11389160[PMID]_9689990[PMID]_ [EXPERT]'},\n",
       "              {'mean_value': '0.0',\n",
       "               'prevalence_class': '<1 / 1 000 000',\n",
       "               'prevalence_geographic': 'Worldwide',\n",
       "               'prevalence_qualification': 'Class only',\n",
       "               'prevalence_type': 'Point prevalence',\n",
       "               'prevalence_validation_status': 'Validated',\n",
       "               'source': 'ORPHANET_11389160[PMID]_9689990[PMID]'}],\n",
       "             'type_of_inheritance': ['Autosomal recessive']})"
      ]
     },
     "execution_count": 58,
     "metadata": {},
     "output_type": "execute_result"
    }
   ],
   "source": [
    "d['Orphanet:166024']"
   ]
  },
  {
   "cell_type": "markdown",
   "metadata": {},
   "source": [
    "## Rare diseases with their associated genes\n",
    "\n",
    "http://www.orphadata.org/cgi-bin/inc/product6.inc.php\n",
    "\n",
    "http://www.orphadata.org/data/xml/en_product6.xml"
   ]
  },
  {
   "cell_type": "markdown",
   "metadata": {},
   "source": [
    "DisorderList count: total number of disorders, group of disorders and subtypes in the XML file.\n",
    "\n",
    "Orphanum: unique identifying number assigned by Orphanet to a given entry (disorder, group of disorders, subtype or gene).\n",
    "\n",
    "Name: preferred name of a given entry (disorder, group of disorders, subtype or gene).\n",
    "\n",
    "GeneList count: number of genes associated with a given entry.\n",
    "\n",
    "Symbol: official HGNC-approved gene symbol.\n",
    "\n",
    "Synonym list: list of synonyms for a given gene, including past symbols\n",
    "\n",
    "GeneType: can be either gene with protein product, locus or non-coding RNA\n",
    "\n",
    "GeneLocus: gene chromosomal location\n",
    "\n",
    "DisorderGeneAssociationType: gene-disease relationships. They can be either Role in the phenotype of, Disease-causing germline mutation(s) (loss of function) in, Disease-causing germline mutation(s) (gain of function) in, Disease-causing somatic mutation(s) in, Modifying somatic mutation in, Part of a fusion gene in, Major susceptibility factor in and Candidate gene tested in.\n",
    "\n",
    "DisorderGeneAssociationStatus: can be either Validated or Not validated\n",
    "\n",
    "External Reference List: list of references in HGNC, OMIM, GenAtlas and UniProtKB, Ensembl, Reactome and IU-PHAR associated with a given gene.\n",
    "\n",
    "Source: HGNC, OMIM, GenAtlas or UniProtKB.\n",
    "\n",
    "Reference: listed reference for a given source associated with a gene"
   ]
  },
  {
   "cell_type": "code",
   "execution_count": null,
   "metadata": {
    "collapsed": true
   },
   "outputs": [],
   "source": []
  }
 ],
 "metadata": {
  "kernelspec": {
   "display_name": "Python 3",
   "language": "python",
   "name": "python3"
  },
  "language_info": {
   "codemirror_mode": {
    "name": "ipython",
    "version": 3
   },
   "file_extension": ".py",
   "mimetype": "text/x-python",
   "name": "python",
   "nbconvert_exporter": "python",
   "pygments_lexer": "ipython3",
   "version": "3.5.2"
  }
 },
 "nbformat": 4,
 "nbformat_minor": 0
}
