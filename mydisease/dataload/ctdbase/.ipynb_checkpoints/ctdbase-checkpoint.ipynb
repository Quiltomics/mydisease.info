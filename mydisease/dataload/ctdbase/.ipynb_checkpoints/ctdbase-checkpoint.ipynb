{
 "cells": [
  {
   "cell_type": "code",
   "execution_count": 2,
   "metadata": {
    "collapsed": true
   },
   "outputs": [],
   "source": [
    "from pymongo import MongoClient\n",
    "client = MongoClient()\n",
    "db = client.mydisease.ctdbase"
   ]
  },
  {
   "cell_type": "code",
   "execution_count": 3,
   "metadata": {
    "collapsed": true
   },
   "outputs": [],
   "source": [
    "import gzip\n",
    "import json\n",
    "import os\n",
    "from collections import defaultdict\n",
    "from tqdm import tqdm\n",
    "import pandas as pd\n",
    "\n",
    "from mydisease import DATA_DIR\n",
    "from mydisease.dataload.ctdbase.download_raw_data import relationships\n",
    "pd.set_option('display.width', 1000)"
   ]
  },
  {
   "cell_type": "code",
   "execution_count": 4,
   "metadata": {
    "collapsed": true
   },
   "outputs": [],
   "source": [
    "def parse_diseaseid(did: str):\n",
    "    \"\"\" \n",
    "    The 'DiseaseID' column sometimes starts with the identifier prefix, and sometime doesnt\n",
    "    prefixes are {'MESH:','OMIM:'}\n",
    "    if an ID starts with 'C' or 'D', its MESH, if its an integer: 'OMIM'\n",
    "    \"\"\"\n",
    "    if did.startswith(\"OMIM:\") or did.startswith(\"MESH:\"):\n",
    "        return did\n",
    "    if did.startswith('C') or did.startswith('D'):\n",
    "        return 'MESH:' + did\n",
    "    if did.isdigit():\n",
    "        return \"OMIM:\" + did\n",
    "    print(\"warning: \" + did)\n",
    "    return did"
   ]
  },
  {
   "cell_type": "code",
   "execution_count": 5,
   "metadata": {
    "collapsed": true
   },
   "outputs": [],
   "source": [
    "def parse_csv_to_df(f):\n",
    "    line = next(f)\n",
    "    while not line.startswith(\"# Fields:\"):\n",
    "        line = next(f)\n",
    "    # parse the column headers from the comments\n",
    "    fields = next(f)[1:].strip().split(\",\")\n",
    "    df = pd.read_csv(f, delimiter=\",\", comment=\"#\")\n",
    "    df.columns = fields\n",
    "\n",
    "    # split pipe-delimited fields\n",
    "    fields_split = set(['DirectEvidence', 'OmimIDs', 'PubMedIDs', 'InferenceGeneSymbols']) & set(fields)\n",
    "    for field in fields_split:\n",
    "        # don't split NaN\n",
    "        field_split = df[field].dropna().astype(str).str.split(\"|\")\n",
    "        df[field][field_split.index] = field_split\n",
    "\n",
    "    df['DiseaseID'] = df['DiseaseID'].map(parse_diseaseid)\n",
    "    return df"
   ]
  },
  {
   "cell_type": "code",
   "execution_count": 6,
   "metadata": {
    "collapsed": true
   },
   "outputs": [],
   "source": [
    "def get_columns_to_keep(relationship):\n",
    "    if relationship in {'GO_BP', 'GO_CC', 'GO_MF'}:\n",
    "        columns_keep = ['GOID','InferenceGeneSymbols']\n",
    "    elif relationship == \"pathways\":\n",
    "        columns_keep = ['PathwayID','InferenceGeneSymbol']\n",
    "    elif relationship == \"chemicals\":\n",
    "        columns_keep = ['CasRN','ChemicalID','DirectEvidence','InferenceGeneSymbol','InferenceScore','OmimIDs','PubMedIDs']\n",
    "    elif relationship == \"genes\":\n",
    "        columns_keep = ['GeneID','DirectEvidence','InferenceScore','InferenceChemicalName','OmimIDs','PubMedIDs']\n",
    "    return columns_keep"
   ]
  },
  {
   "cell_type": "code",
   "execution_count": 7,
   "metadata": {
    "collapsed": true
   },
   "outputs": [],
   "source": [
    "def parse_df(db, df, relationship):\n",
    "    \"\"\"\n",
    "    df is parsed and added to mongodb (db)\n",
    "    \"\"\"\n",
    "    columns_keep = get_columns_to_keep(relationship)\n",
    "    total = len(set(df.DiseaseID))\n",
    "    for diseaseID, subdf in tqdm(df.groupby(\"DiseaseID\"), total=total):\n",
    "        sub = subdf[columns_keep].to_dict(orient=\"records\")\n",
    "        sub = [{k:v for k,v in s.items() if v==v} for s in sub] # get rid of nulls\n",
    "        db.update_one({'_id':diseaseID}, {'$set':{relationship: sub}}, upsert=True)"
   ]
  },
  {
   "cell_type": "code",
   "execution_count": 8,
   "metadata": {
    "collapsed": true
   },
   "outputs": [],
   "source": [
    "def process_genes(db, f):\n",
    "    \"\"\"\n",
    "    # for the genes file, which is enormous, we need to do something different\n",
    "    # basically same as others, but in chunks\n",
    "    d is modified in place!!\n",
    "    \n",
    "    note: this will fail\n",
    "    WriteError: Resulting document after update is larger than 16777216\n",
    "\n",
    "    \"\"\"\n",
    "    chunksize = 100000\n",
    "    names = ['GeneSymbol', 'GeneID', 'DiseaseName', 'DiseaseID', 'DirectEvidence',\n",
    "             'InferenceChemicalName', 'InferenceScore', 'OmimIDs', 'PubMedIDs']\n",
    "    for df in tqdm(pd.read_csv(f, delimiter=\",\", comment=\"#\", header=None, chunksize=chunksize, \n",
    "                          low_memory=False, names=names), total = 49867785/chunksize):\n",
    "        fields_split = ['DirectEvidence', 'OmimIDs', 'PubMedIDs']\n",
    "        for field in fields_split:\n",
    "            field_split = df[field].dropna().astype(str).str.split(\"|\")\n",
    "            df[field][field_split.index] = field_split\n",
    "        columns_keep = get_columns_to_keep('genes')\n",
    "        df['DiseaseID'] = df['DiseaseID'].map(parse_diseaseid)\n",
    "        for diseaseID, subdf in df.groupby(\"DiseaseID\"):\n",
    "            sub = subdf[columns_keep].to_dict(orient=\"records\")\n",
    "            # get rid of nulls\n",
    "            sub = [{k:v for k,v in s.items() if v==v} for s in sub]\n",
    "            \n",
    "            db.update_one({'_id':diseaseID}, {'$push':{relationship: {'$each': sub}}}, upsert=True)"
   ]
  },
  {
   "cell_type": "code",
   "execution_count": null,
   "metadata": {
    "collapsed": false,
    "scrolled": true
   },
   "outputs": [
    {
     "name": "stdout",
     "output_type": "stream",
     "text": [
      "genes\n",
      "GO_CC\n"
     ]
    },
    {
     "name": "stderr",
     "output_type": "stream",
     "text": [
      "/usr/local/lib/python3.5/dist-packages/ipykernel/__main__.py:15: SettingWithCopyWarning: \n",
      "A value is trying to be set on a copy of a slice from a DataFrame\n",
      "\n",
      "See the caveats in the documentation: http://pandas.pydata.org/pandas-docs/stable/indexing.html#indexing-view-versus-copy\n",
      "100%|██████████| 4297/4297 [00:06<00:00, 668.14it/s]\n"
     ]
    },
    {
     "name": "stdout",
     "output_type": "stream",
     "text": [
      "pathways\n"
     ]
    },
    {
     "name": "stderr",
     "output_type": "stream",
     "text": [
      "100%|██████████| 3556/3556 [00:06<00:00, 575.12it/s]\n"
     ]
    },
    {
     "name": "stdout",
     "output_type": "stream",
     "text": [
      "GO_BP\n"
     ]
    },
    {
     "name": "stderr",
     "output_type": "stream",
     "text": [
      "100%|██████████| 4298/4298 [00:17<00:00, 250.32it/s]\n"
     ]
    },
    {
     "name": "stdout",
     "output_type": "stream",
     "text": [
      "chemicals\n"
     ]
    }
   ],
   "source": [
    "for relationship, file_path in relationships.items():\n",
    "    print(relationship)\n",
    "    with gzip.open(os.path.join(DATA_DIR, file_path), 'rt', encoding='utf-8') as f:\n",
    "        if relationship == \"genes\":\n",
    "            #process_genes(db, f)\n",
    "            pass\n",
    "        else:\n",
    "            df = parse_csv_to_df(f)\n",
    "            \n",
    "            parse_df(db, df, relationship)"
   ]
  },
  {
   "cell_type": "code",
   "execution_count": null,
   "metadata": {
    "collapsed": false
   },
   "outputs": [],
   "source": [
    "db.count()"
   ]
  },
  {
   "cell_type": "code",
   "execution_count": null,
   "metadata": {
    "collapsed": false
   },
   "outputs": [],
   "source": [
    "doc = db.find_one({'genes':{'$exists':True}})"
   ]
  },
  {
   "cell_type": "code",
   "execution_count": null,
   "metadata": {
    "collapsed": false
   },
   "outputs": [],
   "source": [
    "from collections import Counter\n",
    "Counter([x['_id'][:6] for x in db.find({},{'_id':1})])"
   ]
  },
  {
   "cell_type": "code",
   "execution_count": null,
   "metadata": {
    "collapsed": false
   },
   "outputs": [],
   "source": [
    "db.find_one('MESH:D006954')"
   ]
  },
  {
   "cell_type": "code",
   "execution_count": null,
   "metadata": {
    "collapsed": true
   },
   "outputs": [],
   "source": []
  }
 ],
 "metadata": {
  "kernelspec": {
   "display_name": "Python 3",
   "language": "python",
   "name": "python3"
  },
  "language_info": {
   "codemirror_mode": {
    "name": "ipython",
    "version": 3
   },
   "file_extension": ".py",
   "mimetype": "text/x-python",
   "name": "python",
   "nbconvert_exporter": "python",
   "pygments_lexer": "ipython3",
   "version": "3.5.2"
  }
 },
 "nbformat": 4,
 "nbformat_minor": 0
}
